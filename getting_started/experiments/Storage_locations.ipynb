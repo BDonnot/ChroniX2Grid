{
 "cells": [
  {
   "cell_type": "markdown",
   "id": "7f6d2dbb",
   "metadata": {},
   "source": [
    "Ce notebook a pour but d'essayer de voir ou on pourrait mettre du stockage dans le réseau \"cible\" pour la compétition, et aussi (surtout) pour la thèse d'Eva."
   ]
  },
  {
   "cell_type": "code",
   "execution_count": null,
   "id": "140e8cad",
   "metadata": {},
   "outputs": [],
   "source": [
    "import numpy as np\n",
    "import os\n",
    "import pandas as pd\n",
    "import grid2op\n",
    "from grid2op.Chronics import ChangeNothing\n",
    "from chronix2grid.kpi.Generator_parameter_checker import EnergyMix_AprioriChecker\n",
    "import plotly\n",
    "import plotly.graph_objects as go\n",
    "from grid2op.PlotGrid import NUKE_COLOR, THERMAL_COLOR, WIND_COLOR, SOLAR_COLOR, HYDRO_COLOR\n",
    "import json\n",
    "import copy\n",
    "\n",
    "# for pandas interactive plots\n",
    "import cufflinks as cf\n",
    "cf.go_offline()\n",
    "cf.set_config_file(offline=False, world_readable=True)"
   ]
  },
  {
   "cell_type": "code",
   "execution_count": null,
   "id": "7ab4435e",
   "metadata": {},
   "outputs": [],
   "source": [
    "env_name = \"case118_l2rpn_wcci_benjamin\"\n",
    "path_ref = os.path.join(\"..\", \"example\", \"input\", \"generation\")\n",
    "input_path = os.path.join(path_ref, env_name)\n",
    "grid_path = os.path.join(input_path, \"grid.json\")\n",
    "env = grid2op.make(\n",
    "    input_path,\n",
    "    test=True,\n",
    "    grid_path=grid_path, # assign it the 118 grid\n",
    "    chronics_class=ChangeNothing, # tell it to change nothing (not the most usable environment...)\n",
    ")"
   ]
  },
  {
   "cell_type": "markdown",
   "id": "d1fcdbd9",
   "metadata": {},
   "source": [
    "Le réseau en général"
   ]
  },
  {
   "cell_type": "code",
   "execution_count": null,
   "id": "b50db8d9",
   "metadata": {},
   "outputs": [],
   "source": [
    "from grid2op.PlotGrid import PlotMatplot\n",
    "plot_helper = PlotMatplot(env)\n",
    "_ = plot_helper.plot_layout()"
   ]
  },
  {
   "cell_type": "markdown",
   "id": "76e74335",
   "metadata": {},
   "source": [
    "Le niveau de tension des lignes (2 niveaux de tension, 135 et 350.)"
   ]
  },
  {
   "cell_type": "code",
   "execution_count": null,
   "id": "6fc49a4f",
   "metadata": {},
   "outputs": [],
   "source": [
    "plot_helper.assign_line_palette(line_color_scheme=[\"blue\", \"black\", \"red\"])\n",
    "lines_info = env.backend.lines_or_pu_to_kv\n",
    "lines_info[env.backend.lines_ex_pu_to_kv != lines_info] = (345 + 138) * 0.5\n",
    "_ = plot_helper.plot_info(line_values=env.backend.lines_or_pu_to_kv, coloring=\"line\")"
   ]
  },
  {
   "cell_type": "markdown",
   "id": "46a51d7c",
   "metadata": {},
   "source": [
    "Les types de générateurs"
   ]
  },
  {
   "cell_type": "code",
   "execution_count": null,
   "id": "cb8403cb",
   "metadata": {},
   "outputs": [],
   "source": [
    "_ = plot_helper.plot_gen_type()"
   ]
  },
  {
   "cell_type": "markdown",
   "id": "07d392fd",
   "metadata": {},
   "source": [
    "Les générateurs controlables:\n",
    "<img src=\"img/gen_controlable.png\" width=\"100%\">"
   ]
  },
  {
   "cell_type": "markdown",
   "id": "8ca90ee5",
   "metadata": {},
   "source": [
    "Les générateurs éoliens (entouré = gros éoliens = éolien en mer, en tiret = moyen éolien pas entouré = petit éolien ):\n",
    "<img src=\"img/gros_eolien.png\" width=\"100%\">"
   ]
  },
  {
   "cell_type": "markdown",
   "id": "1ac29c4c",
   "metadata": {},
   "source": [
    "Les grosses conso (1 trait max >= 50 MW 2 traits => max >= 100 MW ):\n",
    "<img src=\"img/big_loads.png\" width=\"100%\">"
   ]
  },
  {
   "cell_type": "markdown",
   "id": "a9b07062",
   "metadata": {},
   "source": [
    "Un \"partionnement\" du réseau \n",
    "<img src=\"img/decoupage_du_reseau.png\" width=\"100%\">"
   ]
  },
  {
   "cell_type": "markdown",
   "id": "334ae374",
   "metadata": {},
   "source": [
    "Les lignes qu'on considère être en \"surchageable\" (=point faible du réseau, d'un point de vue réseau)\n",
    "<img src=\"img/line_in_overload.png\" width=\"100%\">"
   ]
  },
  {
   "cell_type": "markdown",
   "id": "c8f684a4",
   "metadata": {},
   "source": [
    "Les lignes qu'on considère être fragiles, qui vont déconnecter (n-1) \"facilement\" (=lignes plutot vieilles et mal entretenues)\n",
    "<img src=\"img/line_attackable.png\" width=\"100%\">"
   ]
  },
  {
   "cell_type": "markdown",
   "id": "4e290865",
   "metadata": {},
   "source": [
    "# Quelques questions\n",
    "\n",
    "Si on avait des lignes \"à surcharger\", on les mettrait ou ?\n",
    "\n",
    "Ou mettre des batteries ?\n",
    "\n",
    "Quelles \"puissance / capacité\" pour les batteries ?\n",
    "\n",
    "Pour ringo: 12 MW, 24 MWh (2h à pleine puissance)"
   ]
  },
  {
   "cell_type": "markdown",
   "id": "9cbe4458",
   "metadata": {},
   "source": [
    "Une batterie sur le poste 112, 95 (mieux, mais 79 c'est possible aussi), 58 (ou 55), 44 (ou 45, sur le cas particulier présenté elle est mieux en 45 qu'en 44), 76, 41, 22 (surtout si on surchage 18 -> 19 -> 20 -> 21 -> 22)\n",
    "\n",
    "Batterie bien sur des lignes rouge, avec peu de groupes dans le secteur. La ou il faut les mettre c'est la ou il y a du rouge, et aux endroits ou il y a des problemes.\n",
    "\n",
    "Il faudrait savoir ou sont les contraintes (ou est-ce qu'on les tape les plus souvent)\n",
    "\n",
    "Batterie moins cher que l'ecretement, moins cher que les groupes (la batterie devrait être sélectionnée en premier, juste un peu plus cher que la topo => on a plutot envie de dire qu'on ne fait pas de manoeuvres pour 15 mins donc dans ce cas la batterie est \"moins chere\")\n",
    "\n",
    "rendement 95% en charge et en décharge, pas de décharge \"en énergie\""
   ]
  }
 ],
 "metadata": {
  "kernelspec": {
   "display_name": "Python 3",
   "language": "python",
   "name": "python3"
  },
  "language_info": {
   "codemirror_mode": {
    "name": "ipython",
    "version": 3
   },
   "file_extension": ".py",
   "mimetype": "text/x-python",
   "name": "python",
   "nbconvert_exporter": "python",
   "pygments_lexer": "ipython3",
   "version": "3.8.10"
  }
 },
 "nbformat": 4,
 "nbformat_minor": 5
}
