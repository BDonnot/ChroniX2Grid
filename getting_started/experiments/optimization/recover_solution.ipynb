{
 "cells": [
  {
   "cell_type": "code",
   "execution_count": 5,
   "metadata": {},
   "outputs": [],
   "source": [
    "import numpy as np\n",
    "import os\n",
    "import pandas as pd"
   ]
  },
  {
   "cell_type": "code",
   "execution_count": 6,
   "metadata": {},
   "outputs": [],
   "source": [
    "input_path = os.path.join(\"..\", \"..\", \"example\", \"input\", \"generation\", \"case118_l2rpn_wcci\")\n",
    "df = pd.read_csv(os.path.join(input_path, \"prods_charac.csv\"))\n",
    "\n",
    "\n",
    "n = df.shape[0]\n",
    "avg_pmaxs = df.groupby([\"type\"])[\"Pmax\"].mean()\n",
    "max_ramp_up = df.groupby([\"type\"])[\"max_ramp_up\"].mean()\n",
    "max_ramp_down = df.groupby([\"type\"])[\"max_ramp_down\"].mean()\n",
    "min_up_time = df.groupby([\"type\"])[\"min_up_time\"].mean()\n",
    "min_down_time = df.groupby([\"type\"])[\"min_down_time\"].mean()\n",
    "marginal_cost = df.groupby([\"type\"])[\"marginal_cost\"].mean()\n",
    "shut_down_cost = df.groupby([\"type\"])[\"shut_down_cost\"].mean()\n",
    "start_cost = df.groupby([\"type\"])[\"start_cost\"].mean()\n",
    "\n",
    "\n",
    "types = avg_pmaxs.index.to_numpy()\n",
    "avg_pmaxs = avg_pmaxs.to_numpy()"
   ]
  },
  {
   "cell_type": "code",
   "execution_count": 7,
   "metadata": {},
   "outputs": [],
   "source": [
    "file = open(\"solver/build/result.txt\")\n",
    "for i in range(n):\n",
    "  idx = int(file.readline())\n",
    "  df.at[i, \"type\"] = types[idx]\n",
    "  df.at[i, \"Pmax\"] = avg_pmaxs[idx]\n",
    "  df.at[i, \"max_ramp_up\"] = max_ramp_up[idx]\n",
    "  df.at[i, \"max_ramp_down\"] = max_ramp_down[idx]\n",
    "  df.at[i, \"min_up_time\"] = min_up_time[idx]\n",
    "  df.at[i, \"min_down_time\"] = min_down_time[idx]\n",
    "  df.at[i, \"marginal_cost\"] = marginal_cost[idx]\n",
    "  df.at[i, \"shut_down_cost\"] = shut_down_cost[idx]\n",
    "  df.at[i, \"start_cost\"] = start_cost[idx]"
   ]
  },
  {
   "cell_type": "code",
   "execution_count": 8,
   "metadata": {},
   "outputs": [],
   "source": [
    "df.to_csv(\"../../example/custom/input/generation/case118_l2rpn_wcci/prods_charac.csv\", index=False)"
   ]
  },
  {
   "cell_type": "code",
   "execution_count": null,
   "metadata": {},
   "outputs": [],
   "source": []
  }
 ],
 "metadata": {
  "interpreter": {
   "hash": "31f2aee4e71d21fbe5cf8b01ff0e069b9275f58929596ceb00d14d90e3e16cd6"
  },
  "kernelspec": {
   "display_name": "Python 3.8.10 64-bit",
   "language": "python",
   "name": "python3"
  },
  "language_info": {
   "codemirror_mode": {
    "name": "ipython",
    "version": 3
   },
   "file_extension": ".py",
   "mimetype": "text/x-python",
   "name": "python",
   "nbconvert_exporter": "python",
   "pygments_lexer": "ipython3",
   "version": "3.8.10"
  },
  "orig_nbformat": 4
 },
 "nbformat": 4,
 "nbformat_minor": 2
}
