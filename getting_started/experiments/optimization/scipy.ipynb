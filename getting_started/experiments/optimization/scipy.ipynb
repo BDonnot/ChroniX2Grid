{
 "cells": [
  {
   "cell_type": "code",
   "execution_count": 1,
   "metadata": {},
   "outputs": [],
   "source": [
    "import numpy as np\n",
    "import os\n",
    "import pandas as pd\n",
    "from scipy.optimize import minimize, Bounds"
   ]
  },
  {
   "cell_type": "markdown",
   "metadata": {},
   "source": [
    "We load our example grid and extract some useful data."
   ]
  },
  {
   "cell_type": "code",
   "execution_count": 2,
   "metadata": {},
   "outputs": [],
   "source": [
    "input_path = os.path.join(\"..\", \"example\", \"input\", \"generation\", \"case118_l2rpn_wcci\")\n",
    "df = pd.read_csv(os.path.join(input_path, \"prods_charac.csv\"))\n",
    "\n",
    "\n",
    "n = df.shape[0]\n",
    "avg_pmaxs = df.groupby([\"type\"])[\"Pmax\"].mean()\n",
    "types = avg_pmaxs.index.to_numpy()\n",
    "avg_pmaxs = avg_pmaxs.to_numpy()\n",
    "capacity_factor = np.array([30, 95, 15, np.nan, 25])\n",
    "average_load = 2800\n",
    "target_energy_mix = np.array([9., 36., 17., 2., 36.])\n",
    "target_pmax = 15000"
   ]
  },
  {
   "cell_type": "code",
   "execution_count": 3,
   "metadata": {},
   "outputs": [],
   "source": [
    "def type2idx(t):\n",
    "  result = np.where(types == t)\n",
    "  return result[0][0]"
   ]
  },
  {
   "cell_type": "code",
   "execution_count": 4,
   "metadata": {},
   "outputs": [],
   "source": [
    "x = np.ones(6+n) * 1000\n",
    "\n",
    "for i, row in df.iterrows():\n",
    "\n",
    "  x[i+6] = type2idx(row[\"type\"])"
   ]
  },
  {
   "cell_type": "code",
   "execution_count": 5,
   "metadata": {},
   "outputs": [],
   "source": [
    "def get_pmaxs(x):\n",
    "  idx = np.round(x)\n",
    "  pmaxs = np.zeros(types.shape)\n",
    "  for i in range(types.shape[0]):\n",
    "    mask = idx == i\n",
    "    pmaxs[i] = avg_pmaxs[i] * mask.sum()\n",
    "  return pmaxs\n",
    "\n",
    "def get_apriori_energy_mix(pmaxs, capacity_factor, average_load):\n",
    "  apriori_energy_mix = capacity_factor * pmaxs / average_load\n",
    "  total = np.nansum(apriori_energy_mix)\n",
    "  if total > 100:\n",
    "    #print(\"WARNING: apriori energy mix w/o thermal exceeds average load!\")\n",
    "    apriori_energy_mix[0] -= (total - 100)\n",
    "    apriori_energy_mix[3] = 0\n",
    "  else:\n",
    "    apriori_energy_mix[3] = 100 - total\n",
    "  return apriori_energy_mix\n",
    "\n",
    "def split_slack_vars(x):\n",
    "  n = types.shape[0] + 1\n",
    "  return x[:n], x[n:]"
   ]
  },
  {
   "cell_type": "code",
   "execution_count": 6,
   "metadata": {},
   "outputs": [],
   "source": [
    "def objective(x):\n",
    "  slacks, _ = split_slack_vars(x)\n",
    "  return slacks.sum()\n",
    "\n",
    "# x >= 0\n",
    "def constraint_1(x):\n",
    "  return x\n",
    "\n",
    "# x =< 4\n",
    "def constraint_2(x):\n",
    "  _, x = split_slack_vars(x)\n",
    "  return -x + 4\n",
    "\n",
    "def constraint_3(x):\n",
    "  slacks, x = split_slack_vars(x)\n",
    "  slacks = slacks[:-1]\n",
    "  pmaxs = get_pmaxs(x)\n",
    "  apriori_energy_mix = get_apriori_energy_mix(pmaxs, capacity_factor, average_load)\n",
    "  return apriori_energy_mix - target_energy_mix + slacks\n",
    "\n",
    "def constraint_4(x):\n",
    "  slacks, x = split_slack_vars(x)\n",
    "  slacks = slacks[-1]\n",
    "  pmaxs = get_pmaxs(x)\n",
    "  return -pmaxs.sum() + target_pmax + slacks\n",
    "\n",
    "  \n",
    "constraints = [\n",
    "  {\"type\": \"ineq\", \"fun\": constraint_1},\n",
    "  {\"type\": \"ineq\", \"fun\": constraint_2},\n",
    "  {\"type\": \"ineq\", \"fun\": constraint_3, \"tol\": 1e-4},\n",
    "  {\"type\": \"ineq\", \"fun\": constraint_4, \"tol\": 1e2}\n",
    "]"
   ]
  },
  {
   "cell_type": "code",
   "execution_count": 7,
   "metadata": {},
   "outputs": [
    {
     "data": {
      "text/plain": [
       "     fun: 38.07303571428589\n",
       "   maxcv: 6.661338147750939e-16\n",
       " message: 'Optimization terminated successfully.'\n",
       "    nfev: 5531\n",
       "  status: 1\n",
       " success: True\n",
       "       x: array([-1.49928868e-19, -8.18885810e-21,  1.25016071e+01,  2.00000000e+00,\n",
       "        2.35714286e+01, -8.60186547e-20,  3.66873317e+00,  1.68251312e+00,\n",
       "        3.57112348e+00,  3.92804674e+00,  2.01830485e+00,  1.79827479e+00,\n",
       "        1.16639305e+00,  2.21452078e+00,  3.99552530e+00,  2.43642466e+00,\n",
       "        2.04734507e-01,  3.88250670e+00,  2.41849642e+00,  2.43631228e+00,\n",
       "        3.82064291e+00,  3.06028179e+00,  3.86418491e+00,  1.51050275e+00,\n",
       "        3.53754726e+00,  4.20036401e-01,  3.99943342e+00,  1.98604683e+00,\n",
       "        2.08902452e+00,  1.72009002e+00,  3.59055625e+00,  2.80805530e+00,\n",
       "        3.99794225e+00,  3.11094131e+00,  1.98697551e+00,  3.87319007e+00,\n",
       "        3.98748947e+00,  3.62827402e+00,  3.98920064e+00,  1.73226521e+00,\n",
       "        3.62053246e+00,  1.17019412e+00,  3.73381225e+00,  3.77333501e+00,\n",
       "        1.00149809e+00,  3.59362139e+00,  3.99959080e+00,  3.92928994e+00,\n",
       "        3.35788999e-01,  2.27827466e+00,  1.59492061e-01,  4.49143944e-01,\n",
       "        3.73748474e+00,  1.94753335e+00,  1.39164591e+00,  2.22437286e+00,\n",
       "        2.13412472e+00,  3.92769166e+00,  3.13424665e+00,  2.91730823e-01,\n",
       "        1.52927768e+00,  3.60199984e+00,  3.56444417e+00,  9.65826932e-01,\n",
       "        3.64900950e+00,  3.75838160e+00,  3.96323146e+00,  3.98636642e+00])"
      ]
     },
     "execution_count": 7,
     "metadata": {},
     "output_type": "execute_result"
    }
   ],
   "source": [
    "bounds = Bounds(0, np.inf)\n",
    "options = {\"maxiter\": 500_000}\n",
    "res = minimize(objective, x, constraints=constraints, method=\"cobyla\", options=options)\n",
    "res"
   ]
  },
  {
   "cell_type": "code",
   "execution_count": 8,
   "metadata": {},
   "outputs": [],
   "source": [
    "x = res.x"
   ]
  },
  {
   "cell_type": "code",
   "execution_count": 9,
   "metadata": {},
   "outputs": [
    {
     "data": {
      "text/plain": [
       "array([-1.49928868e-19, -8.18885810e-21,  1.25016071e+01,  2.00000000e+00,\n",
       "        2.35714286e+01, -8.60186547e-20,  3.66873317e+00,  1.68251312e+00,\n",
       "        3.57112348e+00,  3.92804674e+00,  2.01830485e+00,  1.79827479e+00,\n",
       "        1.16639305e+00,  2.21452078e+00,  3.99552530e+00,  2.43642466e+00,\n",
       "        2.04734507e-01,  3.88250670e+00,  2.41849642e+00,  2.43631228e+00,\n",
       "        3.82064291e+00,  3.06028179e+00,  3.86418491e+00,  1.51050275e+00,\n",
       "        3.53754726e+00,  4.20036401e-01,  3.99943342e+00,  1.98604683e+00,\n",
       "        2.08902452e+00,  1.72009002e+00,  3.59055625e+00,  2.80805530e+00,\n",
       "        3.99794225e+00,  3.11094131e+00,  1.98697551e+00,  3.87319007e+00,\n",
       "        3.98748947e+00,  3.62827402e+00,  3.98920064e+00,  1.73226521e+00,\n",
       "        3.62053246e+00,  1.17019412e+00,  3.73381225e+00,  3.77333501e+00,\n",
       "        1.00149809e+00,  3.59362139e+00,  3.99959080e+00,  3.92928994e+00,\n",
       "        3.35788999e-01,  2.27827466e+00,  1.59492061e-01,  4.49143944e-01,\n",
       "        3.73748474e+00,  1.94753335e+00,  1.39164591e+00,  2.22437286e+00,\n",
       "        2.13412472e+00,  3.92769166e+00,  3.13424665e+00,  2.91730823e-01,\n",
       "        1.52927768e+00,  3.60199984e+00,  3.56444417e+00,  9.65826932e-01,\n",
       "        3.64900950e+00,  3.75838160e+00,  3.96323146e+00,  3.98636642e+00])"
      ]
     },
     "execution_count": 9,
     "metadata": {},
     "output_type": "execute_result"
    }
   ],
   "source": [
    "constraint_1(x)"
   ]
  },
  {
   "cell_type": "code",
   "execution_count": 10,
   "metadata": {},
   "outputs": [
    {
     "data": {
      "text/plain": [
       "array([3.31266830e-01, 2.31748688e+00, 4.28876523e-01, 7.19532647e-02,\n",
       "       1.98169515e+00, 2.20172521e+00, 2.83360695e+00, 1.78547922e+00,\n",
       "       4.47470015e-03, 1.56357534e+00, 3.79526549e+00, 1.17493302e-01,\n",
       "       1.58150358e+00, 1.56368772e+00, 1.79357093e-01, 9.39718213e-01,\n",
       "       1.35815093e-01, 2.48949725e+00, 4.62452737e-01, 3.57996360e+00,\n",
       "       5.66583803e-04, 2.01395317e+00, 1.91097548e+00, 2.27990998e+00,\n",
       "       4.09443748e-01, 1.19194470e+00, 2.05774569e-03, 8.89058687e-01,\n",
       "       2.01302449e+00, 1.26809927e-01, 1.25105268e-02, 3.71725983e-01,\n",
       "       1.07993588e-02, 2.26773479e+00, 3.79467539e-01, 2.82980588e+00,\n",
       "       2.66187752e-01, 2.26664987e-01, 2.99850191e+00, 4.06378614e-01,\n",
       "       4.09197213e-04, 7.07100633e-02, 3.66421100e+00, 1.72172534e+00,\n",
       "       3.84050794e+00, 3.55085606e+00, 2.62515257e-01, 2.05246665e+00,\n",
       "       2.60835409e+00, 1.77562714e+00, 1.86587528e+00, 7.23083401e-02,\n",
       "       8.65753354e-01, 3.70826918e+00, 2.47072232e+00, 3.98000163e-01,\n",
       "       4.35555830e-01, 3.03417307e+00, 3.50990504e-01, 2.41618405e-01,\n",
       "       3.67685447e-02, 1.36335846e-02])"
      ]
     },
     "execution_count": 10,
     "metadata": {},
     "output_type": "execute_result"
    }
   ],
   "source": [
    "constraint_2(x)"
   ]
  },
  {
   "cell_type": "code",
   "execution_count": 11,
   "metadata": {},
   "outputs": [
    {
     "data": {
      "text/plain": [
       "array([ 6.21589286e+00,  3.18571429e+01,  6.21724894e-14, -6.66133815e-16,\n",
       "        1.17239551e-13])"
      ]
     },
     "execution_count": 11,
     "metadata": {},
     "output_type": "execute_result"
    }
   ],
   "source": [
    "constraint_3(x)"
   ]
  },
  {
   "cell_type": "code",
   "execution_count": 12,
   "metadata": {},
   "outputs": [
    {
     "data": {
      "text/plain": [
       "8704.663636363635"
      ]
     },
     "execution_count": 12,
     "metadata": {},
     "output_type": "execute_result"
    }
   ],
   "source": [
    "constraint_4(x)"
   ]
  },
  {
   "cell_type": "code",
   "execution_count": 13,
   "metadata": {},
   "outputs": [],
   "source": [
    "_, x = split_slack_vars(x)"
   ]
  },
  {
   "cell_type": "code",
   "execution_count": 14,
   "metadata": {},
   "outputs": [],
   "source": [
    "def get_nb_power_plants(x):\n",
    "  power_plants = {\n",
    "      \"hydro\": 0,\n",
    "      \"nuclear\": 0,\n",
    "      \"solar\": 0,\n",
    "      \"thermal\": 0,\n",
    "      \"wind\": 0\n",
    "    }\n",
    "  idx = np.round(x)\n",
    "  for i in idx:\n",
    "    key = list(power_plants.keys())[int(i)]\n",
    "    power_plants[key] += 1\n",
    "  return power_plants"
   ]
  },
  {
   "cell_type": "code",
   "execution_count": 15,
   "metadata": {},
   "outputs": [
    {
     "data": {
      "text/plain": [
       "{'hydro': 6, 'nuclear': 5, 'solar': 18, 'thermal': 4, 'wind': 29}"
      ]
     },
     "execution_count": 15,
     "metadata": {},
     "output_type": "execute_result"
    }
   ],
   "source": [
    "get_nb_power_plants(x)"
   ]
  },
  {
   "cell_type": "code",
   "execution_count": 16,
   "metadata": {},
   "outputs": [
    {
     "name": "stdout",
     "output_type": "stream",
     "text": [
      "Target energy mix: [ 9. 36. 17.  2. 36.]\n",
      "Actual energy mix: [15.21589286 67.85714286  4.49839286  0.         12.42857143]\n",
      "Difference between target and actual energy mix: 76.15%\n"
     ]
    }
   ],
   "source": [
    "pmaxs = get_pmaxs(x)\n",
    "em = get_apriori_energy_mix(pmaxs, capacity_factor, average_load)\n",
    "error = np.abs(target_energy_mix - em).sum()\n",
    "print(f\"Target energy mix: {target_energy_mix}\")\n",
    "print(f\"Actual energy mix: {em}\")\n",
    "print(f\"Difference between target and actual energy mix: {error:.2f}%\")"
   ]
  },
  {
   "cell_type": "code",
   "execution_count": 17,
   "metadata": {},
   "outputs": [
    {
     "data": {
      "text/plain": [
       "array([1500.        , 2000.        ,  839.7       ,  563.63636364,\n",
       "       1392.        ])"
      ]
     },
     "execution_count": 17,
     "metadata": {},
     "output_type": "execute_result"
    }
   ],
   "source": [
    "pmaxs"
   ]
  },
  {
   "cell_type": "code",
   "execution_count": 18,
   "metadata": {},
   "outputs": [
    {
     "data": {
      "text/plain": [
       "6295.336363636364"
      ]
     },
     "execution_count": 18,
     "metadata": {},
     "output_type": "execute_result"
    }
   ],
   "source": [
    "pmaxs.sum()"
   ]
  }
 ],
 "metadata": {
  "interpreter": {
   "hash": "31f2aee4e71d21fbe5cf8b01ff0e069b9275f58929596ceb00d14d90e3e16cd6"
  },
  "kernelspec": {
   "display_name": "Python 3.8.10 64-bit",
   "language": "python",
   "name": "python3"
  },
  "language_info": {
   "codemirror_mode": {
    "name": "ipython",
    "version": 3
   },
   "file_extension": ".py",
   "mimetype": "text/x-python",
   "name": "python",
   "nbconvert_exporter": "python",
   "pygments_lexer": "ipython3",
   "version": "3.8.10"
  },
  "orig_nbformat": 4
 },
 "nbformat": 4,
 "nbformat_minor": 2
}
