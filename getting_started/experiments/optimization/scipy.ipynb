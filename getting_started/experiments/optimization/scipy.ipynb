{
 "cells": [
  {
   "cell_type": "code",
   "execution_count": 1,
   "metadata": {},
   "outputs": [],
   "source": [
    "import numpy as np\n",
    "import os\n",
    "import pandas as pd\n",
    "from scipy.optimize import minimize, Bounds"
   ]
  },
  {
   "cell_type": "markdown",
   "metadata": {},
   "source": [
    "We load our example grid and extract some useful data."
   ]
  },
  {
   "cell_type": "code",
   "execution_count": 2,
   "metadata": {},
   "outputs": [],
   "source": [
    "input_path = os.path.join(\"..\", \"..\", \"example\", \"input\", \"generation\", \"case118_l2rpn_wcci\")\n",
    "df = pd.read_csv(os.path.join(input_path, \"prods_charac.csv\"))\n",
    "\n",
    "\n",
    "n = df.shape[0]\n",
    "avg_pmaxs = df.groupby([\"type\"])[\"Pmax\"].mean()\n",
    "types = avg_pmaxs.index.to_numpy()\n",
    "avg_pmaxs = avg_pmaxs.to_numpy()\n",
    "capacity_factor = np.array([30, 95, 15, np.nan, 25])\n",
    "average_load = 2800\n",
    "target_energy_mix = np.array([9., 36., 17., 2., 36.])\n",
    "target_pmax = 10000"
   ]
  },
  {
   "cell_type": "code",
   "execution_count": 3,
   "metadata": {},
   "outputs": [],
   "source": [
    "def get_nb_pp_by_type(t):\n",
    "  return df[df[\"type\"] == t].shape[0]"
   ]
  },
  {
   "cell_type": "code",
   "execution_count": 4,
   "metadata": {},
   "outputs": [],
   "source": [
    "nb_type = types.shape[0]\n",
    "\n",
    "x = np.ones(2*nb_type+1) * 1000\n",
    "\n",
    "for i in range(nb_type):\n",
    "  x[nb_type+1+i] = get_nb_pp_by_type(types[i])"
   ]
  },
  {
   "cell_type": "code",
   "execution_count": 5,
   "metadata": {},
   "outputs": [],
   "source": [
    "def get_pmaxs(x):\n",
    "  nb_pp = np.round(x)\n",
    "  pmaxs = np.zeros(types.shape)\n",
    "  for i in range(types.shape[0]):\n",
    "    pmaxs[i] = avg_pmaxs[i] * nb_pp[i]\n",
    "  return pmaxs\n",
    "\n",
    "def get_apriori_energy_mix(pmaxs, capacity_factor, average_load):\n",
    "  apriori_energy_mix = capacity_factor * pmaxs / average_load\n",
    "  total = np.nansum(apriori_energy_mix)\n",
    "  if total > 100:\n",
    "    #print(\"WARNING: apriori energy mix w/o thermal exceeds average load!\")\n",
    "    apriori_energy_mix[0] -= (total - 100)\n",
    "    apriori_energy_mix[3] = 0\n",
    "  else:\n",
    "    apriori_energy_mix[3] = 100 - total\n",
    "  return apriori_energy_mix\n",
    "\n",
    "def split_slack_vars(x):\n",
    "  n = types.shape[0] + 1\n",
    "  return x[:n], x[n:]"
   ]
  },
  {
   "cell_type": "code",
   "execution_count": 6,
   "metadata": {},
   "outputs": [],
   "source": [
    "def objective(x):\n",
    "  slacks, _ = split_slack_vars(x)\n",
    "  return slacks.sum()\n",
    "\n",
    "# x >= 0\n",
    "def constraint_1(x):\n",
    "  return x\n",
    "\n",
    "# x = n\n",
    "def constraint_2(x):\n",
    "  _, x = split_slack_vars(x)\n",
    "  x = np.round(x)\n",
    "  return x.sum() - n\n",
    "\n",
    "def constraint_3(x):\n",
    "  _, x = split_slack_vars(x)\n",
    "  x = np.round(x)\n",
    "  return -x.sum() + n\n",
    "\n",
    "def constraint_4(x):\n",
    "  slacks, x = split_slack_vars(x)\n",
    "  slacks = slacks[:-1]\n",
    "  pmaxs = get_pmaxs(x)\n",
    "  apriori_energy_mix = get_apriori_energy_mix(pmaxs, capacity_factor, average_load)\n",
    "  return apriori_energy_mix - target_energy_mix + slacks\n",
    "\n",
    "def constraint_5(x):\n",
    "  slacks, x = split_slack_vars(x)\n",
    "  slacks = slacks[-1]\n",
    "  pmaxs = get_pmaxs(x)\n",
    "  return -pmaxs.sum() + target_pmax + slacks\n",
    "\n",
    "constraints = [\n",
    "  {\"type\": \"ineq\", \"fun\": constraint_1},\n",
    "  {\"type\": \"ineq\", \"fun\": constraint_2},\n",
    "  {\"type\": \"ineq\", \"fun\": constraint_3},\n",
    "  {\"type\": \"ineq\", \"fun\": constraint_4},\n",
    "  {\"type\": \"ineq\", \"fun\": constraint_5}\n",
    "]"
   ]
  },
  {
   "cell_type": "code",
   "execution_count": 7,
   "metadata": {},
   "outputs": [
    {
     "data": {
      "text/plain": [
       "     fun: 50.144285714285715\n",
       "   maxcv: 2.6416480330535448e-17\n",
       " message: 'Optimization terminated successfully.'\n",
       "    nfev: 2717\n",
       "  status: 1\n",
       " success: True\n",
       "       x: array([-1.02590908e-22,  8.85714286e+00,  1.30014286e+01, -1.62116547e-19,\n",
       "        2.82857143e+01, -2.64164803e-17,  5.36277586e+00,  2.21084534e+00,\n",
       "        1.56187666e+01,  2.08004864e+01,  1.76750613e+01])"
      ]
     },
     "execution_count": 7,
     "metadata": {},
     "output_type": "execute_result"
    }
   ],
   "source": [
    "bounds = Bounds(0, np.inf)\n",
    "options = {\"maxiter\": 500_000}\n",
    "res = minimize(objective, x, constraints=constraints, method=\"cobyla\", options=options)\n",
    "res"
   ]
  },
  {
   "cell_type": "code",
   "execution_count": 8,
   "metadata": {},
   "outputs": [],
   "source": [
    "x = res.x"
   ]
  },
  {
   "cell_type": "code",
   "execution_count": 9,
   "metadata": {},
   "outputs": [
    {
     "data": {
      "text/plain": [
       "array([-1.02590908e-22,  8.85714286e+00,  1.30014286e+01, -1.62116547e-19,\n",
       "        2.82857143e+01, -2.64164803e-17,  5.36277586e+00,  2.21084534e+00,\n",
       "        1.56187666e+01,  2.08004864e+01,  1.76750613e+01])"
      ]
     },
     "execution_count": 9,
     "metadata": {},
     "output_type": "execute_result"
    }
   ],
   "source": [
    "constraint_1(x)"
   ]
  },
  {
   "cell_type": "code",
   "execution_count": 10,
   "metadata": {},
   "outputs": [
    {
     "data": {
      "text/plain": [
       "0.0"
      ]
     },
     "execution_count": 10,
     "metadata": {},
     "output_type": "execute_result"
    }
   ],
   "source": [
    "constraint_2(x)"
   ]
  },
  {
   "cell_type": "code",
   "execution_count": 11,
   "metadata": {},
   "outputs": [
    {
     "data": {
      "text/plain": [
       "0.0"
      ]
     },
     "execution_count": 11,
     "metadata": {},
     "output_type": "execute_result"
    }
   ],
   "source": [
    "constraint_3(x)"
   ]
  },
  {
   "cell_type": "code",
   "execution_count": 12,
   "metadata": {},
   "outputs": [
    {
     "data": {
      "text/plain": [
       "array([ 4.39285714,  0.        ,  0.        , 45.75142857,  0.        ])"
      ]
     },
     "execution_count": 12,
     "metadata": {},
     "output_type": "execute_result"
    }
   ],
   "source": [
    "constraint_4(x)"
   ]
  },
  {
   "cell_type": "code",
   "execution_count": 13,
   "metadata": {},
   "outputs": [],
   "source": [
    "_, x = split_slack_vars(x)"
   ]
  },
  {
   "cell_type": "code",
   "execution_count": 14,
   "metadata": {},
   "outputs": [],
   "source": [
    "def get_nb_power_plants(x):\n",
    "  nb_pp = np.round(x)\n",
    "  power_plants = {\n",
    "      \"hydro\": 0,\n",
    "      \"nuclear\": 0,\n",
    "      \"solar\": 0,\n",
    "      \"thermal\": 0,\n",
    "      \"wind\": 0,\n",
    "      \"total\": int(nb_pp.sum())\n",
    "    }\n",
    "  for i in range(nb_pp.shape[0]):\n",
    "    key = list(power_plants.keys())[int(i)]\n",
    "    power_plants[key] += int(nb_pp[i])\n",
    "  return power_plants"
   ]
  },
  {
   "cell_type": "code",
   "execution_count": 15,
   "metadata": {},
   "outputs": [
    {
     "data": {
      "text/plain": [
       "{'hydro': 5, 'nuclear': 2, 'solar': 16, 'thermal': 21, 'wind': 18, 'total': 62}"
      ]
     },
     "execution_count": 15,
     "metadata": {},
     "output_type": "execute_result"
    }
   ],
   "source": [
    "get_nb_power_plants(x)"
   ]
  },
  {
   "cell_type": "code",
   "execution_count": 16,
   "metadata": {},
   "outputs": [
    {
     "name": "stdout",
     "output_type": "stream",
     "text": [
      "Target energy mix: [ 9. 36. 17.  2. 36.]\n",
      "Actual energy mix: [13.39285714 27.14285714  3.99857143 47.75142857  7.71428571]\n",
      "Difference between target and actual energy mix: 100.29%\n"
     ]
    }
   ],
   "source": [
    "pmaxs = get_pmaxs(x)\n",
    "em = get_apriori_energy_mix(pmaxs, capacity_factor, average_load)\n",
    "error = np.abs(target_energy_mix - em).sum()\n",
    "print(f\"Target energy mix: {target_energy_mix}\")\n",
    "print(f\"Actual energy mix: {em}\")\n",
    "print(f\"Difference between target and actual energy mix: {error:.2f}%\")"
   ]
  },
  {
   "cell_type": "code",
   "execution_count": 17,
   "metadata": {},
   "outputs": [
    {
     "data": {
      "text/plain": [
       "array([1250.        ,  800.        ,  746.4       , 2959.09090909,\n",
       "        864.        ])"
      ]
     },
     "execution_count": 17,
     "metadata": {},
     "output_type": "execute_result"
    }
   ],
   "source": [
    "pmaxs"
   ]
  },
  {
   "cell_type": "code",
   "execution_count": 18,
   "metadata": {},
   "outputs": [
    {
     "data": {
      "text/plain": [
       "6619.490909090909"
      ]
     },
     "execution_count": 18,
     "metadata": {},
     "output_type": "execute_result"
    }
   ],
   "source": [
    "pmaxs.sum()"
   ]
  },
  {
   "cell_type": "code",
   "execution_count": null,
   "metadata": {},
   "outputs": [],
   "source": []
  }
 ],
 "metadata": {
  "interpreter": {
   "hash": "31f2aee4e71d21fbe5cf8b01ff0e069b9275f58929596ceb00d14d90e3e16cd6"
  },
  "kernelspec": {
   "display_name": "Python 3.8.10 64-bit",
   "language": "python",
   "name": "python3"
  },
  "language_info": {
   "codemirror_mode": {
    "name": "ipython",
    "version": 3
   },
   "file_extension": ".py",
   "mimetype": "text/x-python",
   "name": "python",
   "nbconvert_exporter": "python",
   "pygments_lexer": "ipython3",
   "version": "3.8.10"
  },
  "orig_nbformat": 4
 },
 "nbformat": 4,
 "nbformat_minor": 2
}
