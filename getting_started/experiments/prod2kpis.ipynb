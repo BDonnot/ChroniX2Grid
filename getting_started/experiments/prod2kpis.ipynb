{
 "cells": [
  {
   "cell_type": "code",
   "execution_count": 1,
   "metadata": {},
   "outputs": [],
   "source": [
    "import pandas as pd\n",
    "import numpy as np\n",
    "import os\n",
    "import grid2op\n",
    "from grid2op.Chronics import ChangeNothing\n",
    "from chronix2grid.kpi.Generator_parameter_checker import EnergyMix_AprioriChecker"
   ]
  },
  {
   "cell_type": "code",
   "execution_count": 2,
   "metadata": {},
   "outputs": [],
   "source": [
    "input_path = os.path.join(\"..\", \"example\", \"input\", \"generation\", \"case118_l2rpn_wcci\")"
   ]
  },
  {
   "cell_type": "code",
   "execution_count": 3,
   "metadata": {},
   "outputs": [],
   "source": [
    "df = pd.read_csv(os.path.join(input_path, \"prods_charac.csv\"))"
   ]
  },
  {
   "cell_type": "code",
   "execution_count": 4,
   "metadata": {},
   "outputs": [
    {
     "data": {
      "text/html": [
       "<div>\n",
       "<style scoped>\n",
       "    .dataframe tbody tr th:only-of-type {\n",
       "        vertical-align: middle;\n",
       "    }\n",
       "\n",
       "    .dataframe tbody tr th {\n",
       "        vertical-align: top;\n",
       "    }\n",
       "\n",
       "    .dataframe thead th {\n",
       "        text-align: right;\n",
       "    }\n",
       "</style>\n",
       "<table border=\"1\" class=\"dataframe\">\n",
       "  <thead>\n",
       "    <tr style=\"text-align: right;\">\n",
       "      <th></th>\n",
       "      <th>name</th>\n",
       "      <th>Pmax</th>\n",
       "      <th>Pmin</th>\n",
       "      <th>type</th>\n",
       "      <th>bus</th>\n",
       "      <th>max_ramp_up</th>\n",
       "      <th>max_ramp_down</th>\n",
       "      <th>min_up_time</th>\n",
       "      <th>min_down_time</th>\n",
       "      <th>marginal_cost</th>\n",
       "      <th>shut_down_cost</th>\n",
       "      <th>start_cost</th>\n",
       "      <th>zone</th>\n",
       "      <th>generator</th>\n",
       "      <th>x</th>\n",
       "      <th>y</th>\n",
       "      <th>V</th>\n",
       "    </tr>\n",
       "  </thead>\n",
       "  <tbody>\n",
       "    <tr>\n",
       "      <th>0</th>\n",
       "      <td>gen_3_0</td>\n",
       "      <td>33.6</td>\n",
       "      <td>0.0</td>\n",
       "      <td>wind</td>\n",
       "      <td>3</td>\n",
       "      <td>NaN</td>\n",
       "      <td>NaN</td>\n",
       "      <td>0.0</td>\n",
       "      <td>0.0</td>\n",
       "      <td>0.0</td>\n",
       "      <td>0</td>\n",
       "      <td>0.0</td>\n",
       "      <td>R1</td>\n",
       "      <td>0</td>\n",
       "      <td>62</td>\n",
       "      <td>-101</td>\n",
       "      <td>142.1</td>\n",
       "    </tr>\n",
       "    <tr>\n",
       "      <th>1</th>\n",
       "      <td>gen_3_1</td>\n",
       "      <td>33.6</td>\n",
       "      <td>0.0</td>\n",
       "      <td>wind</td>\n",
       "      <td>3</td>\n",
       "      <td>NaN</td>\n",
       "      <td>NaN</td>\n",
       "      <td>0.0</td>\n",
       "      <td>0.0</td>\n",
       "      <td>0.0</td>\n",
       "      <td>0</td>\n",
       "      <td>0.0</td>\n",
       "      <td>R1</td>\n",
       "      <td>70</td>\n",
       "      <td>62</td>\n",
       "      <td>-101</td>\n",
       "      <td>142.1</td>\n",
       "    </tr>\n",
       "    <tr>\n",
       "      <th>2</th>\n",
       "      <td>gen_7_2</td>\n",
       "      <td>400.0</td>\n",
       "      <td>0.0</td>\n",
       "      <td>nuclear</td>\n",
       "      <td>7</td>\n",
       "      <td>2.8</td>\n",
       "      <td>2.8</td>\n",
       "      <td>2016.0</td>\n",
       "      <td>2016.0</td>\n",
       "      <td>35.0</td>\n",
       "      <td>0</td>\n",
       "      <td>27728.7</td>\n",
       "      <td>R1</td>\n",
       "      <td>2</td>\n",
       "      <td>74</td>\n",
       "      <td>-293</td>\n",
       "      <td>355.4</td>\n",
       "    </tr>\n",
       "    <tr>\n",
       "      <th>3</th>\n",
       "      <td>gen_9_3</td>\n",
       "      <td>300.0</td>\n",
       "      <td>0.0</td>\n",
       "      <td>thermal</td>\n",
       "      <td>9</td>\n",
       "      <td>5.8</td>\n",
       "      <td>5.8</td>\n",
       "      <td>12.0</td>\n",
       "      <td>12.0</td>\n",
       "      <td>50.0</td>\n",
       "      <td>0</td>\n",
       "      <td>3392.3</td>\n",
       "      <td>R1</td>\n",
       "      <td>3</td>\n",
       "      <td>74</td>\n",
       "      <td>-390</td>\n",
       "      <td>355.4</td>\n",
       "    </tr>\n",
       "    <tr>\n",
       "      <th>4</th>\n",
       "      <td>gen_10_4</td>\n",
       "      <td>37.3</td>\n",
       "      <td>0.0</td>\n",
       "      <td>solar</td>\n",
       "      <td>10</td>\n",
       "      <td>NaN</td>\n",
       "      <td>NaN</td>\n",
       "      <td>0.0</td>\n",
       "      <td>0.0</td>\n",
       "      <td>0.0</td>\n",
       "      <td>0</td>\n",
       "      <td>0.0</td>\n",
       "      <td>R1</td>\n",
       "      <td>69</td>\n",
       "      <td>116</td>\n",
       "      <td>-104</td>\n",
       "      <td>142.1</td>\n",
       "    </tr>\n",
       "    <tr>\n",
       "      <th>...</th>\n",
       "      <td>...</td>\n",
       "      <td>...</td>\n",
       "      <td>...</td>\n",
       "      <td>...</td>\n",
       "      <td>...</td>\n",
       "      <td>...</td>\n",
       "      <td>...</td>\n",
       "      <td>...</td>\n",
       "      <td>...</td>\n",
       "      <td>...</td>\n",
       "      <td>...</td>\n",
       "      <td>...</td>\n",
       "      <td>...</td>\n",
       "      <td>...</td>\n",
       "      <td>...</td>\n",
       "      <td>...</td>\n",
       "      <td>...</td>\n",
       "    </tr>\n",
       "    <tr>\n",
       "      <th>57</th>\n",
       "      <td>gen_106_57</td>\n",
       "      <td>67.2</td>\n",
       "      <td>0.0</td>\n",
       "      <td>wind</td>\n",
       "      <td>106</td>\n",
       "      <td>NaN</td>\n",
       "      <td>NaN</td>\n",
       "      <td>0.0</td>\n",
       "      <td>0.0</td>\n",
       "      <td>0.0</td>\n",
       "      <td>0</td>\n",
       "      <td>0.0</td>\n",
       "      <td>R3</td>\n",
       "      <td>48</td>\n",
       "      <td>988</td>\n",
       "      <td>-582</td>\n",
       "      <td>142.1</td>\n",
       "    </tr>\n",
       "    <tr>\n",
       "      <th>58</th>\n",
       "      <td>gen_110_58</td>\n",
       "      <td>150.0</td>\n",
       "      <td>0.0</td>\n",
       "      <td>thermal</td>\n",
       "      <td>110</td>\n",
       "      <td>4.3</td>\n",
       "      <td>4.3</td>\n",
       "      <td>24.0</td>\n",
       "      <td>24.0</td>\n",
       "      <td>50.0</td>\n",
       "      <td>0</td>\n",
       "      <td>15319.4</td>\n",
       "      <td>R3</td>\n",
       "      <td>50</td>\n",
       "      <td>900</td>\n",
       "      <td>-707</td>\n",
       "      <td>142.1</td>\n",
       "    </tr>\n",
       "    <tr>\n",
       "      <th>59</th>\n",
       "      <td>gen_111_59</td>\n",
       "      <td>67.2</td>\n",
       "      <td>0.0</td>\n",
       "      <td>wind</td>\n",
       "      <td>111</td>\n",
       "      <td>NaN</td>\n",
       "      <td>NaN</td>\n",
       "      <td>0.0</td>\n",
       "      <td>0.0</td>\n",
       "      <td>0.0</td>\n",
       "      <td>0</td>\n",
       "      <td>0.0</td>\n",
       "      <td>R3</td>\n",
       "      <td>51</td>\n",
       "      <td>987</td>\n",
       "      <td>-699</td>\n",
       "      <td>142.1</td>\n",
       "    </tr>\n",
       "    <tr>\n",
       "      <th>60</th>\n",
       "      <td>gen_112_60</td>\n",
       "      <td>100.0</td>\n",
       "      <td>0.0</td>\n",
       "      <td>thermal</td>\n",
       "      <td>112</td>\n",
       "      <td>2.8</td>\n",
       "      <td>2.8</td>\n",
       "      <td>24.0</td>\n",
       "      <td>24.0</td>\n",
       "      <td>50.0</td>\n",
       "      <td>0</td>\n",
       "      <td>18016.4</td>\n",
       "      <td>R1</td>\n",
       "      <td>52</td>\n",
       "      <td>203</td>\n",
       "      <td>-276</td>\n",
       "      <td>142.1</td>\n",
       "    </tr>\n",
       "    <tr>\n",
       "      <th>61</th>\n",
       "      <td>gen_115_61</td>\n",
       "      <td>100.0</td>\n",
       "      <td>0.0</td>\n",
       "      <td>thermal</td>\n",
       "      <td>115</td>\n",
       "      <td>2.8</td>\n",
       "      <td>2.8</td>\n",
       "      <td>96.0</td>\n",
       "      <td>96.0</td>\n",
       "      <td>50.0</td>\n",
       "      <td>0</td>\n",
       "      <td>6281.1</td>\n",
       "      <td>R2</td>\n",
       "      <td>53</td>\n",
       "      <td>781</td>\n",
       "      <td>-362</td>\n",
       "      <td>355.4</td>\n",
       "    </tr>\n",
       "  </tbody>\n",
       "</table>\n",
       "<p>62 rows × 17 columns</p>\n",
       "</div>"
      ],
      "text/plain": [
       "          name   Pmax  Pmin     type  bus  max_ramp_up  max_ramp_down  \\\n",
       "0      gen_3_0   33.6   0.0     wind    3          NaN            NaN   \n",
       "1      gen_3_1   33.6   0.0     wind    3          NaN            NaN   \n",
       "2      gen_7_2  400.0   0.0  nuclear    7          2.8            2.8   \n",
       "3      gen_9_3  300.0   0.0  thermal    9          5.8            5.8   \n",
       "4     gen_10_4   37.3   0.0    solar   10          NaN            NaN   \n",
       "..         ...    ...   ...      ...  ...          ...            ...   \n",
       "57  gen_106_57   67.2   0.0     wind  106          NaN            NaN   \n",
       "58  gen_110_58  150.0   0.0  thermal  110          4.3            4.3   \n",
       "59  gen_111_59   67.2   0.0     wind  111          NaN            NaN   \n",
       "60  gen_112_60  100.0   0.0  thermal  112          2.8            2.8   \n",
       "61  gen_115_61  100.0   0.0  thermal  115          2.8            2.8   \n",
       "\n",
       "    min_up_time  min_down_time  marginal_cost  shut_down_cost  start_cost  \\\n",
       "0           0.0            0.0            0.0               0         0.0   \n",
       "1           0.0            0.0            0.0               0         0.0   \n",
       "2        2016.0         2016.0           35.0               0     27728.7   \n",
       "3          12.0           12.0           50.0               0      3392.3   \n",
       "4           0.0            0.0            0.0               0         0.0   \n",
       "..          ...            ...            ...             ...         ...   \n",
       "57          0.0            0.0            0.0               0         0.0   \n",
       "58         24.0           24.0           50.0               0     15319.4   \n",
       "59          0.0            0.0            0.0               0         0.0   \n",
       "60         24.0           24.0           50.0               0     18016.4   \n",
       "61         96.0           96.0           50.0               0      6281.1   \n",
       "\n",
       "   zone  generator    x    y      V  \n",
       "0    R1          0   62 -101  142.1  \n",
       "1    R1         70   62 -101  142.1  \n",
       "2    R1          2   74 -293  355.4  \n",
       "3    R1          3   74 -390  355.4  \n",
       "4    R1         69  116 -104  142.1  \n",
       "..  ...        ...  ...  ...    ...  \n",
       "57   R3         48  988 -582  142.1  \n",
       "58   R3         50  900 -707  142.1  \n",
       "59   R3         51  987 -699  142.1  \n",
       "60   R1         52  203 -276  142.1  \n",
       "61   R2         53  781 -362  355.4  \n",
       "\n",
       "[62 rows x 17 columns]"
      ]
     },
     "execution_count": 4,
     "metadata": {},
     "output_type": "execute_result"
    }
   ],
   "source": [
    "df"
   ]
  },
  {
   "cell_type": "code",
   "execution_count": 5,
   "metadata": {},
   "outputs": [],
   "source": [
    "pmaxs = df.groupby([\"type\"])[\"Pmax\"].sum()\n",
    "types = pmaxs.index.to_numpy()\n",
    "pmaxs = pmaxs.to_numpy()"
   ]
  },
  {
   "cell_type": "code",
   "execution_count": 6,
   "metadata": {},
   "outputs": [
    {
     "data": {
      "text/plain": [
       "(array(['hydro', 'nuclear', 'solar', 'thermal', 'wind'], dtype=object),\n",
       " array([1750. , 1200. ,  746.4, 3100. ,  672. ]),\n",
       " 7468.4)"
      ]
     },
     "execution_count": 6,
     "metadata": {},
     "output_type": "execute_result"
    }
   ],
   "source": [
    "types, pmaxs, pmaxs.sum()"
   ]
  },
  {
   "cell_type": "code",
   "execution_count": 7,
   "metadata": {},
   "outputs": [],
   "source": [
    "def get_apriori_energy_mix(capacity_factor, average_load):\n",
    "  apriori_energy_mix = capacity_factor * pmaxs / average_load\n",
    "  total = np.nansum(apriori_energy_mix)\n",
    "  if total > 100:\n",
    "    print(\"WARNING: apriori energy mix w/o thermal exceeds average load!\")\n",
    "    apriori_energy_mix[0] -= (total - 100)\n",
    "    apriori_energy_mix[3] = 0\n",
    "  else:\n",
    "    apriori_energy_mix[3] = 100 - total\n",
    "  return apriori_energy_mix\n"
   ]
  },
  {
   "cell_type": "code",
   "execution_count": 8,
   "metadata": {},
   "outputs": [],
   "source": [
    "capacity_factor = np.array([30, 95, 15, np.nan, 25])\n",
    "average_load = 2800\n",
    "capacity_factor_df = pd.DataFrame(data=capacity_factor, columns=['capacity_factor'], index=types)\n",
    "\n",
    "apriori_energy_mix = get_apriori_energy_mix(capacity_factor, average_load)"
   ]
  },
  {
   "cell_type": "code",
   "execution_count": 9,
   "metadata": {},
   "outputs": [],
   "source": [
    "grid_path = os.path.join(input_path, \"grid.json\")"
   ]
  },
  {
   "cell_type": "code",
   "execution_count": 10,
   "metadata": {},
   "outputs": [
    {
     "name": "stderr",
     "output_type": "stream",
     "text": [
      "/home/gaetan/.local/lib/python3.8/site-packages/grid2op/MakeEnv/Make.py:305: UserWarning: You are using a development environment. This environment is not intended for training agents. It might not be up to date and its primary use if for tests (hence the \"test=True\" you passed as argument). Use at your own risk.\n",
      "  warnings.warn(_MAKE_DEV_ENV_WARN)\n"
     ]
    }
   ],
   "source": [
    "env118_withoutchron = grid2op.make(\n",
    "    \"rte_case118_example\",\n",
    "    test=True,\n",
    "    grid_path=grid_path, # assign it the 118 grid\n",
    "    chronics_class=ChangeNothing, # tell it to change nothing (not the most usable environment...)\n",
    ")"
   ]
  },
  {
   "cell_type": "code",
   "execution_count": 11,
   "metadata": {},
   "outputs": [
    {
     "name": "stdout",
     "output_type": "stream",
     "text": [
      "Warning: the differences in your target energy mix and you energy mix a priori are: 2.0%\n"
     ]
    },
    {
     "data": {
      "text/plain": [
       "type\n",
       "hydro      18.750000\n",
       "nuclear    40.714286\n",
       "solar       3.998571\n",
       "thermal    30.537143\n",
       "wind        6.000000\n",
       "Name: Apriori_energy_mix, dtype: float64"
      ]
     },
     "execution_count": 11,
     "metadata": {},
     "output_type": "execute_result"
    }
   ],
   "source": [
    "Target_EM_percentage=pd.DataFrame(data=[18, 40, 4, 30, 6], columns=['target_energy_mix'], index=types)\n",
    "\n",
    "#Variable used to anticipate the energy mix a priori. Update them after chronics generation if too different\n",
    "PeakLoad = 4200 #expected peak load\n",
    "\n",
    "Capacity_df=EnergyMix_AprioriChecker(env118_withoutchron, Target_EM_percentage, PeakLoad, average_load, capacity_factor_df)\n",
    "Capacity_df[\"Apriori_energy_mix\"]"
   ]
  },
  {
   "cell_type": "code",
   "execution_count": 12,
   "metadata": {},
   "outputs": [
    {
     "data": {
      "text/plain": [
       "array([18.75      , 40.71428571,  3.99857143, 30.53714286,  6.        ])"
      ]
     },
     "execution_count": 12,
     "metadata": {},
     "output_type": "execute_result"
    }
   ],
   "source": [
    "apriori_energy_mix"
   ]
  }
 ],
 "metadata": {
  "interpreter": {
   "hash": "31f2aee4e71d21fbe5cf8b01ff0e069b9275f58929596ceb00d14d90e3e16cd6"
  },
  "kernelspec": {
   "display_name": "Python 3.8.10 64-bit",
   "language": "python",
   "name": "python3"
  },
  "language_info": {
   "codemirror_mode": {
    "name": "ipython",
    "version": 3
   },
   "file_extension": ".py",
   "mimetype": "text/x-python",
   "name": "python",
   "nbconvert_exporter": "python",
   "pygments_lexer": "ipython3",
   "version": "3.8.10"
  },
  "orig_nbformat": 4
 },
 "nbformat": 4,
 "nbformat_minor": 2
}
