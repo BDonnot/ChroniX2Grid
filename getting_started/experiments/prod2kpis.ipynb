{
 "cells": [
  {
   "cell_type": "code",
   "execution_count": null,
   "metadata": {},
   "outputs": [],
   "source": [
    "import pandas as pd\n",
    "import numpy as np\n",
    "import os\n",
    "import grid2op\n",
    "from grid2op.Chronics import ChangeNothing\n",
    "from chronix2grid.kpi.Generator_parameter_checker import EnergyMix_AprioriChecker"
   ]
  },
  {
   "cell_type": "code",
   "execution_count": null,
   "metadata": {},
   "outputs": [],
   "source": [
    "input_path = os.path.join(\"..\", \"example\", \"input\", \"generation\", \"case118_l2rpn_wcci\")"
   ]
  },
  {
   "cell_type": "code",
   "execution_count": null,
   "metadata": {},
   "outputs": [],
   "source": [
    "df = pd.read_csv(os.path.join(input_path, \"prods_charac.csv\"))"
   ]
  },
  {
   "cell_type": "code",
   "execution_count": null,
   "metadata": {},
   "outputs": [],
   "source": [
    "df"
   ]
  },
  {
   "cell_type": "code",
   "execution_count": null,
   "metadata": {},
   "outputs": [],
   "source": [
    "pmaxs = df.groupby([\"type\"])[\"Pmax\"].sum()\n",
    "types = pmaxs.index.to_numpy()\n",
    "pmaxs = pmaxs.to_numpy()"
   ]
  },
  {
   "cell_type": "code",
   "execution_count": null,
   "metadata": {},
   "outputs": [],
   "source": [
    "types, pmaxs, pmaxs.sum()"
   ]
  },
  {
   "cell_type": "code",
   "execution_count": null,
   "metadata": {},
   "outputs": [],
   "source": [
    "def get_apriori_energy_mix(capacity_factor, average_load):\n",
    "  apriori_energy_mix = capacity_factor * pmaxs / average_load\n",
    "  total = np.nansum(apriori_energy_mix)\n",
    "  if total > 100:\n",
    "    print(\"WARNING: apriori energy mix w/o thermal exceeds average load!\")\n",
    "    apriori_energy_mix[0] -= (total - 100)\n",
    "    apriori_energy_mix[3] = 0\n",
    "  else:\n",
    "    apriori_energy_mix[3] = 100 - total\n",
    "  return apriori_energy_mix\n"
   ]
  },
  {
   "cell_type": "code",
   "execution_count": null,
   "metadata": {},
   "outputs": [],
   "source": [
    "capacity_factor = np.array([30, 95, 15, np.nan, 25])\n",
    "average_load = 2800\n",
    "capacity_factor_df = pd.DataFrame(data=capacity_factor, columns=['capacity_factor'], index=types)\n",
    "\n",
    "apriori_energy_mix = get_apriori_energy_mix(capacity_factor, average_load)"
   ]
  },
  {
   "cell_type": "code",
   "execution_count": null,
   "metadata": {},
   "outputs": [],
   "source": [
    "grid_path = os.path.join(input_path, \"grid.json\")"
   ]
  },
  {
   "cell_type": "code",
   "execution_count": null,
   "metadata": {},
   "outputs": [],
   "source": [
    "env118_withoutchron = grid2op.make(\n",
    "    input_path,\n",
    "    test=True,\n",
    "    grid_path=grid_path, # assign it the 118 grid\n",
    "    chronics_class=ChangeNothing, # tell it to change nothing (not the most usable environment...)\n",
    ")"
   ]
  },
  {
   "cell_type": "code",
   "execution_count": null,
   "metadata": {},
   "outputs": [],
   "source": [
    "Target_EM_percentage=pd.DataFrame(data=[18, 40, 4, 30, 6], columns=['target_energy_mix'], index=types)\n",
    "\n",
    "#Variable used to anticipate the energy mix a priori. Update them after chronics generation if too different\n",
    "PeakLoad = 4200 #expected peak load\n",
    "\n",
    "Capacity_df=EnergyMix_AprioriChecker(env118_withoutchron, Target_EM_percentage, PeakLoad, average_load, capacity_factor_df)\n",
    "Capacity_df[\"Apriori_energy_mix\"]"
   ]
  },
  {
   "cell_type": "code",
   "execution_count": null,
   "metadata": {},
   "outputs": [],
   "source": [
    "apriori_energy_mix"
   ]
  }
 ],
 "metadata": {
  "interpreter": {
   "hash": "31f2aee4e71d21fbe5cf8b01ff0e069b9275f58929596ceb00d14d90e3e16cd6"
  },
  "kernelspec": {
   "display_name": "Python 3",
   "language": "python",
   "name": "python3"
  },
  "language_info": {
   "codemirror_mode": {
    "name": "ipython",
    "version": 3
   },
   "file_extension": ".py",
   "mimetype": "text/x-python",
   "name": "python",
   "nbconvert_exporter": "python",
   "pygments_lexer": "ipython3",
   "version": "3.8.10"
  }
 },
 "nbformat": 4,
 "nbformat_minor": 2
}
