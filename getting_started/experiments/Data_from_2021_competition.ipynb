{
 "cells": [
  {
   "cell_type": "code",
   "execution_count": null,
   "id": "2f5adf29",
   "metadata": {},
   "outputs": [],
   "source": [
    "import numpy as np\n",
    "import os\n",
    "import pandas as pd\n",
    "import grid2op\n",
    "from grid2op.Chronics import ChangeNothing\n",
    "from chronix2grid.kpi.Generator_parameter_checker import EnergyMix_AprioriChecker\n",
    "import plotly\n",
    "import plotly.graph_objects as go\n",
    "from grid2op.PlotGrid import NUKE_COLOR, THERMAL_COLOR, WIND_COLOR, SOLAR_COLOR, HYDRO_COLOR\n",
    "import json\n",
    "import copy\n",
    "\n",
    "# for pandas interactive plots\n",
    "import cufflinks as cf\n",
    "cf.go_offline()\n",
    "cf.set_config_file(offline=False, world_readable=True)\n"
   ]
  },
  {
   "cell_type": "code",
   "execution_count": null,
   "id": "c89320d5",
   "metadata": {},
   "outputs": [],
   "source": [
    "env_name = \"l2rpn_icaps_2021_small\"\n",
    "env = grid2op.make(env_name)\n",
    "\n",
    "gen_p = []\n",
    "for months in [\"Scenario_april_000\", \"Scenario_august_001\", \"Scenario_december_000\", \n",
    "               \"Scenario_february_000\", \"Scenario_january_000\", \"Scenario_july_000\",\n",
    "               \"Scenario_june_001\", \"Scenario_march_000\", \"Scenario_may_000\",\n",
    "               \"Scenario_november_000\", \"Scenario_october_000\", \"Scenario_september_000\"]:\n",
    "    env.set_id(months)\n",
    "    env.reset()\n",
    "    gen_p.append( 1.0 * env.chronics_handler.real_data.data.prod_p)\n",
    "gen_p = np.concatenate(gen_p)"
   ]
  },
  {
   "cell_type": "code",
   "execution_count": null,
   "id": "2e0d0a7d",
   "metadata": {},
   "outputs": [],
   "source": [
    "gen_solar_id = np.where(env.gen_type == \"solar\")[0]\n",
    "gen_wind_id = np.where(env.gen_type == \"wind\")[0]\n",
    "gen_hydro_id = np.where(env.gen_type == \"hydro\")[0]\n",
    "gen_nuclear_id = np.where(env.gen_type == \"nuclear\")[0]\n",
    "gen_thermal_id = np.where(env.gen_type == \"thermal\")[0]\n",
    "proportion_solar = pd.DataFrame({\"total_solar\": gen_p[:,gen_solar_id].sum(axis=1),\n",
    "                                      \"total_wind\": gen_p[:,gen_wind_id].sum(axis=1),\n",
    "                                      \"total_hydro\": gen_p[:,gen_hydro_id].sum(axis=1),\n",
    "                                      \"total_nuclear\": gen_p[:,gen_nuclear_id].sum(axis=1),\n",
    "                                      \"total_thermal\": gen_p[:,gen_thermal_id].sum(axis=1),\n",
    "                                     })"
   ]
  },
  {
   "cell_type": "code",
   "execution_count": null,
   "id": "c55b583b",
   "metadata": {},
   "outputs": [],
   "source": [
    "labels2 = ['solar','wind','hydro', \"nuclear\", \"thermal\"]\n",
    "values2 = [proportion_solar[\"total_solar\"].sum(),\n",
    "           proportion_solar[\"total_wind\"].sum(),\n",
    "           proportion_solar[\"total_hydro\"].sum(),\n",
    "           proportion_solar[\"total_nuclear\"].sum(),\n",
    "           proportion_solar[\"total_thermal\"].sum(),\n",
    "          ]\n",
    "\n",
    "fig = go.Figure(data=[go.Pie(labels=labels2,\n",
    "                             values=values2,\n",
    "                             marker_colors=[SOLAR_COLOR, WIND_COLOR, HYDRO_COLOR, NUKE_COLOR, THERMAL_COLOR],\n",
    "                            text=[f\"{round(el / 12., -3):,.0f} MWh\" for el in values2]\n",
    "                            )]\n",
    "                             \n",
    "                )\n",
    "fig.update_layout(\n",
    "    title=f\"Share of energy produced depending on energy type for environment {env_name}\"\n",
    ")\n",
    "fig.show()"
   ]
  }
 ],
 "metadata": {
  "kernelspec": {
   "display_name": "Python 3",
   "language": "python",
   "name": "python3"
  },
  "language_info": {
   "codemirror_mode": {
    "name": "ipython",
    "version": 3
   },
   "file_extension": ".py",
   "mimetype": "text/x-python",
   "name": "python",
   "nbconvert_exporter": "python",
   "pygments_lexer": "ipython3",
   "version": "3.8.10"
  }
 },
 "nbformat": 4,
 "nbformat_minor": 5
}
