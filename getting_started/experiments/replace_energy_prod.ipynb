{
 "cells": [
  {
   "cell_type": "code",
   "execution_count": null,
   "metadata": {},
   "outputs": [],
   "source": [
    "import pandas as pd\n",
    "import numpy as np"
   ]
  },
  {
   "cell_type": "code",
   "execution_count": null,
   "metadata": {},
   "outputs": [],
   "source": [
    "df = pd.read_csv(\"../example/input/generation/case118_l2rpn_wcci/prods_charac.csv\")"
   ]
  },
  {
   "cell_type": "code",
   "execution_count": null,
   "metadata": {},
   "outputs": [],
   "source": [
    "df"
   ]
  },
  {
   "cell_type": "code",
   "execution_count": null,
   "metadata": {},
   "outputs": [],
   "source": [
    "def replace_energy_prod(to_replace, value):\n",
    "  rows = df[df[\"type\"] == value]\n",
    "  pmax          = rows[\"Pmax\"].iloc[0]\n",
    "  max_ramp_up   = rows[\"max_ramp_up\"].iloc[0]\n",
    "  max_ramp_down = rows[\"max_ramp_down\"].iloc[0]\n",
    "  min_up_time   = rows[\"min_up_time\"].iloc[0]\n",
    "  min_down_time = rows[\"min_down_time\"].iloc[0]\n",
    "  marginal_cost = rows[\"marginal_cost\"].iloc[0]\n",
    "  start_cost    = rows[\"start_cost\"].iloc[0]\n",
    "  print(pmax, max_ramp_up, max_ramp_down, min_up_time, min_down_time, marginal_cost, start_cost)\n",
    "\n",
    "  mask = (df[\"type\"] == to_replace)\n",
    "  \n",
    "  count = 0\n",
    "  for i in range(len(mask)):\n",
    "    if mask[i]:\n",
    "      mask[i] = False\n",
    "      count += 1\n",
    "    if count == 1:\n",
    "      break\n",
    "\n",
    "  df.at[mask, \"type\"] = value\n",
    "  df.at[mask, \"Pmax\"] = pmax\n",
    "  df.at[mask, \"max_ramp_up\"] = max_ramp_up\n",
    "  df.at[mask, \"max_ramp_down\"] = max_ramp_down\n",
    "  df.at[mask, \"min_up_time\"] = min_up_time\n",
    "  df.at[mask, \"min_down_time\"] = min_down_time\n",
    "  df.at[mask, \"start_cost\"] = start_cost\n",
    "  df.at[mask, \"marginal_cost\"] = marginal_cost\n"
   ]
  },
  {
   "cell_type": "code",
   "execution_count": null,
   "metadata": {},
   "outputs": [],
   "source": [
    "replace_energy_prod(to_replace=\"nuclear\", value=\"thermal\")"
   ]
  },
  {
   "cell_type": "code",
   "execution_count": null,
   "metadata": {},
   "outputs": [],
   "source": [
    "df"
   ]
  },
  {
   "cell_type": "code",
   "execution_count": null,
   "metadata": {},
   "outputs": [],
   "source": [
    "df.to_csv(\"../example/custom/input/generation/case118_l2rpn_wcci/prods_charac.csv\", index=False)"
   ]
  },
  {
   "cell_type": "code",
   "execution_count": null,
   "metadata": {},
   "outputs": [],
   "source": []
  }
 ],
 "metadata": {
  "interpreter": {
   "hash": "f9f85f796d01129d0dd105a088854619f454435301f6ffec2fea96ecbd9be4ac"
  },
  "kernelspec": {
   "display_name": "Python 3",
   "language": "python",
   "name": "python3"
  },
  "language_info": {
   "codemirror_mode": {
    "name": "ipython",
    "version": 3
   },
   "file_extension": ".py",
   "mimetype": "text/x-python",
   "name": "python",
   "nbconvert_exporter": "python",
   "pygments_lexer": "ipython3",
   "version": "3.8.10"
  }
 },
 "nbformat": 4,
 "nbformat_minor": 2
}
