{
 "cells": [
  {
   "cell_type": "code",
   "execution_count": 1,
   "metadata": {},
   "outputs": [],
   "source": [
    "import numpy as np\n",
    "import os\n",
    "import pandas as pd\n",
    "from scipy.optimize import minimize, Bounds"
   ]
  },
  {
   "cell_type": "code",
   "execution_count": 2,
   "metadata": {},
   "outputs": [],
   "source": [
    "n = 62\n",
    "pmax = np.array([250.0, 400.0, 37.3, 300.0, 33.6])\n",
    "types = np.array(['hydro', 'nuclear', 'solar', 'thermal', 'wind'])\n",
    "capacity_factor = np.array([30, 95, 15, np.nan, 25])\n",
    "average_load = 2800\n",
    "target_energy_mix = np.array([18.75, 40.71428571, 3.99857143, 30.53714286, 6.])\n",
    "target_pmax = 15000"
   ]
  },
  {
   "cell_type": "code",
   "execution_count": 3,
   "metadata": {},
   "outputs": [],
   "source": [
    "def get_pmaxs(x):\n",
    "  idx = np.round(x)\n",
    "  pmaxs = np.zeros(types.shape)\n",
    "  for i in range(types.shape[0]):\n",
    "    mask = idx == i\n",
    "    pmaxs[i] = pmax[i] * mask.sum()\n",
    "  return pmaxs\n",
    "\n",
    "def get_apriori_energy_mix(pmaxs, capacity_factor, average_load):\n",
    "  apriori_energy_mix = capacity_factor * pmaxs / average_load\n",
    "  total = np.nansum(apriori_energy_mix)\n",
    "  if total > 100:\n",
    "    #print(\"WARNING: apriori energy mix w/o thermal exceeds average load!\")\n",
    "    apriori_energy_mix[0] -= (total - 100)\n",
    "    apriori_energy_mix[3] = 0\n",
    "  else:\n",
    "    apriori_energy_mix[3] = 100 - total\n",
    "  return apriori_energy_mix\n",
    "\n",
    "def split_slack_vars(x):\n",
    "  n = types.shape[0] + 1\n",
    "  return x[:n], x[n:]"
   ]
  },
  {
   "cell_type": "code",
   "execution_count": 4,
   "metadata": {},
   "outputs": [],
   "source": [
    "def objective(x):\n",
    "  slacks, _ = split_slack_vars(x)\n",
    "  return slacks.sum()\n",
    "\n",
    "# x >= 0\n",
    "def constraint_1(x):\n",
    "  return x\n",
    "\n",
    "# x =< 4\n",
    "def constraint_2(x):\n",
    "  _, x = split_slack_vars(x)\n",
    "  return -x + 4\n",
    "\n",
    "def constraint_3(x):\n",
    "  slacks, x = split_slack_vars(x)\n",
    "  slacks = slacks[:-1]\n",
    "  pmaxs = get_pmaxs(x)\n",
    "  apriori_energy_mix = get_apriori_energy_mix(pmaxs, capacity_factor, average_load)\n",
    "  return apriori_energy_mix - target_energy_mix + slacks\n",
    "\n",
    "def constraint_4(x):\n",
    "  slacks, x = split_slack_vars(x)\n",
    "  slacks = slacks[-1]\n",
    "  pmaxs = get_pmaxs(x)\n",
    "  return -pmaxs.sum() + target_pmax - slacks\n",
    "\n",
    "  \n",
    "constraints = [\n",
    "  {\"type\": \"ineq\", \"fun\": constraint_1},\n",
    "  {\"type\": \"ineq\", \"fun\": constraint_2},\n",
    "  {\"type\": \"ineq\", \"fun\": constraint_3, \"tol\": 1e-4},\n",
    "  {\"type\": \"ineq\", \"fun\": constraint_4, \"tol\": 1e2}\n",
    "]"
   ]
  },
  {
   "cell_type": "code",
   "execution_count": 5,
   "metadata": {},
   "outputs": [],
   "source": [
    "def type2idx(t):\n",
    "  result = np.where(types == t)\n",
    "  return result[0][0]\n",
    "\n",
    "input_path = os.path.join(\"..\", \"example\", \"input\", \"generation\", \"case118_l2rpn_wcci\")\n",
    "df = pd.read_csv(os.path.join(input_path, \"prods_charac.csv\"))\n",
    "\n",
    "x = np.zeros(6+n)\n",
    "\n",
    "for i, row in df.iterrows():\n",
    "\n",
    "  x[i+6] = type2idx(row[\"type\"])"
   ]
  },
  {
   "cell_type": "code",
   "execution_count": 6,
   "metadata": {},
   "outputs": [
    {
     "data": {
      "text/plain": [
       "     fun: 2.0014285728571433\n",
       "   maxcv: 2.220446049250313e-16\n",
       " message: 'Optimization terminated successfully.'\n",
       "    nfev: 766\n",
       "  status: 1\n",
       " success: True\n",
       "       x: array([ 1.67418781e-20,  1.11236106e-19,  8.01428573e-01, -1.49178761e-19,\n",
       "        1.20000000e+00,  1.25142218e-19,  3.86384159e+00,  3.86159875e+00,\n",
       "        1.04741556e+00,  3.85015950e+00,  2.11979026e+00,  2.21260574e+00,\n",
       "        3.41234072e-01,  2.08683736e+00,  3.14292556e+00,  2.12143062e+00,\n",
       "        6.96616580e-02,  3.11732108e+00,  3.87198620e+00,  7.76995921e-01,\n",
       "        3.86811870e+00,  3.88902227e+00,  3.02342586e+00,  3.80926294e+00,\n",
       "        3.07068113e+00,  4.53222029e-20,  3.05244783e+00,  3.84400558e+00,\n",
       "        2.11613722e+00,  2.10824100e+00,  3.73175742e+00,  2.09912593e+00,\n",
       "        2.97830818e+00,  2.09959682e+00,  1.81276688e+00,  3.55850890e+00,\n",
       "        2.04551366e+00,  2.07921733e+00,  2.94819937e+00,  3.97936600e+00,\n",
       "        1.73453785e+00,  7.90090495e-01,  3.03142589e+00,  2.94501395e+00,\n",
       "        5.21272743e-02,  3.01164097e+00,  3.19310991e+00,  2.83509727e+00,\n",
       "        4.30973600e-02,  2.20800003e+00,  2.14878635e+00,  5.58688591e-02,\n",
       "        2.92716032e+00,  3.25949734e+00,  3.99993645e+00,  2.27155421e+00,\n",
       "        2.35088049e+00,  3.35352819e+00,  3.99832847e+00,  2.70097181e-01,\n",
       "        3.87850327e+00,  2.93885906e+00,  2.94356654e+00,  3.86136643e+00,\n",
       "        3.26372866e+00,  3.81748214e+00,  3.02162120e+00,  2.78890604e+00])"
      ]
     },
     "execution_count": 6,
     "metadata": {},
     "output_type": "execute_result"
    }
   ],
   "source": [
    "bounds = Bounds(0, np.inf)\n",
    "res = minimize(objective, x, constraints=constraints, method=\"cobyla\")\n",
    "res"
   ]
  },
  {
   "cell_type": "code",
   "execution_count": 7,
   "metadata": {},
   "outputs": [],
   "source": [
    "x = res.x"
   ]
  },
  {
   "cell_type": "code",
   "execution_count": 8,
   "metadata": {},
   "outputs": [
    {
     "data": {
      "text/plain": [
       "array([ 1.67418781e-20,  1.11236106e-19,  8.01428573e-01, -1.49178761e-19,\n",
       "        1.20000000e+00,  1.25142218e-19,  3.86384159e+00,  3.86159875e+00,\n",
       "        1.04741556e+00,  3.85015950e+00,  2.11979026e+00,  2.21260574e+00,\n",
       "        3.41234072e-01,  2.08683736e+00,  3.14292556e+00,  2.12143062e+00,\n",
       "        6.96616580e-02,  3.11732108e+00,  3.87198620e+00,  7.76995921e-01,\n",
       "        3.86811870e+00,  3.88902227e+00,  3.02342586e+00,  3.80926294e+00,\n",
       "        3.07068113e+00,  4.53222029e-20,  3.05244783e+00,  3.84400558e+00,\n",
       "        2.11613722e+00,  2.10824100e+00,  3.73175742e+00,  2.09912593e+00,\n",
       "        2.97830818e+00,  2.09959682e+00,  1.81276688e+00,  3.55850890e+00,\n",
       "        2.04551366e+00,  2.07921733e+00,  2.94819937e+00,  3.97936600e+00,\n",
       "        1.73453785e+00,  7.90090495e-01,  3.03142589e+00,  2.94501395e+00,\n",
       "        5.21272743e-02,  3.01164097e+00,  3.19310991e+00,  2.83509727e+00,\n",
       "        4.30973600e-02,  2.20800003e+00,  2.14878635e+00,  5.58688591e-02,\n",
       "        2.92716032e+00,  3.25949734e+00,  3.99993645e+00,  2.27155421e+00,\n",
       "        2.35088049e+00,  3.35352819e+00,  3.99832847e+00,  2.70097181e-01,\n",
       "        3.87850327e+00,  2.93885906e+00,  2.94356654e+00,  3.86136643e+00,\n",
       "        3.26372866e+00,  3.81748214e+00,  3.02162120e+00,  2.78890604e+00])"
      ]
     },
     "execution_count": 8,
     "metadata": {},
     "output_type": "execute_result"
    }
   ],
   "source": [
    "constraint_1(x)"
   ]
  },
  {
   "cell_type": "code",
   "execution_count": 9,
   "metadata": {},
   "outputs": [
    {
     "data": {
      "text/plain": [
       "array([1.36158414e-01, 1.38401245e-01, 2.95258444e+00, 1.49840503e-01,\n",
       "       1.88020974e+00, 1.78739426e+00, 3.65876593e+00, 1.91316264e+00,\n",
       "       8.57074437e-01, 1.87856938e+00, 3.93033834e+00, 8.82678921e-01,\n",
       "       1.28013802e-01, 3.22300408e+00, 1.31881296e-01, 1.10977729e-01,\n",
       "       9.76574135e-01, 1.90737055e-01, 9.29318870e-01, 4.00000000e+00,\n",
       "       9.47552172e-01, 1.55994415e-01, 1.88386278e+00, 1.89175900e+00,\n",
       "       2.68242583e-01, 1.90087407e+00, 1.02169182e+00, 1.90040318e+00,\n",
       "       2.18723312e+00, 4.41491097e-01, 1.95448634e+00, 1.92078267e+00,\n",
       "       1.05180063e+00, 2.06340002e-02, 2.26546215e+00, 3.20990950e+00,\n",
       "       9.68574108e-01, 1.05498605e+00, 3.94787273e+00, 9.88359035e-01,\n",
       "       8.06890086e-01, 1.16490273e+00, 3.95690264e+00, 1.79199997e+00,\n",
       "       1.85121365e+00, 3.94413114e+00, 1.07283968e+00, 7.40502662e-01,\n",
       "       6.35536678e-05, 1.72844579e+00, 1.64911951e+00, 6.46471813e-01,\n",
       "       1.67152987e-03, 3.72990282e+00, 1.21496730e-01, 1.06114094e+00,\n",
       "       1.05643346e+00, 1.38633571e-01, 7.36271342e-01, 1.82517861e-01,\n",
       "       9.78378802e-01, 1.21109396e+00])"
      ]
     },
     "execution_count": 9,
     "metadata": {},
     "output_type": "execute_result"
    }
   ],
   "source": [
    "constraint_2(x)"
   ]
  },
  {
   "cell_type": "code",
   "execution_count": 10,
   "metadata": {},
   "outputs": [
    {
     "data": {
      "text/plain": [
       "array([ 1.67418781e-20,  4.28571667e-09,  2.22044605e-16,  2.00142857e+00,\n",
       "       -2.22044605e-16])"
      ]
     },
     "execution_count": 10,
     "metadata": {},
     "output_type": "execute_result"
    }
   ],
   "source": [
    "constraint_3(x)"
   ]
  },
  {
   "cell_type": "code",
   "execution_count": 11,
   "metadata": {},
   "outputs": [
    {
     "data": {
      "text/plain": [
       "4915.6"
      ]
     },
     "execution_count": 11,
     "metadata": {},
     "output_type": "execute_result"
    }
   ],
   "source": [
    "constraint_4(x)"
   ]
  },
  {
   "cell_type": "code",
   "execution_count": 12,
   "metadata": {},
   "outputs": [],
   "source": [
    "_, x = split_slack_vars(x)"
   ]
  },
  {
   "cell_type": "code",
   "execution_count": 13,
   "metadata": {},
   "outputs": [
    {
     "data": {
      "text/plain": [
       "array([18.75      , 40.71428571,  3.19714286, 32.53857143,  4.8       ])"
      ]
     },
     "execution_count": 13,
     "metadata": {},
     "output_type": "execute_result"
    }
   ],
   "source": [
    "pmaxs = get_pmaxs(x)\n",
    "get_apriori_energy_mix(pmaxs, capacity_factor, average_load)"
   ]
  },
  {
   "cell_type": "code",
   "execution_count": 14,
   "metadata": {},
   "outputs": [
    {
     "data": {
      "text/plain": [
       "array([1750. , 1200. ,  596.8, 6000. ,  537.6])"
      ]
     },
     "execution_count": 14,
     "metadata": {},
     "output_type": "execute_result"
    }
   ],
   "source": [
    "pmaxs"
   ]
  },
  {
   "cell_type": "code",
   "execution_count": 15,
   "metadata": {},
   "outputs": [
    {
     "data": {
      "text/plain": [
       "10084.4"
      ]
     },
     "execution_count": 15,
     "metadata": {},
     "output_type": "execute_result"
    }
   ],
   "source": [
    "pmaxs.sum()"
   ]
  },
  {
   "cell_type": "code",
   "execution_count": null,
   "metadata": {},
   "outputs": [],
   "source": []
  }
 ],
 "metadata": {
  "interpreter": {
   "hash": "31f2aee4e71d21fbe5cf8b01ff0e069b9275f58929596ceb00d14d90e3e16cd6"
  },
  "kernelspec": {
   "display_name": "Python 3.8.10 64-bit",
   "language": "python",
   "name": "python3"
  },
  "language_info": {
   "codemirror_mode": {
    "name": "ipython",
    "version": 3
   },
   "file_extension": ".py",
   "mimetype": "text/x-python",
   "name": "python",
   "nbconvert_exporter": "python",
   "pygments_lexer": "ipython3",
   "version": "3.8.10"
  },
  "orig_nbformat": 4
 },
 "nbformat": 4,
 "nbformat_minor": 2
}
