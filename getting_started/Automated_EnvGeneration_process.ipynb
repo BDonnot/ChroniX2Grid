{
 "cells": [
  {
   "cell_type": "markdown",
   "metadata": {},
   "source": [
    "# Automatize the generation of an Environment for Grid2op\n",
    "\n",
    "This notebook will automatize processes to generate an environment for the IEEE 118 grid using *grid2op*. It takes as an input a pre-processed cased and it will generate the respective environment to be used with grid2op.\n",
    "\n",
    "`case_full_grid_ieee_118 --> | run all notebook | --> subnet ENV grid2op`\n",
    "\n",
    "The input folder should contain the follwing:\n",
    "```\n",
    "|---case_full_grid_ieee_118\n",
    "    |--- config.py\n",
    "    |--- grid.json\n",
    "    |--- grid_layout.json\n",
    "    |--- loads_charac.csv\n",
    "    |--- prods_chatac.csv\n",
    "    |--- params.json\n",
    "    |--- params_opf.json\n",
    "```\n",
    "\n",
    "**Remainder** <br>\n",
    "**++ ++ ++ +** <br>\n",
    " - **It only works for now if you have generated the subgrid case** for grid2op (otherwise go through notebook subgrid_design.ipynb) and preferably for region R2 (not tested for the 2 others\n",
    "\n",
    " - **Make sure to have the right slack ids**\n",
    "\n",
    " - You need to have **a virtualEnv of Chronix2Grid installed** in Chronix2Grid_folder\n",
    "\n",
    " - If you change AWS machine type, you might need to **recompile lightSim2Grid**\n",
    " \n",
    " - Create virtualenv for Chronix2grid"
   ]
  },
  {
   "cell_type": "markdown",
   "metadata": {},
   "source": [
    "## Structure and levels:\n",
    "```\n",
    "|---main_root\n",
    "    |---Chronix2grid\n",
    "    |   |---input_data\n",
    "    |   |   |---generation\n",
    "    |   |       |---case_runner_grid (full ieee 118 full grid)\n",
    "    |   |       |---case_subgrid\n",
    "    |   |--output_data\n",
    "    |---Grid2Op_Environment\n",
    "        |---case_subgrid\n",
    "    \n",
    "```"
   ]
  },
  {
   "cell_type": "markdown",
   "metadata": {},
   "source": [
    "## Processes:\n",
    "\n",
    " - Parameters Configuration:\n",
    "   - number of scenarios\n",
    "   - number of cores\n",
    "   - chronix version (for data)\n",
    "   - subgrid to generate ENV {1, 2, 3}\n",
    "   - home directory or main_root\n",
    "   - Slack gen\n",
    " - Pre-process input case changing Pmax and Ramps\n",
    " \n",
    " 1) **Chronics Generation For Full IEEE 118** <br>\n",
    "   *(Run Economic Dispatch using Chronix2grid)* <br>\n",
    " 2) **Run the runner with the do nothing agent** <br>\n",
    "   *(Run Grid2op runner from Economic Dispatch results)* <br>\n",
    " 3) **Correct the slack bus chronic with it** <br>\n",
    "   *(Run sub-process to compensate slack gen)* <br>\n",
    " 4) **Create the subgrid chronics** <br>\n",
    "   *(Using Economic dispatch rel and runner agent, only* <br>\n",
    "   *specified subnet chronix are created)* <br>\n",
    " 4) **Run runner in subgrid chronics** <br>\n",
    "   *(Run Grid2op runner on subgrid chronics)* <br>\n",
    " 5) **Correct the slack bus chronic** <br>\n",
    "   *(Correct slack in subgrid chronic)*"
   ]
  },
  {
   "cell_type": "markdown",
   "metadata": {},
   "source": [
    "## Import libraries"
   ]
  },
  {
   "cell_type": "code",
   "execution_count": 1,
   "metadata": {},
   "outputs": [],
   "source": [
    "import os\n",
    "from pprint import pprint\n",
    "import pandas as pd\n",
    "import numpy as np\n",
    "import subprocess\n",
    "import psutil\n",
    "from glob import glob"
   ]
  },
  {
   "cell_type": "markdown",
   "metadata": {},
   "source": [
    "## Parameter Configuration"
   ]
  },
  {
   "cell_type": "markdown",
   "metadata": {},
   "source": [
    "**--> specify Home directory**"
   ]
  },
  {
   "cell_type": "code",
   "execution_count": 2,
   "metadata": {},
   "outputs": [],
   "source": [
    "Chronix2Grid_directory=\"/Users/antoinemarot/Chronix2Grid\"#/Users/camiloromero/Rte/\"#/home/ubuntu/\n",
    "# home_directory = '/Users/camiloromero/Rte/'\n",
    "#home_directory = '/home/ubuntu/'"
   ]
  },
  {
   "cell_type": "code",
   "execution_count": 3,
   "metadata": {},
   "outputs": [],
   "source": [
    "if not os.path.exists(Chronix2Grid_directory):\n",
    "    print('WARNING: you need to change your home directory '+home_directory+' which does not exist')\n",
    "    raise"
   ]
  },
  {
   "cell_type": "markdown",
   "metadata": {},
   "source": [
    "## Input variables"
   ]
  },
  {
   "cell_type": "code",
   "execution_count": 4,
   "metadata": {},
   "outputs": [],
   "source": [
    "notebook_config = {\n",
    "    'full_case_name': 'case118_l2rpn_neurips_1x',\n",
    "    'subgrid_case_name': 'ieee118_R2subgrid_neurips_1x',\n",
    "    'num_scenarios': 2,\n",
    "    'num_cores': psutil.cpu_count(logical=True),\n",
    "    'agent_rel_version': '1x',\n",
    "    'region': 2, \n",
    "    'mode_test': True,\n",
    "    'withseeds': True,\n",
    "    'path_read_seeds': os.path.join(Chronix2Grid_directory,\"tests/data/input/generation\",\"seeds_chronix2grid_118ieee.json\"),\n",
    "    'chronix_env_name': 'venv_chronix2grid',\n",
    "    'ref_chronix': os.path.join(Chronix2Grid_directory,\"tests/data/input/generation\",\"case118_l2rpn_neurips_1x_modifySlackBeforeChronixGeneration\")\n",
    "}"
   ]
  },
  {
   "cell_type": "markdown",
   "metadata": {},
   "source": [
    "**--> Replace the number of cores and scenarios**"
   ]
  },
  {
   "cell_type": "code",
   "execution_count": 5,
   "metadata": {},
   "outputs": [],
   "source": [
    "# Replace variables to initialize automated process in notebook\n",
    "n_scenarios = notebook_config['num_scenarios'] #number of scenarios to generate for each month\n",
    "nb_core = notebook_config['num_cores'] # number of cores on which to run the computation"
   ]
  },
  {
   "cell_type": "markdown",
   "metadata": {},
   "source": [
    "**--> Replace the name of your virtual env for chronix2grid**"
   ]
  },
  {
   "cell_type": "code",
   "execution_count": 6,
   "metadata": {},
   "outputs": [],
   "source": [
    "venv_chronix2grid_name = notebook_config['chronix_env_name']"
   ]
  },
  {
   "cell_type": "markdown",
   "metadata": {},
   "source": [
    "**--> Replace version data, subregion to generate**"
   ]
  },
  {
   "cell_type": "code",
   "execution_count": 7,
   "metadata": {},
   "outputs": [],
   "source": [
    "ChronixVersion = notebook_config['agent_rel_version'] #the version of the iteration we are doing for generating our environment\n",
    "subgrid_region = notebook_config['region']  #choose subgrid region betwen 1,2,3 for IEEE 118 subgrids\n",
    "\n",
    "#######\n",
    "ModeTest = notebook_config['mode_test'] #if Test notebook, this should be true, and everything will be run on 2 chronics over 2 months only to also test for multiprocess\n",
    "\n",
    "#######\n",
    "ModeRunnerWithSeeds = notebook_config['withseeds'] # Will generate Chronix with specific seed according the path specified."
   ]
  },
  {
   "cell_type": "markdown",
   "metadata": {},
   "source": [
    "**--> specify slack id and name for full grid and subgrid** <br>\n",
    "Slack Ids are necessary for slack correction - make sure they are correct for the full grid and subgrid"
   ]
  },
  {
   "cell_type": "code",
   "execution_count": 8,
   "metadata": {},
   "outputs": [],
   "source": [
    "#for full grid\n",
    "idxSlack=37\n",
    "nameSlack='gen_68_37'\n",
    "\n",
    "#for subgrid\n",
    "idxSlack_subgrid=21\n",
    "nameSlack_subgrid='gen_35_21'#it has changed name in the subgrid"
   ]
  },
  {
   "cell_type": "markdown",
   "metadata": {},
   "source": [
    "**--> specify paths** <br>"
   ]
  },
  {
   "cell_type": "code",
   "execution_count": 9,
   "metadata": {},
   "outputs": [],
   "source": [
    "'''Specify Chronix2grid paths'''\n",
    "Chronix2Grid_folder=Chronix2Grid_directory#os.path.join(Chronix2Grid_directory, \"ChroniX2Grid\")\n",
    "Input_folder=os.path.join(Chronix2Grid_folder, \"tests/data/input\") #chronix2grid input folder with necesaary patterns and grid case\n",
    "Ouput_folder=os.path.join(Chronix2Grid_folder, \"tests/data/output\") #output folder for chronics\n",
    "\n",
    "'''Specify Grid2Op_EnvironmentDesign path'''\n",
    "RunnerScriptFolder=os.path.join(Chronix2Grid_directory, \"getting_started\",\"scripts\")\n",
    "\n",
    "'''Specify full_ieee_118_grid and subgrid NAMES'''\n",
    "case_runner_grid = notebook_config['full_case_name']\n",
    "case_subgrid = notebook_config['subgrid_case_name']\n",
    "\n",
    "'''Specify output folder'''\n",
    "Ouput_folder_do_nothing=os.path.join(Chronix2Grid_folder, \"agent_results\" + \"_\" + ChronixVersion) #output folder when running the runner on chronics\n",
    "\n",
    "'''Specify path to read seeds'''\n",
    "seed_read_path = notebook_config['path_read_seeds']"
   ]
  },
  {
   "cell_type": "code",
   "execution_count": 10,
   "metadata": {},
   "outputs": [],
   "source": [
    "gridPath=os.path.join(Input_folder, 'generation', case_runner_grid)\n",
    "if not os.path.exists(gridPath):\n",
    "    print('WARNING: the grid folder '+gridPath+' does not exist, create it')\n",
    "    raise"
   ]
  },
  {
   "cell_type": "code",
   "execution_count": 12,
   "metadata": {},
   "outputs": [],
   "source": [
    "venv_chronix2grid_path=os.path.join(Chronix2Grid_folder, venv_chronix2grid_name)\n",
    "if not os.path.exists(venv_chronix2grid_path):\n",
    "    print('WARNING: the chronix2grid virtual env folder '+venv_chronix2grid_path+' does not exist, create it')\n",
    "    raise"
   ]
  },
  {
   "cell_type": "code",
   "execution_count": 13,
   "metadata": {},
   "outputs": [],
   "source": [
    "# subgridPath=os.path.join(RunnerScriptFolder,case_subgrid)\n",
    "# if not os.path.exists(subgridPath):\n",
    "#     print('WARNING: the subgrid folder '+subgridPath+' does not exist, be sure to locate your subgrid folder there.' \\\n",
    "#           'If you have not yet created it, run the subgrid_design.ipynb first')\n",
    "#     raise"
   ]
  },
  {
   "cell_type": "markdown",
   "metadata": {},
   "source": [
    "The Process is:\n",
    "    \n",
    "    Preliminaries: make sure you have the subgrid case created + create a modified case for the slack to run chroniX2Grid \n",
    "\n",
    "    1) Chronics Generation For Full IEEE 118\n",
    "        - move all chronics in a same folder \n",
    "        - duplicate the chronics folder to keep one origal and one that we will modify then\n",
    "    2) Run the runner with the do nothing agent\n",
    "        - we want to assess the residual losses that we did not account for in the chronix generation process\n",
    "    3) Correct the slack bus chronic with it\n",
    "        - so that no more compensation exists when we will run the chronix again, to avoid compensation making losse management negligeable to the amount of compensation\n",
    "    4) Create the subgrid chronics\n",
    "    5) Run the runner with the do nothing agent\n",
    "        - so that we are all set to analyze the environement and calibrate the thermal limits\n",
    "        \n",
    "    6) Last check to see that the slack does not need to compensate and be corrected anymore\n",
    "     "
   ]
  },
  {
   "cell_type": "markdown",
   "metadata": {},
   "source": [
    "## Preliminary - create a grid case with lower Pmax and Ramps\n",
    "\n",
    "<div class=\"alert alert-block alert-success\">\n",
    "This section may allow you to modify any input file that helps to create an environment in Grid2op and consequentently will affect the Economic Dispatch in the next process.\n",
    "</div>"
   ]
  },
  {
   "cell_type": "markdown",
   "metadata": {},
   "source": [
    "This is the case that will be used for Chronix2Grid generation.\n",
    "\n",
    "This will allow for slack correction later on the real case"
   ]
  },
  {
   "cell_type": "code",
   "execution_count": 14,
   "metadata": {},
   "outputs": [
    {
     "name": "stdout",
     "output_type": "stream",
     "text": [
      "/Users/antoinemarot/ChroniX2Grid/getting_started\r\n"
     ]
    }
   ],
   "source": [
    "!pwd"
   ]
  },
  {
   "cell_type": "code",
   "execution_count": 15,
   "metadata": {},
   "outputs": [],
   "source": [
    "case_chronix2grid=case_runner_grid+\"_modifySlackBeforeChronixGeneration\""
   ]
  },
  {
   "cell_type": "markdown",
   "metadata": {},
   "source": [
    "Copy the original case to create the slack modified case"
   ]
  },
  {
   "cell_type": "code",
   "execution_count": 16,
   "metadata": {},
   "outputs": [],
   "source": [
    "Input_folder_case=os.path.join(Input_folder,\"generation\",case_runner_grid)\n",
    "case_chronix2grid_folder=os.path.join(Ouput_folder,\"generation\",case_chronix2grid)\n",
    "\n",
    "if os.path.exists(case_chronix2grid_folder):\n",
    "    print('delete folder before creating:'+case_chronix2grid_folder)\n",
    "    !rm -rf $case_chronix2grid_folder\n",
    "    \n",
    "!cp -r $Input_folder_case/. $case_chronix2grid_folder"
   ]
  },
  {
   "cell_type": "code",
   "execution_count": 17,
   "metadata": {},
   "outputs": [
    {
     "data": {
      "text/plain": [
       "'/Users/antoinemarot/Chronix2Grid/tests/data/output/generation/case118_l2rpn_neurips_1x_modifySlackBeforeChronixGeneration'"
      ]
     },
     "execution_count": 17,
     "metadata": {},
     "output_type": "execute_result"
    }
   ],
   "source": [
    "case_chronix2grid_folder"
   ]
  },
  {
   "cell_type": "markdown",
   "metadata": {},
   "source": [
    "Change the slack values in prods.caract"
   ]
  },
  {
   "cell_type": "code",
   "execution_count": 18,
   "metadata": {},
   "outputs": [
    {
     "data": {
      "text/html": [
       "<div>\n",
       "<style scoped>\n",
       "    .dataframe tbody tr th:only-of-type {\n",
       "        vertical-align: middle;\n",
       "    }\n",
       "\n",
       "    .dataframe tbody tr th {\n",
       "        vertical-align: top;\n",
       "    }\n",
       "\n",
       "    .dataframe thead th {\n",
       "        text-align: right;\n",
       "    }\n",
       "</style>\n",
       "<table border=\"1\" class=\"dataframe\">\n",
       "  <thead>\n",
       "    <tr style=\"text-align: right;\">\n",
       "      <th></th>\n",
       "      <th>name</th>\n",
       "      <th>Pmax</th>\n",
       "      <th>Pmin</th>\n",
       "      <th>type</th>\n",
       "      <th>bus</th>\n",
       "      <th>max_ramp_up</th>\n",
       "      <th>max_ramp_down</th>\n",
       "      <th>min_up_time</th>\n",
       "      <th>min_down_time</th>\n",
       "      <th>marginal_cost</th>\n",
       "      <th>shut_down_cost</th>\n",
       "      <th>start_cost</th>\n",
       "      <th>zone</th>\n",
       "      <th>generator</th>\n",
       "      <th>x</th>\n",
       "      <th>y</th>\n",
       "      <th>V</th>\n",
       "    </tr>\n",
       "  </thead>\n",
       "  <tbody>\n",
       "    <tr>\n",
       "      <th>0</th>\n",
       "      <td>gen_3_0</td>\n",
       "      <td>33.6</td>\n",
       "      <td>0.0</td>\n",
       "      <td>wind</td>\n",
       "      <td>3</td>\n",
       "      <td>NaN</td>\n",
       "      <td>NaN</td>\n",
       "      <td>0.0</td>\n",
       "      <td>0.0</td>\n",
       "      <td>0.0</td>\n",
       "      <td>0</td>\n",
       "      <td>0.0</td>\n",
       "      <td>R1</td>\n",
       "      <td>0</td>\n",
       "      <td>62</td>\n",
       "      <td>-101</td>\n",
       "      <td>142.1</td>\n",
       "    </tr>\n",
       "    <tr>\n",
       "      <th>1</th>\n",
       "      <td>gen_3_1</td>\n",
       "      <td>33.6</td>\n",
       "      <td>0.0</td>\n",
       "      <td>wind</td>\n",
       "      <td>3</td>\n",
       "      <td>NaN</td>\n",
       "      <td>NaN</td>\n",
       "      <td>0.0</td>\n",
       "      <td>0.0</td>\n",
       "      <td>0.0</td>\n",
       "      <td>0</td>\n",
       "      <td>0.0</td>\n",
       "      <td>R1</td>\n",
       "      <td>70</td>\n",
       "      <td>62</td>\n",
       "      <td>-101</td>\n",
       "      <td>142.1</td>\n",
       "    </tr>\n",
       "    <tr>\n",
       "      <th>2</th>\n",
       "      <td>gen_7_2</td>\n",
       "      <td>400.0</td>\n",
       "      <td>0.0</td>\n",
       "      <td>nuclear</td>\n",
       "      <td>7</td>\n",
       "      <td>2.8</td>\n",
       "      <td>2.8</td>\n",
       "      <td>2016.0</td>\n",
       "      <td>2016.0</td>\n",
       "      <td>35.0</td>\n",
       "      <td>0</td>\n",
       "      <td>27728.7</td>\n",
       "      <td>R1</td>\n",
       "      <td>2</td>\n",
       "      <td>74</td>\n",
       "      <td>-293</td>\n",
       "      <td>355.4</td>\n",
       "    </tr>\n",
       "    <tr>\n",
       "      <th>3</th>\n",
       "      <td>gen_9_3</td>\n",
       "      <td>300.0</td>\n",
       "      <td>0.0</td>\n",
       "      <td>thermal</td>\n",
       "      <td>9</td>\n",
       "      <td>5.8</td>\n",
       "      <td>5.8</td>\n",
       "      <td>12.0</td>\n",
       "      <td>12.0</td>\n",
       "      <td>49.0</td>\n",
       "      <td>0</td>\n",
       "      <td>3392.3</td>\n",
       "      <td>R1</td>\n",
       "      <td>3</td>\n",
       "      <td>74</td>\n",
       "      <td>-390</td>\n",
       "      <td>355.4</td>\n",
       "    </tr>\n",
       "    <tr>\n",
       "      <th>4</th>\n",
       "      <td>gen_10_4</td>\n",
       "      <td>37.3</td>\n",
       "      <td>0.0</td>\n",
       "      <td>solar</td>\n",
       "      <td>10</td>\n",
       "      <td>NaN</td>\n",
       "      <td>NaN</td>\n",
       "      <td>0.0</td>\n",
       "      <td>0.0</td>\n",
       "      <td>0.0</td>\n",
       "      <td>0</td>\n",
       "      <td>0.0</td>\n",
       "      <td>R1</td>\n",
       "      <td>69</td>\n",
       "      <td>116</td>\n",
       "      <td>-104</td>\n",
       "      <td>142.1</td>\n",
       "    </tr>\n",
       "  </tbody>\n",
       "</table>\n",
       "</div>"
      ],
      "text/plain": [
       "       name   Pmax  Pmin     type  bus  max_ramp_up  max_ramp_down  \\\n",
       "0   gen_3_0   33.6   0.0     wind    3          NaN            NaN   \n",
       "1   gen_3_1   33.6   0.0     wind    3          NaN            NaN   \n",
       "2   gen_7_2  400.0   0.0  nuclear    7          2.8            2.8   \n",
       "3   gen_9_3  300.0   0.0  thermal    9          5.8            5.8   \n",
       "4  gen_10_4   37.3   0.0    solar   10          NaN            NaN   \n",
       "\n",
       "   min_up_time  min_down_time  marginal_cost  shut_down_cost  start_cost zone  \\\n",
       "0          0.0            0.0            0.0               0         0.0   R1   \n",
       "1          0.0            0.0            0.0               0         0.0   R1   \n",
       "2       2016.0         2016.0           35.0               0     27728.7   R1   \n",
       "3         12.0           12.0           49.0               0      3392.3   R1   \n",
       "4          0.0            0.0            0.0               0         0.0   R1   \n",
       "\n",
       "   generator    x    y      V  \n",
       "0          0   62 -101  142.1  \n",
       "1         70   62 -101  142.1  \n",
       "2          2   74 -293  355.4  \n",
       "3          3   74 -390  355.4  \n",
       "4         69  116 -104  142.1  "
      ]
     },
     "execution_count": 18,
     "metadata": {},
     "output_type": "execute_result"
    }
   ],
   "source": [
    "prod_caract_df=pd.read_csv(os.path.join(case_chronix2grid_folder,'prods_charac.csv'))\n",
    "prod_caract_df.head()"
   ]
  },
  {
   "cell_type": "markdown",
   "metadata": {},
   "source": [
    "<div class=\"alert alert-block alert-warning\">\n",
    "<b>WARNING:</b> we suppose that the slack bus has ID 37\n",
    "</div>"
   ]
  },
  {
   "cell_type": "code",
   "execution_count": 19,
   "metadata": {},
   "outputs": [
    {
     "data": {
      "text/html": [
       "<div>\n",
       "<style scoped>\n",
       "    .dataframe tbody tr th:only-of-type {\n",
       "        vertical-align: middle;\n",
       "    }\n",
       "\n",
       "    .dataframe tbody tr th {\n",
       "        vertical-align: top;\n",
       "    }\n",
       "\n",
       "    .dataframe thead th {\n",
       "        text-align: right;\n",
       "    }\n",
       "</style>\n",
       "<table border=\"1\" class=\"dataframe\">\n",
       "  <thead>\n",
       "    <tr style=\"text-align: right;\">\n",
       "      <th></th>\n",
       "      <th>name</th>\n",
       "      <th>Pmax</th>\n",
       "      <th>Pmin</th>\n",
       "      <th>type</th>\n",
       "      <th>bus</th>\n",
       "      <th>max_ramp_up</th>\n",
       "      <th>max_ramp_down</th>\n",
       "      <th>min_up_time</th>\n",
       "      <th>min_down_time</th>\n",
       "      <th>marginal_cost</th>\n",
       "      <th>shut_down_cost</th>\n",
       "      <th>start_cost</th>\n",
       "      <th>zone</th>\n",
       "      <th>generator</th>\n",
       "      <th>x</th>\n",
       "      <th>y</th>\n",
       "      <th>V</th>\n",
       "    </tr>\n",
       "  </thead>\n",
       "  <tbody>\n",
       "    <tr>\n",
       "      <th>37</th>\n",
       "      <td>gen_68_37</td>\n",
       "      <td>350.0</td>\n",
       "      <td>0.0</td>\n",
       "      <td>thermal</td>\n",
       "      <td>68</td>\n",
       "      <td>9.9</td>\n",
       "      <td>9.9</td>\n",
       "      <td>96.0</td>\n",
       "      <td>48.0</td>\n",
       "      <td>40.0</td>\n",
       "      <td>0</td>\n",
       "      <td>27050.6</td>\n",
       "      <td>R2</td>\n",
       "      <td>28</td>\n",
       "      <td>727</td>\n",
       "      <td>-339</td>\n",
       "      <td>142.1</td>\n",
       "    </tr>\n",
       "  </tbody>\n",
       "</table>\n",
       "</div>"
      ],
      "text/plain": [
       "         name   Pmax  Pmin     type  bus  max_ramp_up  max_ramp_down  \\\n",
       "37  gen_68_37  350.0   0.0  thermal   68          9.9            9.9   \n",
       "\n",
       "    min_up_time  min_down_time  marginal_cost  shut_down_cost  start_cost  \\\n",
       "37         96.0           48.0           40.0               0     27050.6   \n",
       "\n",
       "   zone  generator    x    y      V  \n",
       "37   R2         28  727 -339  142.1  "
      ]
     },
     "execution_count": 19,
     "metadata": {},
     "output_type": "execute_result"
    }
   ],
   "source": [
    "if not (prod_caract_df['name'][idxSlack]==nameSlack):\n",
    "    print(\"are you sure this is the slack ID ?\")\n",
    "    raise\n",
    "\n",
    "prod_caract_df.loc[[37]].head()"
   ]
  },
  {
   "cell_type": "code",
   "execution_count": 20,
   "metadata": {
    "scrolled": true
   },
   "outputs": [
    {
     "data": {
      "text/html": [
       "<div>\n",
       "<style scoped>\n",
       "    .dataframe tbody tr th:only-of-type {\n",
       "        vertical-align: middle;\n",
       "    }\n",
       "\n",
       "    .dataframe tbody tr th {\n",
       "        vertical-align: top;\n",
       "    }\n",
       "\n",
       "    .dataframe thead th {\n",
       "        text-align: right;\n",
       "    }\n",
       "</style>\n",
       "<table border=\"1\" class=\"dataframe\">\n",
       "  <thead>\n",
       "    <tr style=\"text-align: right;\">\n",
       "      <th></th>\n",
       "      <th>name</th>\n",
       "      <th>Pmax</th>\n",
       "      <th>Pmin</th>\n",
       "      <th>type</th>\n",
       "      <th>bus</th>\n",
       "      <th>max_ramp_up</th>\n",
       "      <th>max_ramp_down</th>\n",
       "      <th>min_up_time</th>\n",
       "      <th>min_down_time</th>\n",
       "      <th>marginal_cost</th>\n",
       "      <th>shut_down_cost</th>\n",
       "      <th>start_cost</th>\n",
       "      <th>zone</th>\n",
       "      <th>generator</th>\n",
       "      <th>x</th>\n",
       "      <th>y</th>\n",
       "      <th>V</th>\n",
       "    </tr>\n",
       "  </thead>\n",
       "  <tbody>\n",
       "    <tr>\n",
       "      <th>37</th>\n",
       "      <td>gen_68_37</td>\n",
       "      <td>200.0</td>\n",
       "      <td>0.0</td>\n",
       "      <td>thermal</td>\n",
       "      <td>68</td>\n",
       "      <td>3.9</td>\n",
       "      <td>3.9</td>\n",
       "      <td>96.0</td>\n",
       "      <td>48.0</td>\n",
       "      <td>40.0</td>\n",
       "      <td>0</td>\n",
       "      <td>27050.6</td>\n",
       "      <td>R2</td>\n",
       "      <td>28</td>\n",
       "      <td>727</td>\n",
       "      <td>-339</td>\n",
       "      <td>142.1</td>\n",
       "    </tr>\n",
       "  </tbody>\n",
       "</table>\n",
       "</div>"
      ],
      "text/plain": [
       "         name   Pmax  Pmin     type  bus  max_ramp_up  max_ramp_down  \\\n",
       "37  gen_68_37  200.0   0.0  thermal   68          3.9            3.9   \n",
       "\n",
       "    min_up_time  min_down_time  marginal_cost  shut_down_cost  start_cost  \\\n",
       "37         96.0           48.0           40.0               0     27050.6   \n",
       "\n",
       "   zone  generator    x    y      V  \n",
       "37   R2         28  727 -339  142.1  "
      ]
     },
     "execution_count": 20,
     "metadata": {},
     "output_type": "execute_result"
    }
   ],
   "source": [
    "# PmaxReduction=100\n",
    "PmaxReduction=150\n",
    "RampReduction=6\n",
    "\n",
    "prod_caract_df.at[idxSlack,'Pmax']=np.round(prod_caract_df.at[idxSlack,'Pmax']-PmaxReduction,1)\n",
    "prod_caract_df.at[idxSlack,'max_ramp_up']=np.round(prod_caract_df.at[idxSlack,'max_ramp_up']-RampReduction,1)\n",
    "prod_caract_df.at[idxSlack,'max_ramp_down']=np.round(prod_caract_df.at[idxSlack,'max_ramp_down']-RampReduction,1)\n",
    "\n",
    "prod_caract_df.loc[[37]].head()"
   ]
  },
  {
   "cell_type": "code",
   "execution_count": 21,
   "metadata": {},
   "outputs": [],
   "source": [
    "#hydro ramp reduction to smoothen the hydro production patterns, especially when you have same cost\n",
    "RampHydroReductionFactor=2\n",
    "idxHydro=prod_caract_df[prod_caract_df.type=='hydro'].index\n",
    "\n",
    "prod_caract_df.loc[idxHydro,'max_ramp_up']=np.round(prod_caract_df.loc[idxHydro,'max_ramp_up']/RampHydroReductionFactor,1)\n",
    "prod_caract_df.loc[idxHydro,'max_ramp_down']=np.round(prod_caract_df.loc[idxHydro,'max_ramp_down']/RampHydroReductionFactor,1)\n"
   ]
  },
  {
   "cell_type": "code",
   "execution_count": 22,
   "metadata": {},
   "outputs": [
    {
     "data": {
      "text/plain": [
       "[6, 10, 19, 38, 42, 45, 53]"
      ]
     },
     "execution_count": 22,
     "metadata": {},
     "output_type": "execute_result"
    }
   ],
   "source": [
    "list(idxHydro)"
   ]
  },
  {
   "cell_type": "code",
   "execution_count": 23,
   "metadata": {},
   "outputs": [
    {
     "data": {
      "text/html": [
       "<div>\n",
       "<style scoped>\n",
       "    .dataframe tbody tr th:only-of-type {\n",
       "        vertical-align: middle;\n",
       "    }\n",
       "\n",
       "    .dataframe tbody tr th {\n",
       "        vertical-align: top;\n",
       "    }\n",
       "\n",
       "    .dataframe thead th {\n",
       "        text-align: right;\n",
       "    }\n",
       "</style>\n",
       "<table border=\"1\" class=\"dataframe\">\n",
       "  <thead>\n",
       "    <tr style=\"text-align: right;\">\n",
       "      <th></th>\n",
       "      <th>name</th>\n",
       "      <th>Pmax</th>\n",
       "      <th>Pmin</th>\n",
       "      <th>type</th>\n",
       "      <th>bus</th>\n",
       "      <th>max_ramp_up</th>\n",
       "      <th>max_ramp_down</th>\n",
       "      <th>min_up_time</th>\n",
       "      <th>min_down_time</th>\n",
       "      <th>marginal_cost</th>\n",
       "      <th>shut_down_cost</th>\n",
       "      <th>start_cost</th>\n",
       "      <th>zone</th>\n",
       "      <th>generator</th>\n",
       "      <th>x</th>\n",
       "      <th>y</th>\n",
       "      <th>V</th>\n",
       "    </tr>\n",
       "  </thead>\n",
       "  <tbody>\n",
       "    <tr>\n",
       "      <th>6</th>\n",
       "      <td>gen_11_6</td>\n",
       "      <td>250.0</td>\n",
       "      <td>0.0</td>\n",
       "      <td>hydro</td>\n",
       "      <td>11</td>\n",
       "      <td>5.2</td>\n",
       "      <td>5.2</td>\n",
       "      <td>12.0</td>\n",
       "      <td>12.0</td>\n",
       "      <td>38.0</td>\n",
       "      <td>0</td>\n",
       "      <td>0.0</td>\n",
       "      <td>R1</td>\n",
       "      <td>4</td>\n",
       "      <td>191</td>\n",
       "      <td>-82</td>\n",
       "      <td>142.1</td>\n",
       "    </tr>\n",
       "    <tr>\n",
       "      <th>10</th>\n",
       "      <td>gen_17_10</td>\n",
       "      <td>250.0</td>\n",
       "      <td>0.0</td>\n",
       "      <td>hydro</td>\n",
       "      <td>17</td>\n",
       "      <td>5.2</td>\n",
       "      <td>5.2</td>\n",
       "      <td>12.0</td>\n",
       "      <td>12.0</td>\n",
       "      <td>39.0</td>\n",
       "      <td>0</td>\n",
       "      <td>0.0</td>\n",
       "      <td>R1</td>\n",
       "      <td>6</td>\n",
       "      <td>317</td>\n",
       "      <td>-250</td>\n",
       "      <td>142.1</td>\n",
       "    </tr>\n",
       "    <tr>\n",
       "      <th>19</th>\n",
       "      <td>gen_41_19</td>\n",
       "      <td>250.0</td>\n",
       "      <td>0.0</td>\n",
       "      <td>hydro</td>\n",
       "      <td>41</td>\n",
       "      <td>5.2</td>\n",
       "      <td>5.2</td>\n",
       "      <td>12.0</td>\n",
       "      <td>12.0</td>\n",
       "      <td>36.0</td>\n",
       "      <td>0</td>\n",
       "      <td>0.0</td>\n",
       "      <td>R2</td>\n",
       "      <td>20</td>\n",
       "      <td>700</td>\n",
       "      <td>-46</td>\n",
       "      <td>142.1</td>\n",
       "    </tr>\n",
       "    <tr>\n",
       "      <th>38</th>\n",
       "      <td>gen_69_38</td>\n",
       "      <td>250.0</td>\n",
       "      <td>0.0</td>\n",
       "      <td>hydro</td>\n",
       "      <td>69</td>\n",
       "      <td>5.2</td>\n",
       "      <td>5.2</td>\n",
       "      <td>12.0</td>\n",
       "      <td>12.0</td>\n",
       "      <td>37.0</td>\n",
       "      <td>0</td>\n",
       "      <td>0.0</td>\n",
       "      <td>R1</td>\n",
       "      <td>31</td>\n",
       "      <td>582</td>\n",
       "      <td>-346</td>\n",
       "      <td>142.1</td>\n",
       "    </tr>\n",
       "    <tr>\n",
       "      <th>42</th>\n",
       "      <td>gen_76_42</td>\n",
       "      <td>250.0</td>\n",
       "      <td>0.0</td>\n",
       "      <td>hydro</td>\n",
       "      <td>76</td>\n",
       "      <td>5.2</td>\n",
       "      <td>5.2</td>\n",
       "      <td>12.0</td>\n",
       "      <td>12.0</td>\n",
       "      <td>37.0</td>\n",
       "      <td>0</td>\n",
       "      <td>0.0</td>\n",
       "      <td>R2</td>\n",
       "      <td>23</td>\n",
       "      <td>718</td>\n",
       "      <td>-518</td>\n",
       "      <td>142.1</td>\n",
       "    </tr>\n",
       "  </tbody>\n",
       "</table>\n",
       "</div>"
      ],
      "text/plain": [
       "         name   Pmax  Pmin   type  bus  max_ramp_up  max_ramp_down  \\\n",
       "6    gen_11_6  250.0   0.0  hydro   11          5.2            5.2   \n",
       "10  gen_17_10  250.0   0.0  hydro   17          5.2            5.2   \n",
       "19  gen_41_19  250.0   0.0  hydro   41          5.2            5.2   \n",
       "38  gen_69_38  250.0   0.0  hydro   69          5.2            5.2   \n",
       "42  gen_76_42  250.0   0.0  hydro   76          5.2            5.2   \n",
       "\n",
       "    min_up_time  min_down_time  marginal_cost  shut_down_cost  start_cost  \\\n",
       "6          12.0           12.0           38.0               0         0.0   \n",
       "10         12.0           12.0           39.0               0         0.0   \n",
       "19         12.0           12.0           36.0               0         0.0   \n",
       "38         12.0           12.0           37.0               0         0.0   \n",
       "42         12.0           12.0           37.0               0         0.0   \n",
       "\n",
       "   zone  generator    x    y      V  \n",
       "6    R1          4  191  -82  142.1  \n",
       "10   R1          6  317 -250  142.1  \n",
       "19   R2         20  700  -46  142.1  \n",
       "38   R1         31  582 -346  142.1  \n",
       "42   R2         23  718 -518  142.1  "
      ]
     },
     "execution_count": 23,
     "metadata": {},
     "output_type": "execute_result"
    }
   ],
   "source": [
    "prod_caract_df.loc[idxHydro].head()"
   ]
  },
  {
   "cell_type": "code",
   "execution_count": 24,
   "metadata": {},
   "outputs": [],
   "source": [
    "prod_caract_df.to_csv(os.path.join(case_chronix2grid_folder,'prods_charac.csv'),index=False)"
   ]
  },
  {
   "cell_type": "code",
   "execution_count": 25,
   "metadata": {},
   "outputs": [
    {
     "data": {
      "text/plain": [
       "'/Users/antoinemarot/Chronix2Grid/tests/data/output/generation/case118_l2rpn_neurips_1x_modifySlackBeforeChronixGeneration'"
      ]
     },
     "execution_count": 25,
     "metadata": {},
     "output_type": "execute_result"
    }
   ],
   "source": [
    "case_chronix2grid_folder"
   ]
  },
  {
   "cell_type": "markdown",
   "metadata": {},
   "source": [
    "### Also change grid_path in params_opf.json "
   ]
  },
  {
   "cell_type": "code",
   "execution_count": 26,
   "metadata": {},
   "outputs": [
    {
     "data": {
      "text/plain": [
       "'input_data/generation/case118_l2rpn_wcci_modifySlackBeforeChronixGeneration_v2/L2RPN_2020_case118_redesigned.json'"
      ]
     },
     "execution_count": 26,
     "metadata": {},
     "output_type": "execute_result"
    }
   ],
   "source": [
    "import json \n",
    "  \n",
    "# Opening JSON file \n",
    "filePath=os.path.join(case_chronix2grid_folder,'params_opf.json')\n",
    "f = open(filePath,) \n",
    "  \n",
    "# returns JSON object as  \n",
    "# a dictionary \n",
    "params_json = json.load(f) \n",
    "params_json['grid_path']"
   ]
  },
  {
   "cell_type": "code",
   "execution_count": 27,
   "metadata": {},
   "outputs": [],
   "source": [
    "# Change losses compensation (this should be below the minimal ratio of losses we will \n",
    "#see after running Grid2op on the chronics) \n",
    "#Otherwise it will lead to negative slack production\n",
    "#params_json['reactive_comp'] = 0.5\n",
    "params_json['losses_pct'] = 0.4"
   ]
  },
  {
   "cell_type": "code",
   "execution_count": 28,
   "metadata": {},
   "outputs": [],
   "source": [
    "params_json['grid_path']=os.path.join(case_chronix2grid_folder,'grid.json')\n",
    "f.close()"
   ]
  },
  {
   "cell_type": "code",
   "execution_count": 29,
   "metadata": {},
   "outputs": [],
   "source": [
    "with open(filePath, 'w') as f:\n",
    "    json.dump(params_json, f)"
   ]
  },
  {
   "cell_type": "code",
   "execution_count": 30,
   "metadata": {},
   "outputs": [
    {
     "data": {
      "text/plain": [
       "'/Users/antoinemarot/Chronix2Grid/tests/data/output/generation/case118_l2rpn_neurips_1x_modifySlackBeforeChronixGeneration/grid.json'"
      ]
     },
     "execution_count": 30,
     "metadata": {},
     "output_type": "execute_result"
    }
   ],
   "source": [
    "#check\n",
    "f = open(filePath,) \n",
    "params_json = json.load(f) \n",
    "params_json['grid_path']"
   ]
  },
  {
   "cell_type": "code",
   "execution_count": 31,
   "metadata": {},
   "outputs": [
    {
     "data": {
      "text/plain": [
       "0.4"
      ]
     },
     "execution_count": 31,
     "metadata": {},
     "output_type": "execute_result"
    }
   ],
   "source": [
    "params_json['losses_pct']"
   ]
  },
  {
   "cell_type": "markdown",
   "metadata": {},
   "source": [
    "## 1) Chronics Generation For Full IEEE 118\n",
    "\n",
    "<div class=\"alert alert-block alert-success\">\n",
    "Run Economic dispatch using Chronix2Grid.\n",
    "</div>\n",
    "\n",
    "It will create two folders:\n",
    "\n",
    "```\n",
    "|---main_root\n",
    "    |---Chronix2grid\n",
    "        |---{#scenarios}_years_chronics_{version} (1)\n",
    "        |---{#scenarios}_years_chronics_{version}_SlackCorrection (2)\n",
    "```\n",
    "\n",
    "Dir (1) will contain the results of the Economic Dispatch <br>\n",
    "Dir (2) will be created temporarily with the same result as dir (1)"
   ]
  },
  {
   "cell_type": "code",
   "execution_count": 32,
   "metadata": {},
   "outputs": [],
   "source": [
    "# create a unique chronics folder + copy it to later apply slack compensation\n",
    "folderChronics=os.path.join(Ouput_folder,\"generation\", str(n_scenarios) + \"years_chronix_\" + ChronixVersion)\n",
    "folderChronicsCorrected=folderChronics+\"_SlackCorrection\"\n",
    "\n",
    "if os.path.exists(folderChronics):\n",
    "    print('delete folder before creating')\n",
    "    !rm -rf $folderChronics\n",
    "os.makedirs(folderChronics, exist_ok=True)\n",
    "\n",
    "if os.path.exists(folderChronicsCorrected):\n",
    "    print('delete folder before creating')\n",
    "    !rm -rf $folderChronicsCorrected"
   ]
  },
  {
   "cell_type": "code",
   "execution_count": 33,
   "metadata": {},
   "outputs": [],
   "source": [
    "os.makedirs(folderChronics, exist_ok=True)\n",
    "os.makedirs(folderChronicsCorrected, exist_ok=True)"
   ]
  },
  {
   "cell_type": "code",
   "execution_count": 34,
   "metadata": {},
   "outputs": [
    {
     "name": "stdout",
     "output_type": "stream",
     "text": [
      "total 0\r\n",
      "0 drwxr-xr-x  2 antoinemarot  staff   64 24 nov 16:55 \u001b[34m.\u001b[m\u001b[m\r\n",
      "0 drwxr-xr-x  6 antoinemarot  staff  192 24 nov 16:55 \u001b[34m..\u001b[m\u001b[m\r\n"
     ]
    }
   ],
   "source": [
    "!ls -lsastr $folderChronics"
   ]
  },
  {
   "cell_type": "code",
   "execution_count": 35,
   "metadata": {},
   "outputs": [
    {
     "name": "stdout",
     "output_type": "stream",
     "text": [
      "total 0\r\n",
      "0 drwxr-xr-x  2 antoinemarot  staff   64 24 nov 16:55 \u001b[34m.\u001b[m\u001b[m\r\n",
      "0 drwxr-xr-x  6 antoinemarot  staff  192 24 nov 16:55 \u001b[34m..\u001b[m\u001b[m\r\n"
     ]
    }
   ],
   "source": [
    "!ls -lsastr $folderChronicsCorrected"
   ]
  },
  {
   "cell_type": "code",
   "execution_count": 36,
   "metadata": {},
   "outputs": [
    {
     "name": "stdout",
     "output_type": "stream",
     "text": [
      "/Users/antoinemarot/ChroniX2Grid/getting_started\r\n"
     ]
    }
   ],
   "source": [
    "!pwd"
   ]
  },
  {
   "cell_type": "code",
   "execution_count": 37,
   "metadata": {},
   "outputs": [],
   "source": [
    "months=[\"january\",\"february\",\"march\",\"april\",\"may\",\"june\",\n",
    "        \"july\", \"august\", \"september\", \"october\", \"november\", \"december\"]\n",
    "#months=[\"november\",\"december\"]\n",
    "\n",
    "start_dates=[\"2012-01-01\", \"2012-02-01\", \"2012-03-01\", \"2012-04-01\", \"2012-05-01\", \"2012-06-01\",\n",
    "             \"2012-07-01\", \"2012-08-01\", \"2012-09-01\", \"2012-10-01\", \"2012-11-01\", \"2012-12-01\"]\n",
    "#start_dates=[\"2012-11-01\",\"2012-12-01\"]\n",
    "\n",
    "#os.chdir(\"ChroniX2Grid/chronix2grid\")\n",
    "os.chdir(Chronix2Grid_folder)\n",
    "#!source venv_chronix2grid/bin/activate "
   ]
  },
  {
   "cell_type": "markdown",
   "metadata": {},
   "source": [
    "#### Read seed form path"
   ]
  },
  {
   "cell_type": "code",
   "execution_count": 38,
   "metadata": {},
   "outputs": [
    {
     "name": "stdout",
     "output_type": "stream",
     "text": [
      "/Users/antoinemarot/ChroniX2Grid\r\n"
     ]
    }
   ],
   "source": [
    "!pwd"
   ]
  },
  {
   "cell_type": "code",
   "execution_count": 39,
   "metadata": {},
   "outputs": [],
   "source": [
    "seed = {}\n",
    "if ModeRunnerWithSeeds:  \n",
    "    with open(seed_read_path) as f:\n",
    "        seed = json.load(f)\n",
    "#if ModeRunnerWithSeeds and os.path.exists(seed_read_path):  \n",
    "#    for file in glob(os.path.join(seed_read_path, '*.json')):\n",
    "#        with open(file) as f:\n",
    "#            seed_file = json.load(f)\n",
    "#            month = os.path.basename(file).split('_')[0]\n",
    "#            # Fill seed\n",
    "#            seed[month] = {'loads': seed_file['loads'],\n",
    "#                           'renewables': seed_file['renewables'],\n",
    "#                           'dispatch': seed_file['dispatch'],\n",
    "#                          }\n",
    "#        \n",
    "#pprint(seed, width=1)"
   ]
  },
  {
   "cell_type": "markdown",
   "metadata": {},
   "source": [
    "<div class=\"alert alert-block alert-info\">\n",
    "    Execute command line to run economic dispatch\n",
    "</div>\n",
    "\n",
    "<div class=\"alert alert-block alert-warning\">\n",
    "<b>WARNING:</b> Chronix2grid virtualenv will be activated\n",
    "</div>"
   ]
  },
  {
   "cell_type": "markdown",
   "metadata": {},
   "source": [
    "Generate 4 weeks chronics for every month in the Chronix2grid virtual env"
   ]
  },
  {
   "cell_type": "code",
   "execution_count": 40,
   "metadata": {
    "scrolled": true
   },
   "outputs": [
    {
     "name": "stdout",
     "output_type": "stream",
     "text": [
      "we are in testing mode for the process of this notebook\n",
      "january\n",
      "february\n"
     ]
    }
   ],
   "source": [
    "if ModeTest:\n",
    "    print('we are in testing mode for the process of this notebook')\n",
    "    months=months[0:2]\n",
    "    start_dates=start_dates[0:2]\n",
    "    n_scenarios=2 #number of scenarios to generate for each month\n",
    "    nb_core=4\n",
    "    \n",
    "else:\n",
    "    print('we are in production mode for the process of this notebook, generating lots of chronics')\n",
    "    \n",
    "for i in range(len(months)):\n",
    "    month=months[i]\n",
    "    print(month)\n",
    "    start_date=start_dates[i]\n",
    "\n",
    "    #define your chronix2grid command line with your arguments\n",
    "    cli_activateVirtualEnv='. '+venv_chronix2grid_path+'/bin/activate'\n",
    "    \n",
    "    if ModeRunnerWithSeeds:\n",
    "        cli_chronix2grid=\"chronix2grid \\\n",
    "                         --mode LRT --output-folder {} --input-folder {} --ignore-warnings \\\n",
    "                         --weeks 4 --case {} --n_scenarios {} --nb_core {} --scenario_name {} --start-date {} \\\n",
    "                         --seed-for-loads {} --seed-for-res {} --seed-for-dispatch {}\".format(\n",
    "                         Ouput_folder, Input_folder, case_chronix2grid, n_scenarios, nb_core, month, start_date, \\\n",
    "                         seed[month]['loads'], seed[month]['renewables'], seed[month]['dispatch']) \n",
    "        \n",
    "    else:\n",
    "        cli_chronix2grid=\"chronix2grid \\\n",
    "                         --mode LRT --output-folder {} --input-folder {} --ignore-warnings \\\n",
    "                         --weeks 4 --case {} --n_scenarios {} --nb_core {} --scenario_name {} --start-date {}\".format(\n",
    "                         Ouput_folder, Input_folder, case_chronix2grid, n_scenarios, nb_core, month, start_date)\n",
    "        \n",
    "    #call a subprocess to load your virtual env and excute your cli with it\n",
    "#     subprocess.call('. venv_chronix2grid/bin/activate;'+cli_chronix2grid, shell=True)\n",
    "    output=subprocess.call(cli_activateVirtualEnv+';' + cli_chronix2grid, shell=True)\n",
    "    "
   ]
  },
  {
   "cell_type": "code",
   "execution_count": 52,
   "metadata": {},
   "outputs": [
    {
     "data": {
      "text/plain": [
       "'chronix2grid                          --mode LRT --output-folder /Users/antoinemarot/Chronix2Grid/tests/data/output --input-folder /Users/antoinemarot/Chronix2Grid/tests/data/input --ignore-warnings                          --weeks 4 --case case118_l2rpn_neurips_1x_modifySlackBeforeChronixGeneration --n_scenarios 2 --nb_core 4 --scenario_name february --start-date 2012-02-01                          --seed-for-loads 936327420 --seed-for-res 936327420 --seed-for-dispatch 936327420'"
      ]
     },
     "execution_count": 52,
     "metadata": {},
     "output_type": "execute_result"
    }
   ],
   "source": [
    "cli_chronix2grid"
   ]
  },
  {
   "cell_type": "code",
   "execution_count": 41,
   "metadata": {},
   "outputs": [],
   "source": [
    "Output_folder_chronics=os.path.join(Ouput_folder,\"generation\",case_chronix2grid)"
   ]
  },
  {
   "cell_type": "code",
   "execution_count": 42,
   "metadata": {},
   "outputs": [
    {
     "name": "stdout",
     "output_type": "stream",
     "text": [
      "total 400\r\n",
      " 16 -rw-r--r--@  1 antoinemarot  staff    6148 24 nov 16:55 .DS_Store\r\n",
      "  8 -rw-r--r--   1 antoinemarot  staff     638 24 nov 16:55 config.py\r\n",
      " 16 -rw-r--r--@  1 antoinemarot  staff    7665 24 nov 16:55 grid_layout.json\r\n",
      "  8 -rwxr-xr-x   1 antoinemarot  staff     585 24 nov 16:55 \u001b[31mparams.json\u001b[m\u001b[m\r\n",
      "312 -rw-r--r--   1 antoinemarot  staff  157483 24 nov 16:55 grid.json\r\n",
      "  0 drwxr-xr-x   9 antoinemarot  staff     288 24 nov 16:55 \u001b[34mchronics\u001b[m\u001b[m\r\n",
      "  0 drwxr-xr-x  11 antoinemarot  staff     352 24 nov 16:55 \u001b[34m.\u001b[m\u001b[m\r\n",
      " 16 -rw-r--r--   1 antoinemarot  staff    5261 24 nov 16:55 loads_charac.csv\r\n",
      " 16 -rw-r--r--   1 antoinemarot  staff    4830 24 nov 16:55 prods_charac.csv\r\n",
      "  8 -rw-r--r--   1 antoinemarot  staff     316 24 nov 16:55 params_opf.json\r\n",
      "  0 drwxr-xr-x   6 antoinemarot  staff     192 24 nov 16:55 \u001b[34m..\u001b[m\u001b[m\r\n"
     ]
    }
   ],
   "source": [
    "!ls -lsastr $Output_folder_chronics"
   ]
  },
  {
   "cell_type": "code",
   "execution_count": 43,
   "metadata": {},
   "outputs": [
    {
     "name": "stdout",
     "output_type": "stream",
     "text": [
      "total 0\r\n",
      "0 drwxr-xr-x  2 antoinemarot  staff   64 24 nov 16:55 \u001b[34m.\u001b[m\u001b[m\r\n",
      "0 drwxr-xr-x  6 antoinemarot  staff  192 24 nov 16:55 \u001b[34m..\u001b[m\u001b[m\r\n"
     ]
    }
   ],
   "source": [
    "!ls -lsastr $folderChronics"
   ]
  },
  {
   "cell_type": "markdown",
   "metadata": {},
   "source": [
    "<code style=\"background:yellow;color:black\">\n",
    "Move economic dispatch results to Dir (1)\n",
    "</code>"
   ]
  },
  {
   "cell_type": "code",
   "execution_count": 44,
   "metadata": {},
   "outputs": [],
   "source": [
    "\n",
    "existing_folderChronics=os.path.join(Ouput_folder, 'generation', case_chronix2grid)#\"${Ouput_folder}/generation/${case}/\"\n",
    "\n",
    "existing_subfolderChronics=next(os.walk(existing_folderChronics))[1]\n",
    "existing_subfolderChronics=[os.path.join(existing_folderChronics,subF) for subF in existing_subfolderChronics]\n",
    "\n",
    "for d in existing_subfolderChronics:\n",
    "    #!ls $d/*\n",
    "    !mv $d/* $folderChronics"
   ]
  },
  {
   "cell_type": "code",
   "execution_count": 45,
   "metadata": {},
   "outputs": [],
   "source": [
    "nFolders=n_scenarios*len(months)\n",
    "if(len(next(os.walk(folderChronics))[1])!=nFolders):\n",
    "    print(\"we have a problem in the chronics generation - maybe chronics to grid did not run properly\")\n",
    "    print(\"do it in the shell to check\")\n",
    "    print(\"do 1)  . venv_chronix2grid/bin/activate\")\n",
    "    print(\"this will source chronix2grid\")\n",
    "    print(\"do 2) \")\n",
    "    print(cli_chronix2grid)\n",
    "    raise"
   ]
  },
  {
   "cell_type": "code",
   "execution_count": 46,
   "metadata": {},
   "outputs": [
    {
     "data": {
      "text/plain": [
       "'/Users/antoinemarot/Chronix2Grid/tests/data/output/generation/2years_chronix_1x'"
      ]
     },
     "execution_count": 46,
     "metadata": {},
     "output_type": "execute_result"
    }
   ],
   "source": [
    "folderChronics"
   ]
  },
  {
   "cell_type": "markdown",
   "metadata": {},
   "source": [
    "<code style=\"background:yellow;color:black\">\n",
    "Copy temporarily chronics from Dir (1) to Dir (2)\n",
    "</code>"
   ]
  },
  {
   "cell_type": "code",
   "execution_count": 47,
   "metadata": {},
   "outputs": [],
   "source": [
    "#!cp -r $folderChronics/* $folderChronicsCorrected\n",
    "!cp -r $folderChronics/. $folderChronicsCorrected"
   ]
  },
  {
   "cell_type": "code",
   "execution_count": 48,
   "metadata": {},
   "outputs": [
    {
     "name": "stdout",
     "output_type": "stream",
     "text": [
      "total 16\r\n",
      "0 drwxr-xr-x   6 antoinemarot  staff  192 24 nov 16:55 \u001b[34m..\u001b[m\u001b[m\r\n",
      "0 drwxr-xr-x  17 antoinemarot  staff  544 24 nov 16:55 \u001b[34mScenario_january_1\u001b[m\u001b[m\r\n",
      "0 drwxr-xr-x  17 antoinemarot  staff  544 24 nov 16:55 \u001b[34mScenario_january_0\u001b[m\u001b[m\r\n",
      "8 -rw-r--r--   1 antoinemarot  staff   71 24 nov 16:55 january_seeds_info.json\r\n",
      "0 drwxr-xr-x  17 antoinemarot  staff  544 24 nov 16:55 \u001b[34mScenario_february_1\u001b[m\u001b[m\r\n",
      "0 drwxr-xr-x  17 antoinemarot  staff  544 24 nov 16:55 \u001b[34mScenario_february_0\u001b[m\u001b[m\r\n",
      "0 drwxr-xr-x   8 antoinemarot  staff  256 24 nov 16:55 \u001b[34m.\u001b[m\u001b[m\r\n",
      "8 -rw-r--r--   1 antoinemarot  staff   68 24 nov 16:55 february_seeds_info.json\r\n"
     ]
    }
   ],
   "source": [
    "!ls -lsastr $folderChronicsCorrected"
   ]
  },
  {
   "cell_type": "code",
   "execution_count": 49,
   "metadata": {},
   "outputs": [],
   "source": [
    "if(len(next(os.walk(folderChronicsCorrected))[1])!=nFolders):\n",
    "    print(\"we have a problem in the chronics copy in:\"+folderChronicsCorrected)\n",
    "    raise"
   ]
  },
  {
   "cell_type": "code",
   "execution_count": 50,
   "metadata": {},
   "outputs": [
    {
     "data": {
      "text/plain": [
       "'/Users/antoinemarot/Chronix2Grid/tests/data/output/generation/2years_chronix_1x_SlackCorrection'"
      ]
     },
     "execution_count": 50,
     "metadata": {},
     "output_type": "execute_result"
    }
   ],
   "source": [
    "folderChronicsCorrected"
   ]
  },
  {
   "cell_type": "markdown",
   "metadata": {},
   "source": [
    "### Seed checker"
   ]
  },
  {
   "cell_type": "code",
   "execution_count": 51,
   "metadata": {},
   "outputs": [
    {
     "name": "stdout",
     "output_type": "stream",
     "text": [
      "load_p are the same in both envs\n"
     ]
    }
   ],
   "source": [
    "# Path scenarios to compare with different environments\n",
    "path_env1 = folderChronics\n",
    "path_env2 = notebook_config['ref_chronix']\n",
    "\n",
    "if ModeRunnerWithSeeds:\n",
    "    # Select random scenarios\n",
    "    rand_month = np.random.choice(months)\n",
    "    rand_n_scenario = np.random.choice(range(n_scenarios))\n",
    "    if rand_n_scenario < 10:\n",
    "        n_scenario = f'0{rand_n_scenario}'\n",
    "    else:\n",
    "        n_scenario = str(rand_n_scenario)\n",
    "\n",
    "    # Create proper scenario name\n",
    "    rand_scenario_name = f'Scenario_{rand_month}_{rand_n_scenario}'\n",
    "\n",
    "    factor_renew = 3\n",
    "    for var in ['load', 'wind', 'solar']:\n",
    "        chrnx_2 = os.path.join(path_env2, 'chronics')\n",
    "        df_env1 = pd.read_csv(os.path.join(path_env1, rand_scenario_name, f'{var}_p.csv.bz2'), sep=';')\n",
    "        df_env2 = pd.read_csv(os.path.join(chrnx_2, rand_scenario_name, f'{var}_p.csv.bz2'), sep=';')\n",
    "        if var not in ['wind', 'solar']:\n",
    "            if (df_env1.values[:, 1:] == df_env2.values[:, 1:]).all():\n",
    "                print(f'{var}_p are the same in both envs')\n",
    "        else:\n",
    "            tolr = 1e-01\n",
    "            arry1 = factor_renew * df_env1.values[:, 1:].astype(float)\n",
    "            arry2 = df_env2.values[:, 1:].astype(float)\n",
    "            if np.allclose(arry1, arry2, tolr):\n",
    "                print(f'{var}_p are the same in both envs')"
   ]
  },
  {
   "cell_type": "code",
   "execution_count": 53,
   "metadata": {},
   "outputs": [],
   "source": [
    "# # For solar\n",
    "# df_env1.iloc[:,1:].sum() * factor_renew"
   ]
  },
  {
   "cell_type": "code",
   "execution_count": 54,
   "metadata": {},
   "outputs": [
    {
     "name": "stdout",
     "output_type": "stream",
     "text": [
      "mv: rename /Users/antoinemarot/Chronix2Grid/tests/data/output/generation/case118_l2rpn_neurips_1x_modifySlackBeforeChronixGeneration/chronics/* to /Users/antoinemarot/Chronix2Grid/tests/data/output/generation/2years_chronix_1x/*: No such file or directory\r\n"
     ]
    }
   ],
   "source": [
    "existing_folderChronics=os.path.join(Ouput_folder, 'generation', case_chronix2grid)#\"${Ouput_folder}/generation/${case}/\"\n",
    "\n",
    "existing_subfolderChronics=next(os.walk(existing_folderChronics))[1]\n",
    "existing_subfolderChronics=[os.path.join(existing_folderChronics,subF) for subF in existing_subfolderChronics]\n",
    "\n",
    "for d in existing_subfolderChronics:\n",
    "    #!ls $d/*\n",
    "    !mv $d/* $folderChronics"
   ]
  },
  {
   "cell_type": "code",
   "execution_count": 55,
   "metadata": {},
   "outputs": [
    {
     "data": {
      "text/plain": [
       "'/Users/antoinemarot/Chronix2Grid/tests/data/output/generation/case118_l2rpn_neurips_1x_modifySlackBeforeChronixGeneration'"
      ]
     },
     "execution_count": 55,
     "metadata": {},
     "output_type": "execute_result"
    }
   ],
   "source": [
    "existing_folderChronics"
   ]
  },
  {
   "cell_type": "code",
   "execution_count": 56,
   "metadata": {},
   "outputs": [],
   "source": [
    "# df_env2.iloc[:,1:].sum()"
   ]
  },
  {
   "cell_type": "markdown",
   "metadata": {},
   "source": [
    "## 2) Run the runner with the do nothing agent\n",
    "\n",
    "<div class=\"alert alert-block alert-success\">\n",
    "Run Grid2op runner with results previously computed with Chronix2grid\n",
    "</div>"
   ]
  },
  {
   "cell_type": "code",
   "execution_count": 57,
   "metadata": {},
   "outputs": [],
   "source": [
    "if os.path.exists(Ouput_folder_do_nothing):\n",
    "    print('delete folder before creating:'+Ouput_folder_do_nothing)\n",
    "    !rm -rf $Ouput_folder_do_nothing\n",
    "\n",
    "os.makedirs(Ouput_folder_do_nothing)"
   ]
  },
  {
   "cell_type": "markdown",
   "metadata": {},
   "source": [
    "<code style=\"background:yellow;color:black\">\n",
    "Copy the full grid case in the folder whith the script of the runner\n",
    "</code>"
   ]
  },
  {
   "cell_type": "code",
   "execution_count": 58,
   "metadata": {},
   "outputs": [],
   "source": [
    "orginalGridFolder=os.path.join(Input_folder,'generation',case_runner_grid)\n",
    "runnerCaseFolder=os.path.join(Ouput_folder,case_runner_grid)\n",
    "#workingGridFolder=os.path.join(RunnerScriptFolder,case_runner_grid)\n",
    "\n",
    "if os.path.exists(runnerCaseFolder):\n",
    "    print('delete folder before creating case in:'+runnerCaseFolder)\n",
    "    !rm -rf $workingGridFolder\n",
    "!cp -r $orginalGridFolder $Ouput_folder #to copy the content of a into b do \"cp -r a/. b\n"
   ]
  },
  {
   "cell_type": "markdown",
   "metadata": {},
   "source": [
    "<code style=\"background:yellow;color:black\">\n",
    "Move chronics from slack correction to chronics dir where runner will point out.\n",
    "</code>"
   ]
  },
  {
   "cell_type": "markdown",
   "metadata": {},
   "source": [
    "move the copy of the chronics in the case folder"
   ]
  },
  {
   "cell_type": "code",
   "execution_count": 59,
   "metadata": {},
   "outputs": [
    {
     "name": "stdout",
     "output_type": "stream",
     "text": [
      "delete folder before creating\n"
     ]
    }
   ],
   "source": [
    "\n",
    "runner_chronicsFolder=os.path.join(runnerCaseFolder,'chronics')\n",
    "if os.path.exists(runner_chronicsFolder) & os.path.exists(folderChronicsCorrected):\n",
    "    print('delete folder before creating')\n",
    "    !rm -rf $runner_chronicsFolder\n",
    "    \n",
    "os.makedirs(runner_chronicsFolder,exist_ok=True)\n",
    "!mv $folderChronicsCorrected/* $runner_chronicsFolder"
   ]
  },
  {
   "cell_type": "markdown",
   "metadata": {},
   "source": [
    "<code style=\"background:yellow;color:black\">\n",
    "Move results from Dir (2) to Grid2Op_Envirorment/subgrid/chronics\n",
    "</code>"
   ]
  },
  {
   "cell_type": "code",
   "execution_count": 60,
   "metadata": {
    "scrolled": true
   },
   "outputs": [
    {
     "name": "stdout",
     "output_type": "stream",
     "text": [
      "['.DS_Store', 'config.py', 'prods_charac.csv', 'grid_layout.json', 'params_opf.json', 'params.json', 'grid.json', 'chronics', 'loads_charac.csv']\n"
     ]
    }
   ],
   "source": [
    "print(os.listdir(runnerCaseFolder))"
   ]
  },
  {
   "cell_type": "code",
   "execution_count": 61,
   "metadata": {},
   "outputs": [],
   "source": [
    "# rename the grid name as grid.json\n",
    "fileToRename=[f for f in os.listdir(runnerCaseFolder) if 'l2rpn' in f.casefold()]\n",
    "if len(fileToRename)!=0:\n",
    "    oldFileName=os.path.join(runnerCaseFolder,fileToRename[0])\n",
    "    newFileName=os.path.join(runnerCaseFolder,'grid.json')\n",
    "    !mv $oldFileName $newFileName"
   ]
  },
  {
   "cell_type": "code",
   "execution_count": 62,
   "metadata": {},
   "outputs": [
    {
     "name": "stdout",
     "output_type": "stream",
     "text": [
      "/Users/antoinemarot/Chronix2Grid/tests/data/output/case118_l2rpn_neurips_1x/chronics\n",
      "total 0\r\n",
      "0 drwxr-xr-x   2 antoinemarot  staff   64 24 nov 16:57 \u001b[34m.\u001b[m\u001b[m\r\n",
      "0 drwxr-xr-x  15 antoinemarot  staff  480 24 nov 16:57 \u001b[34m..\u001b[m\u001b[m\r\n"
     ]
    }
   ],
   "source": [
    "print(runner_chronicsFolder)\n",
    "!ls -lsastr $Ouput_folder_do_nothing"
   ]
  },
  {
   "cell_type": "code",
   "execution_count": 63,
   "metadata": {},
   "outputs": [],
   "source": [
    "nbEpisodes=len(next(os.walk(runner_chronicsFolder))[1])\n",
    "if(nbEpisodes!=nFolders):\n",
    "    print(\"we have a problem in the chronics folder of the case file on which the runner will run\")\n",
    "    raise"
   ]
  },
  {
   "cell_type": "code",
   "execution_count": 64,
   "metadata": {},
   "outputs": [
    {
     "data": {
      "text/plain": [
       "'/Users/antoinemarot/Chronix2Grid/tests/data/output/case118_l2rpn_neurips_1x/chronics'"
      ]
     },
     "execution_count": 64,
     "metadata": {},
     "output_type": "execute_result"
    }
   ],
   "source": [
    "runner_chronicsFolder"
   ]
  },
  {
   "cell_type": "code",
   "execution_count": 65,
   "metadata": {},
   "outputs": [],
   "source": [
    "#check that there is no datetime column in loads_p\n",
    "#ScenarioNames=next(os.walk(runner_chronicsFolder))[1]\n",
    "#for s in ScenarioNames:\n",
    "#    pathScen=os.path.join(runner_chronicsFolder,s)\n",
    "#    df_scen=pd.read_csv(os.path.join(pathScen,'load_p.csv.bz2'),nrows=1)\n",
    "#    if('datetime' in df_scen.columns):\n",
    "#        print(s)"
   ]
  },
  {
   "cell_type": "markdown",
   "metadata": {},
   "source": [
    "<div class=\"alert alert-block alert-info\">\n",
    "    Execute command line to run the runner with do nothing\n",
    "</div>"
   ]
  },
  {
   "cell_type": "code",
   "execution_count": 66,
   "metadata": {},
   "outputs": [
    {
     "name": "stdout",
     "output_type": "stream",
     "text": [
      "the case folder is: /Users/antoinemarot/Chronix2Grid/tests/data/output/case118_l2rpn_neurips_1x\n",
      "the output folder will be: /Users/antoinemarot/Chronix2Grid/agent_results_1x\n",
      "the number of cores used is: 4\n",
      "the number of scenarios we consider is: 4\n",
      "\u001b[0m"
     ]
    }
   ],
   "source": [
    "#datetime columns are sometimes introduced into load chronics... weird...\n",
    "\n",
    "cli_runner_fullGrid=\"python \"+os.path.join(RunnerScriptFolder,'run_DoNothing_grid2op_onChronix.py')+' --grid_path {} --ouput_dir {} --nb_episode {} --nb_core {}'.format(\n",
    "    runnerCaseFolder,Ouput_folder_do_nothing,nbEpisodes,nb_core) \n",
    "    \n",
    "    #call a subprocess to load your virtual env and excute your cli with it\n",
    "#subprocess.call(cli, shell=True)\n",
    "!$cli_runner_fullGrid\n",
    " "
   ]
  },
  {
   "cell_type": "code",
   "execution_count": 67,
   "metadata": {},
   "outputs": [
    {
     "name": "stdout",
     "output_type": "stream",
     "text": [
      "total 416\r\n",
      "  0 drwxr-xr-x  15 antoinemarot  staff    480 24 nov 16:57 \u001b[34m..\u001b[m\u001b[m\r\n",
      "104 -rw-r--r--   1 antoinemarot  staff  52955 24 nov 16:58 dict_action_space.json\r\n",
      "104 -rw-r--r--   1 antoinemarot  staff  52948 24 nov 16:58 dict_observation_space.json\r\n",
      "104 -rw-r--r--   1 antoinemarot  staff  52933 24 nov 16:58 dict_env_modification_space.json\r\n",
      "104 -rw-r--r--   1 antoinemarot  staff  52919 24 nov 16:58 dict_attack_space.json\r\n",
      "  0 drwxr-xr-x  10 antoinemarot  staff    320 24 nov 16:58 \u001b[34m.\u001b[m\u001b[m\r\n",
      "  0 drwxr-xr-x  13 antoinemarot  staff    416 24 nov 16:59 \u001b[34mScenario_february_0\u001b[m\u001b[m\r\n",
      "  0 drwxr-xr-x  13 antoinemarot  staff    416 24 nov 16:59 \u001b[34mScenario_february_1\u001b[m\u001b[m\r\n",
      "  0 drwxr-xr-x  13 antoinemarot  staff    416 24 nov 16:59 \u001b[34mScenario_january_0\u001b[m\u001b[m\r\n",
      "  0 drwxr-xr-x  13 antoinemarot  staff    416 24 nov 16:59 \u001b[34mScenario_january_1\u001b[m\u001b[m\r\n"
     ]
    }
   ],
   "source": [
    "!ls -lsastr $Ouput_folder_do_nothing"
   ]
  },
  {
   "cell_type": "code",
   "execution_count": 68,
   "metadata": {},
   "outputs": [],
   "source": [
    "ScenariosWithRunner=next(os.walk(Ouput_folder_do_nothing))[1]\n",
    "ScenariosWIthChronics=next(os.walk(folderChronics))[1]\n",
    "\n",
    "isMissing=False\n",
    "\n",
    "if(len(ScenariosWIthChronics)>len(ScenariosWithRunner)):#something went wrong and we are missing scenarios\n",
    "    ChronicsNoRunnerFolder=folderChronics+\"_MissingRunner\"\n",
    "    \n",
    "    isMissing=True\n",
    "    if os.path.exists(ChronicsNoRunnerFolder):\n",
    "        print('delete folder before creating:'+ChronicsNoRunnerFolder)\n",
    "        !rm -rf $ChronicsNoRunnerFolder\n",
    "    \n",
    "    MissingScenariosForRunner=list(set(ScenariosWIthChronics) - set(ScenariosWithRunner))\n",
    "    \n",
    "    for scenario in MissingScenariosForRunner:\n",
    "        print(scenario)\n",
    "        scenarioPath=os.path.join(folderChronics,scenario)\n",
    "        #scenarioNewPath=os.path.join(ChronicsNoRunnerFolder,scenario)\n",
    "        !mv $scenarioPath $ChronicsNoRunnerFolder/\n",
    "        "
   ]
  },
  {
   "cell_type": "code",
   "execution_count": 69,
   "metadata": {},
   "outputs": [],
   "source": [
    "ScenariosWithRunner=next(os.walk(Ouput_folder_do_nothing))[1]\n",
    "ScenariosWIthChronics=next(os.walk(folderChronics))[1]\n",
    "\n",
    "if(len(ScenariosWIthChronics)>len(ScenariosWithRunner)):#something went wrong and we are missing scenarios\n",
    "    print('what')\n",
    "elif isMissing:\n",
    "    print('we are good now')\n",
    "    #delete chronics folder in runnerCaseFolder and create a new one\n",
    "    if os.path.exists(runner_chronicsFolder): #& os.path.exists(folderChronicsCorrected):\n",
    "        print('delete folder before creating')\n",
    "        !rm -rf $runner_chronicsFolder\n",
    "    \n",
    "    os.makedirs(runner_chronicsFolder)\n",
    "    !cp -r $folderChronics/. $runner_chronicsFolder\n",
    "    #os.makedirs(runner_chronicsFolder,exist_ok=True)\n",
    "    #!mv $folderChronicsCorrected $runner_chronicsFolder"
   ]
  },
  {
   "cell_type": "markdown",
   "metadata": {},
   "source": [
    "# 3) Correct the slack bus chronic with it"
   ]
  },
  {
   "cell_type": "markdown",
   "metadata": {},
   "source": [
    "<div class=\"alert alert-block alert-info\">\n",
    "    Execute command line to correct the slack gen.\n",
    "</div>"
   ]
  },
  {
   "cell_type": "code",
   "execution_count": 70,
   "metadata": {},
   "outputs": [],
   "source": [
    "cli_correct_slack_fullGrid=\"python \"+os.path.join(RunnerScriptFolder,'correctForSlack.py')+' --grid_path {} --id_slack {} --slack_name {} --agent_results_path {} --nb_core {}'.format(\n",
    "    runnerCaseFolder,idxSlack,nameSlack,Ouput_folder_do_nothing,nb_core) \n",
    "\n",
    "\n",
    "#!cli_correct_slack #does not work here...\n"
   ]
  },
  {
   "cell_type": "code",
   "execution_count": null,
   "metadata": {},
   "outputs": [],
   "source": [
    "#subprocess.call(['python', 'correctForSlack.py', '--grid_path', runnerCaseFolder,'--id_slack',str(idxSlack),'--slack_name',nameSlack,\n",
    "#                '--agent_results_path',Ouput_folder_do_nothing,'--nb_core',str(nb_core)])\n",
    "output=subprocess.check_output(cli_correct_slack_fullGrid, shell=True)"
   ]
  },
  {
   "cell_type": "code",
   "execution_count": null,
   "metadata": {},
   "outputs": [],
   "source": [
    "print(output.decode('utf-8'))"
   ]
  },
  {
   "cell_type": "markdown",
   "metadata": {},
   "source": [
    "make symlink corrected chronics with Chronix2grid folder"
   ]
  },
  {
   "cell_type": "code",
   "execution_count": null,
   "metadata": {},
   "outputs": [],
   "source": [
    "\n",
    "if os.path.exists(folderChronicsCorrected):\n",
    "    print('delete folder before creating:'+folderChronicsCorrected)\n",
    "    !rm -rf $folderChronicsCorrected\n",
    "\n",
    "!ln -s $runner_chronicsFolder $folderChronicsCorrected"
   ]
  },
  {
   "cell_type": "code",
   "execution_count": null,
   "metadata": {},
   "outputs": [],
   "source": []
  }
 ],
 "metadata": {
  "kernelspec": {
   "display_name": "Python 3",
   "language": "python",
   "name": "python3"
  },
  "language_info": {
   "codemirror_mode": {
    "name": "ipython",
    "version": 3
   },
   "file_extension": ".py",
   "mimetype": "text/x-python",
   "name": "python",
   "nbconvert_exporter": "python",
   "pygments_lexer": "ipython3",
   "version": "3.6.10"
  }
 },
 "nbformat": 4,
 "nbformat_minor": 4
}
