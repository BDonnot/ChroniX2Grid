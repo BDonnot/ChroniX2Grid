{
 "cells": [
  {
   "cell_type": "markdown",
   "metadata": {},
   "source": [
    "## This notebook will guide you through the use of the chronix2grid command line interface. "
   ]
  },
  {
   "cell_type": "markdown",
   "metadata": {},
   "source": [
    "<div class=\"alert alert-block alert-warning\">\n",
    "    <b>WARNING</b>: If you run <b>chronix2grid in a virtual env</b>, make sure that you either:\n",
    "    \n",
    "    - sourced your virtual env before launching jupyter: source v_env_chronix2grid/bin/activate\n",
    "    \n",
    "    - created an ipython kernel for this virtual env, and that you are actually running this kernerl now\n",
    "</div>\n"
   ]
  },
  {
   "cell_type": "code",
   "execution_count": 1,
   "metadata": {},
   "outputs": [],
   "source": [
    "import os"
   ]
  },
  {
   "cell_type": "code",
   "execution_count": 2,
   "metadata": {},
   "outputs": [
    {
     "name": "stdout",
     "output_type": "stream",
     "text": [
      "Usage: chronix2grid [OPTIONS]\n",
      "\n",
      "Options:\n",
      "  --case TEXT               case folder to base generation on\n",
      "  --start-date TEXT         Start date to generate chronics\n",
      "  --weeks INTEGER           Number of weeks to generate\n",
      "  --by-n-weeks INTEGER      Size of the output chunks in weeks\n",
      "  --n_scenarios INTEGER     Number of scenarios to generate\n",
      "  --mode TEXT               Steps to execute : L(K) for loads only (and\n",
      "                            KPI);R(K) for renewables (and KPI) only; LRT (K)\n",
      "                            for load, renewable and thermic generation (and\n",
      "                            KPI); LRDT(TK) for load, renewable, loss\n",
      "                            (dissipation) generation (and thermic and KPI)\n",
      "\n",
      "  --input-folder TEXT       Directory to read input files from.\n",
      "  --output-folder TEXT      Directory to store output files.\n",
      "  --seed-for-loads TEXT     Input seed to ensure reproducibility of loads\n",
      "                            generation\n",
      "\n",
      "  --seed-for-res TEXT       Input seed to ensure reproducibility of renewables\n",
      "                            generation\n",
      "\n",
      "  --seed-for-dispatch TEXT  Input seed to ensure reproducibility of dispatch\n",
      "  --ignore-warnings         Ignore the warnings related to the existence of\n",
      "                            data files in the chosen output directory.\n",
      "\n",
      "  --scenario_name TEXT      subname to add to the generated scenario output\n",
      "                            folder, as Scenario_subname_i\n",
      "\n",
      "  --nb_core INTEGER         number of cores to parallelize the number of\n",
      "                            scenarios\n",
      "\n",
      "  --help                    Show this message and exit.\n"
     ]
    }
   ],
   "source": [
    "!chronix2grid --help"
   ]
  },
  {
   "cell_type": "code",
   "execution_count": 3,
   "metadata": {},
   "outputs": [],
   "source": [
    "### CONSTANT\n",
    "\n",
    "notebook_folder=%pwd\n",
    "\n",
    "# define your input folder\n",
    "INPUT_FOLDER = os.path.join(notebook_folder, 'example', \"custom\", 'input')\n",
    "\n",
    "OUTPUT_FOLDER = os.path.join(notebook_folder, 'example', \"custom\", 'output')\n",
    "\n",
    "# Detailed configuration to be set in <INPUT_FOLDER>/<CASE>/params.json\n",
    "start_date = \"2012-01-01\"\n",
    "weeks = 8\n",
    "n_scenarios = 1\n",
    "by_n_weeks = 4\n",
    "\n",
    "mode = 'RLTK'\n",
    "\n",
    "\n",
    "CASE = 'case118_l2rpn_wcci'"
   ]
  },
  {
   "cell_type": "code",
   "execution_count": 4,
   "metadata": {},
   "outputs": [
    {
     "data": {
      "text/plain": [
       "'chronix2grid                          --mode RLTK --output-folder /home/gaetan/Documents/Projects/ChroniX2Grid/getting_started/example/custom/output --input-folder /home/gaetan/Documents/Projects/ChroniX2Grid/getting_started/example/custom/input --ignore-warnings                          --weeks 8 --case case118_l2rpn_wcci --n_scenarios 1 --start-date 2012-01-01 --by-n-weeks 4'"
      ]
     },
     "execution_count": 4,
     "metadata": {},
     "output_type": "execute_result"
    }
   ],
   "source": [
    "cli_chronix2grid=\"chronix2grid \\\n",
    "                         --mode {} --output-folder {} --input-folder {} --ignore-warnings \\\n",
    "                         --weeks {} --case {} --n_scenarios {} --start-date {} --by-n-weeks {}\".format(\n",
    "                         mode, OUTPUT_FOLDER, INPUT_FOLDER, weeks, CASE, n_scenarios, start_date,by_n_weeks)\n",
    "cli_chronix2grid"
   ]
  },
  {
   "cell_type": "code",
   "execution_count": 5,
   "metadata": {},
   "outputs": [
    {
     "name": "stdout",
     "output_type": "stream",
     "text": [
      "case118_l2rpn_wcci\n",
      "initial_seeds\n",
      "{'loads': 194979624, 'renewables': 194979624, 'dispatch': 194979624}\n",
      "seeds for scenario: Scenario_0\n",
      "{'loads': 194979624, 'renewables': 194979624, 'dispatch': 194979624}\n",
      "scenario_path: /home/gaetan/Documents/Projects/ChroniX2Grid/getting_started/example/custom/output/generation/case118_l2rpn_wcci/2012-01-01/Scenario_0\n",
      "=====================================================================================================================================\n",
      "============================================== CHRONICS GENERATION ==================================================================\n",
      "=====================================================================================================================================\n",
      "================ Generating Scenario_0 ================\n",
      "Computing global auto-correlated spatio-temporal noise for thermosensible demand...\n",
      "Computing loads ...\n",
      "Saving files in zipped csv in \"/home/gaetan/Documents/Projects/ChroniX2Grid/getting_started/example/custom/output/generation/case118_l2rpn_wcci/2012-01-01/Scenario_0\"\n",
      "Computing global auto-correlated spatio-temporal noise for sun and wind...\n",
      "Generating solar and wind production chronics\n",
      "Saving files in zipped csv\n",
      "mode_opf is not None\n",
      "Preprocessing input data..\n",
      "Filter generators ramps up/down\n",
      "Adapting PyPSA grid with parameters..\n",
      "mode_opf is not None\n",
      "\n",
      "--> OPF formulation by => month - Analyzing month # 1\n",
      "INFO:pypsa.linopf:Prepare linear problem\n",
      "INFO:pypsa.linopf:Total preparation time: 1.16s\n",
      "INFO:pypsa.linopf:Solve linear problem using Cbc solver\n",
      "INFO:pypsa.linopf:Optimization successful. Objective value: 1.14e+09\n",
      "-- opf succeeded  >Objective value (should be greater than zero!\n",
      "\n",
      "--> OPF formulation by => month - Analyzing month # 2\n",
      "INFO:pypsa.linopf:Prepare linear problem\n",
      "INFO:pypsa.linopf:Total preparation time: 0.93s\n",
      "INFO:pypsa.linopf:Solve linear problem using Cbc solver\n",
      "INFO:pypsa.linopf:Optimization successful. Objective value: 7.97e+08\n",
      "-- opf succeeded  >Objective value (should be greater than zero!\n",
      "Total time 0.28 min\n",
      "OPF Done......\n",
      "Saving results for the grids with individual generators...\n",
      "applying noise to forecast of 0.01 %\n",
      "/home/gaetan/.local/lib/python3.8/site-packages/chronix2grid/generation/dispatch/dispatch_loss_utils.py:22: UserWarning:\n",
      "\n",
      "Had to delete a previous scenario grid temporary path in input data\n",
      "\n",
      "temporary copy of grid in /home/gaetan/Documents/Projects/ChroniX2Grid/getting_started/example/custom/input/generation/case118_l2rpn_wcci_Scenario_0\n",
      "temporary copy of chronics in /home/gaetan/Documents/Projects/ChroniX2Grid/getting_started/example/custom/input/generation/case118_l2rpn_wcci_Scenario_0/chronics/Scenario_0\n",
      "Start grid2op simulation to compute realistic loss on grid\n",
      "Grid2op simulation for loss\n",
      "You might need to install the LightSimBackend (provisory name) to gain massive speed up\n",
      "episode:   6%|█▊                           | 1016/16126 [00:30<07:37, 33.03it/s]\n",
      "---- end of simulation\n",
      "Start realistic loss correction from simulation results\n",
      "multiprocessing.pool.RemoteTraceback: \n",
      "\"\"\"\n",
      "Traceback (most recent call last):\n",
      "  File \"/usr/lib/python3.8/multiprocessing/pool.py\", line 125, in worker\n",
      "    result = (True, func(*args, **kwds))\n",
      "  File \"/usr/lib/python3.8/multiprocessing/pool.py\", line 48, in mapstar\n",
      "    return list(map(*args))\n",
      "  File \"/home/gaetan/.local/lib/python3.8/site-packages/chronix2grid/main.py\", line 158, in generate_per_scenario\n",
      "    generate_inner(\n",
      "  File \"/home/gaetan/.local/lib/python3.8/site-packages/chronix2grid/main.py\", line 184, in generate_inner\n",
      "    params, loads_charac, prods_charac = gen.main(generator,\n",
      "  File \"/home/gaetan/.local/lib/python3.8/site-packages/chronix2grid/generation/generate_chronics.py\", line 30, in main\n",
      "    return generator.run(case, n_scenarios, input_folder, output_folder, scen_names, time_params, mode, scenario_id, seed_for_loads, seed_for_res,\n",
      "  File \"/home/gaetan/.local/lib/python3.8/site-packages/chronix2grid/GeneratorBackend.py\", line 209, in run\n",
      "    dispatch_results = self.do_t(input_folder, scenario_name, load, prod_solar, prod_wind,\n",
      "  File \"/home/gaetan/.local/lib/python3.8/site-packages/chronix2grid/GeneratorBackend.py\", line 333, in do_t\n",
      "    dispatch_results = generator_dispatch.run()\n",
      "  File \"/home/gaetan/.local/lib/python3.8/site-packages/chronix2grid/generation/dispatch/DispatchBackend.py\", line 48, in run\n",
      "    return main(self.dispatcher, self.scenario_folder_path, self.scenario_folder_path,\n",
      "  File \"/home/gaetan/.local/lib/python3.8/site-packages/chronix2grid/generation/dispatch/generate_dispatch.py\", line 52, in main\n",
      "    new_prod_p, new_prod_forecasted_p = simulate_loss(grid_folder, output_folder, params_opf, write_results = True)\n",
      "  File \"/home/gaetan/.local/lib/python3.8/site-packages/chronix2grid/generation/dispatch/generate_dispatch.py\", line 76, in simulate_loss\n",
      "    dispatch_results_corrected = correct_scenario_loss(scenario_folder_path, params_opf, grid_folder_g2op, episode_data)\n",
      "  File \"/home/gaetan/.local/lib/python3.8/site-packages/chronix2grid/generation/dispatch/dispatch_loss_utils.py\", line 156, in correct_scenario_loss\n",
      "    prods_p = pd.DataFrame(np.array([obs.prod_p for obs in observations]))\n",
      "  File \"/home/gaetan/.local/lib/python3.8/site-packages/chronix2grid/generation/dispatch/dispatch_loss_utils.py\", line 156, in <listcomp>\n",
      "    prods_p = pd.DataFrame(np.array([obs.prod_p for obs in observations]))\n",
      "AttributeError: 'NoneType' object has no attribute 'prod_p'\n",
      "\"\"\"\n",
      "\n",
      "The above exception was the direct cause of the following exception:\n",
      "\n",
      "Traceback (most recent call last):\n",
      "  File \"/home/gaetan/.local/bin/chronix2grid\", line 8, in <module>\n",
      "    sys.exit(generate_mp())\n",
      "  File \"/home/gaetan/.local/lib/python3.8/site-packages/click/core.py\", line 829, in __call__\n",
      "    return self.main(*args, **kwargs)\n",
      "  File \"/home/gaetan/.local/lib/python3.8/site-packages/click/core.py\", line 782, in main\n",
      "    rv = self.invoke(ctx)\n",
      "  File \"/home/gaetan/.local/lib/python3.8/site-packages/click/core.py\", line 1066, in invoke\n",
      "    return ctx.invoke(self.callback, **ctx.params)\n",
      "  File \"/home/gaetan/.local/lib/python3.8/site-packages/click/core.py\", line 610, in invoke\n",
      "    return callback(*args, **kwargs)\n",
      "  File \"/home/gaetan/.local/lib/python3.8/site-packages/chronix2grid/main.py\", line 51, in generate_mp\n",
      "    generate_mp_core(case, start_date, weeks, by_n_weeks, n_scenarios, mode,\n",
      "  File \"/home/gaetan/.local/lib/python3.8/site-packages/chronix2grid/main.py\", line 114, in generate_mp_core\n",
      "    pool.map(multiprocessing_func, iterable)\n",
      "  File \"/usr/lib/python3.8/multiprocessing/pool.py\", line 364, in map\n",
      "    return self._map_async(func, iterable, mapstar, chunksize).get()\n",
      "  File \"/usr/lib/python3.8/multiprocessing/pool.py\", line 771, in get\n",
      "    raise self._value\n",
      "AttributeError: 'NoneType' object has no attribute 'prod_p'\n"
     ]
    }
   ],
   "source": [
    "!$cli_chronix2grid"
   ]
  },
  {
   "cell_type": "code",
   "execution_count": null,
   "metadata": {},
   "outputs": [],
   "source": []
  }
 ],
 "metadata": {
  "kernelspec": {
   "display_name": "Python 3",
   "language": "python",
   "name": "python3"
  },
  "language_info": {
   "codemirror_mode": {
    "name": "ipython",
    "version": 3
   },
   "file_extension": ".py",
   "mimetype": "text/x-python",
   "name": "python",
   "nbconvert_exporter": "python",
   "pygments_lexer": "ipython3",
   "version": "3.8.10"
  },
  "nbdime-conflicts": {
   "local_diff": [
    {
     "diff": [
      {
       "diff": [
        {
         "key": 0,
         "op": "addrange",
         "valuelist": [
          "env_for_pypsa"
         ]
        },
        {
         "key": 0,
         "length": 1,
         "op": "removerange"
        }
       ],
       "key": "display_name",
       "op": "patch"
      },
      {
       "diff": [
        {
         "key": 0,
         "op": "addrange",
         "valuelist": [
          "env_for_pypsa"
         ]
        },
        {
         "key": 0,
         "length": 1,
         "op": "removerange"
        }
       ],
       "key": "name",
       "op": "patch"
      }
     ],
     "key": "kernelspec",
     "op": "patch"
    }
   ],
   "remote_diff": [
    {
     "diff": [
      {
       "diff": [
        {
         "key": 0,
         "op": "addrange",
         "valuelist": [
          "rte-challenge"
         ]
        },
        {
         "key": 0,
         "length": 1,
         "op": "removerange"
        }
       ],
       "key": "display_name",
       "op": "patch"
      },
      {
       "diff": [
        {
         "key": 0,
         "op": "addrange",
         "valuelist": [
          "rte-challenge"
         ]
        },
        {
         "key": 0,
         "length": 1,
         "op": "removerange"
        }
       ],
       "key": "name",
       "op": "patch"
      }
     ],
     "key": "kernelspec",
     "op": "patch"
    }
   ]
  }
 },
 "nbformat": 4,
 "nbformat_minor": 4
}
