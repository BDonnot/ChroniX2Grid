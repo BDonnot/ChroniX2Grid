{
 "cells": [
  {
   "cell_type": "markdown",
   "metadata": {},
   "source": [
    "## This notebook will guide you through the use of the chronix2grid command line interface. "
   ]
  },
  {
   "cell_type": "markdown",
   "metadata": {},
   "source": [
    "<div class=\"alert alert-block alert-warning\">\n",
    "    <b>WARNING</b>: If you run <b>chronix2grid in a virtual env</b>, make sure that you either:\n",
    "    \n",
    "    - sourced your virtual env before launching jupyter: source v_env_chronix2grid/bin/activate\n",
    "    \n",
    "    - created an ipython kernel for this virtual env, and that you are actually running this kernerl now\n",
    "</div>\n"
   ]
  },
  {
   "cell_type": "code",
   "execution_count": 6,
   "metadata": {},
   "outputs": [],
   "source": [
    "import os"
   ]
  },
  {
   "cell_type": "code",
   "execution_count": 7,
   "metadata": {},
   "outputs": [
    {
     "name": "stdout",
     "output_type": "stream",
     "text": [
      "Usage: chronix2grid [OPTIONS]\n",
      "\n",
      "Options:\n",
      "  --case TEXT               case folder to base generation on\n",
      "  --start-date TEXT         Start date to generate chronics\n",
      "  --weeks INTEGER           Number of weeks to generate\n",
      "  --by-n-weeks INTEGER      Size of the output chunks in weeks\n",
      "  --n_scenarios INTEGER     Number of scenarios to generate\n",
      "  --mode TEXT               Steps to execute : L(K) for loads only (and\n",
      "                            KPI);R(K) for renewables (and KPI) only; LRT (K)\n",
      "                            for load, renewable and thermic generation (and\n",
      "                            KPI); LRDT(TK) for load, renewable, loss\n",
      "                            (dissipation) generation (and thermic and KPI)\n",
      "\n",
      "  --input-folder TEXT       Directory to read input files from.\n",
      "  --output-folder TEXT      Directory to store output files.\n",
      "  --seed-for-loads TEXT     Input seed to ensure reproducibility of loads\n",
      "                            generation\n",
      "\n",
      "  --seed-for-res TEXT       Input seed to ensure reproducibility of renewables\n",
      "                            generation\n",
      "\n",
      "  --seed-for-dispatch TEXT  Input seed to ensure reproducibility of dispatch\n",
      "  --ignore-warnings         Ignore the warnings related to the existence of\n",
      "                            data files in the chosen output directory.\n",
      "\n",
      "  --scenario_name TEXT      subname to add to the generated scenario output\n",
      "                            folder, as Scenario_subname_i\n",
      "\n",
      "  --nb_core INTEGER         number of cores to parallelize the number of\n",
      "                            scenarios\n",
      "\n",
      "  --help                    Show this message and exit.\n"
     ]
    }
   ],
   "source": [
    "!chronix2grid --help"
   ]
  },
  {
   "cell_type": "code",
   "execution_count": 8,
   "metadata": {},
   "outputs": [],
   "source": [
    "### CONSTANT\n",
    "\n",
    "notebook_folder=%pwd\n",
    "\n",
    "# define your input folder\n",
    "INPUT_FOLDER = os.path.join(notebook_folder, 'example', 'input')\n",
    "\n",
    "OUTPUT_FOLDER = os.path.join(notebook_folder, 'example', 'output')\n",
    "\n",
    "# Detailed configuration to be set in <INPUT_FOLDER>/<CASE>/params.json\n",
    "start_date = \"2012-01-01\"\n",
    "weeks = 8\n",
    "n_scenarios = 1\n",
    "by_n_weeks = 4\n",
    "\n",
    "mode = 'RLTK'\n",
    "\n",
    "\n",
    "CASE = 'case118_l2rpn_wcci'"
   ]
  },
  {
   "cell_type": "code",
   "execution_count": 9,
   "metadata": {},
   "outputs": [
    {
     "data": {
      "text/plain": [
       "'chronix2grid                          --mode RLTK --output-folder /home/gaetan/Documents/Projects/ChroniX2Grid/getting_started/example/output --input-folder /home/gaetan/Documents/Projects/ChroniX2Grid/getting_started/example/input --ignore-warnings                          --weeks 8 --case case118_l2rpn_wcci --n_scenarios 1 --start-date 2012-01-01 --by-n-weeks 4'"
      ]
     },
     "execution_count": 9,
     "metadata": {},
     "output_type": "execute_result"
    }
   ],
   "source": [
    "cli_chronix2grid=\"chronix2grid \\\n",
    "                         --mode {} --output-folder {} --input-folder {} --ignore-warnings \\\n",
    "                         --weeks {} --case {} --n_scenarios {} --start-date {} --by-n-weeks {}\".format(\n",
    "                         mode, OUTPUT_FOLDER, INPUT_FOLDER, weeks, CASE, n_scenarios, start_date,by_n_weeks)\n",
    "cli_chronix2grid"
   ]
  },
  {
   "cell_type": "code",
   "execution_count": 10,
   "metadata": {},
   "outputs": [
    {
     "name": "stdout",
     "output_type": "stream",
     "text": [
      "case118_l2rpn_wcci\n",
      "initial_seeds\n",
      "{'loads': 167106149, 'renewables': 167106149, 'dispatch': 167106149}\n",
      "seeds for scenario: Scenario_0\n",
      "{'loads': 167106149, 'renewables': 167106149, 'dispatch': 167106149}\n",
      "scenario_path: /home/gaetan/Documents/Projects/ChroniX2Grid/getting_started/example/output/generation/case118_l2rpn_wcci/2012-01-01/Scenario_0\n",
      "=====================================================================================================================================\n",
      "============================================== CHRONICS GENERATION ==================================================================\n",
      "=====================================================================================================================================\n",
      "================ Generating Scenario_0 ================\n",
      "Computing global auto-correlated spatio-temporal noise for thermosensible demand...\n",
      "Computing loads ...\n",
      "Saving files in zipped csv in \"/home/gaetan/Documents/Projects/ChroniX2Grid/getting_started/example/output/generation/case118_l2rpn_wcci/2012-01-01/Scenario_0\"\n",
      "Computing global auto-correlated spatio-temporal noise for sun and wind...\n",
      "Generating solar and wind production chronics\n",
      "Saving files in zipped csv\n",
      "mode_opf is not None\n",
      "Preprocessing input data..\n",
      "Filter generators ramps up/down\n",
      "Adapting PyPSA grid with parameters..\n",
      "mode_opf is not None\n",
      "\n",
      "--> OPF formulation by => month - Analyzing month # 1\n",
      "INFO:pypsa.linopf:Prepare linear problem\n",
      "INFO:pypsa.linopf:Total preparation time: 2.43s\n",
      "INFO:pypsa.linopf:Solve linear problem using Cbc solver\n",
      "INFO:pypsa.linopf:Optimization successful. Objective value: 1.15e+09\n",
      "-- opf succeeded  >Objective value (should be greater than zero!\n",
      "\n",
      "--> OPF formulation by => month - Analyzing month # 2\n",
      "INFO:pypsa.linopf:Prepare linear problem\n",
      "INFO:pypsa.linopf:Total preparation time: 1.91s\n",
      "INFO:pypsa.linopf:Solve linear problem using Cbc solver\n",
      "INFO:pypsa.linopf:Optimization successful. Objective value: 9.17e+08\n",
      "-- opf succeeded  >Objective value (should be greater than zero!\n",
      "Total time 1.99 min\n",
      "OPF Done......\n",
      "Saving results for the grids with individual generators...\n",
      "applying noise to forecast of 0.01 %\n",
      "/home/gaetan/.local/lib/python3.8/site-packages/chronix2grid/generation/dispatch/dispatch_loss_utils.py:22: UserWarning:\n",
      "\n",
      "Had to delete a previous scenario grid temporary path in input data\n",
      "\n",
      "temporary copy of grid in /home/gaetan/Documents/Projects/ChroniX2Grid/getting_started/example/input/generation/case118_l2rpn_wcci_Scenario_0\n",
      "temporary copy of chronics in /home/gaetan/Documents/Projects/ChroniX2Grid/getting_started/example/input/generation/case118_l2rpn_wcci_Scenario_0/chronics/Scenario_0\n",
      "Start grid2op simulation to compute realistic loss on grid\n",
      "Grid2op simulation for loss\n",
      "You might need to install the LightSimBackend (provisory name) to gain massive speed up\n",
      "episode: 100%|████████████████████████████| 16126/16126 [08:11<00:00, 32.84it/s]\n",
      "---- end of simulation\n",
      "Start realistic loss correction from simulation results\n",
      "maximum compensation for slack before correction in MW: 51.54835510253906\n",
      "average compensation for slack before correction in MW: 25.929194059056755\n",
      "median compensation for slack before correction in MW: 25.5528564453125\n",
      "min compensation for slack before correction in MW: 4.8432769775390625\n",
      "---- end of loss correction \n",
      "\n",
      "\n",
      "=====================================================================================================================================\n",
      "================================================= KPI GENERATION  ===================================================================\n",
      "=====================================================================================================================================\n",
      "Scenario_0...\n",
      "Warning: KPI are incomplete. Computation has been made on 8 weeks, but are meant to be computed on 52 weeks\n",
      "Importing and formatting data downloaded from regional eco2mix data\n",
      "Importing and formatting synthetic chronics\n",
      "(1) Computing KPI's...\n",
      "Warning: prices data have not been given for both synthetic and reference dispatch. Quantiles will be computed on demand instead. Next time, you can provide .../France/eco2mix/prices_2012.csv.bz2 \n",
      "\n",
      "(2) Generating json output file...\n",
      "-Done-\n",
      "\n",
      "multiprocessing done\n",
      "Time taken = 704.9275925159454 seconds\n",
      "removing temporary folders if exist:\n"
     ]
    }
   ],
   "source": [
    "!$cli_chronix2grid"
   ]
  }
 ],
 "metadata": {
  "kernelspec": {
   "display_name": "Python 3",
   "language": "python",
   "name": "python3"
  },
  "language_info": {
   "codemirror_mode": {
    "name": "ipython",
    "version": 3
   },
   "file_extension": ".py",
   "mimetype": "text/x-python",
   "name": "python",
   "nbconvert_exporter": "python",
   "pygments_lexer": "ipython3",
   "version": "3.8.10"
  },
  "nbdime-conflicts": {
   "local_diff": [
    {
     "diff": [
      {
       "diff": [
        {
         "key": 0,
         "op": "addrange",
         "valuelist": [
          "env_for_pypsa"
         ]
        },
        {
         "key": 0,
         "length": 1,
         "op": "removerange"
        }
       ],
       "key": "display_name",
       "op": "patch"
      },
      {
       "diff": [
        {
         "key": 0,
         "op": "addrange",
         "valuelist": [
          "env_for_pypsa"
         ]
        },
        {
         "key": 0,
         "length": 1,
         "op": "removerange"
        }
       ],
       "key": "name",
       "op": "patch"
      }
     ],
     "key": "kernelspec",
     "op": "patch"
    }
   ],
   "remote_diff": [
    {
     "diff": [
      {
       "diff": [
        {
         "key": 0,
         "op": "addrange",
         "valuelist": [
          "rte-challenge"
         ]
        },
        {
         "key": 0,
         "length": 1,
         "op": "removerange"
        }
       ],
       "key": "display_name",
       "op": "patch"
      },
      {
       "diff": [
        {
         "key": 0,
         "op": "addrange",
         "valuelist": [
          "rte-challenge"
         ]
        },
        {
         "key": 0,
         "length": 1,
         "op": "removerange"
        }
       ],
       "key": "name",
       "op": "patch"
      }
     ],
     "key": "kernelspec",
     "op": "patch"
    }
   ]
  }
 },
 "nbformat": 4,
 "nbformat_minor": 4
}
