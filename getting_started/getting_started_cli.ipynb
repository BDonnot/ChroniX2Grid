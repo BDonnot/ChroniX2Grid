{
 "cells": [
  {
   "cell_type": "markdown",
   "metadata": {},
   "source": [
    "## This notebook will guide you through the use of the chronix2grid command line interface. "
   ]
  },
  {
   "cell_type": "code",
   "execution_count": 1,
   "metadata": {},
   "outputs": [],
   "source": [
    "import os"
   ]
  },
  {
   "cell_type": "code",
   "execution_count": 2,
   "metadata": {
    "scrolled": false
   },
   "outputs": [
    {
     "name": "stdout",
     "output_type": "stream",
     "text": [
      "/home/vrenault/Projects/ChroniX2Grid/venv_test/lib/python3.6/site-packages/grid2op/Plot/EpisodeReplay.py:34: UserWarning:\n",
      "\n",
      "The final video will not be saved as \"imageio\" and \"imageio_ffmpeg\" packages cannot be imported. Please try \"/home/vrenault/Projects/ChroniX2Grid/venv_test/bin/python3 -m pip install imageio imageio-ffmpeg\"\n",
      "\n",
      "Usage: chronix2grid [OPTIONS]\n",
      "\n",
      "Options:\n",
      "  --case TEXT               case folder to base generation on\n",
      "  --start-date TEXT         Start date to generate chronics\n",
      "  --weeks INTEGER           Number of weeks to generate\n",
      "  --by-n-weeks INTEGER      Size of the output chunks in weeks\n",
      "  --n_scenarios INTEGER     Number of scenarios to generate\n",
      "  --mode TEXT               Steps to execute : L for loads only (and KPI);\n",
      "                            R(K) for renewables (and KPI) only; LRTK for all\n",
      "                            generation\n",
      "\n",
      "  --input-folder TEXT       Directory to read input files from.\n",
      "  --output-folder TEXT      Directory to store output files.\n",
      "  --seed-for-loads TEXT     Input seed to ensure reproducibility of loads\n",
      "                            generation\n",
      "\n",
      "  --seed-for-res TEXT       Input seed to ensure reproducibility of renewables\n",
      "                            generation\n",
      "\n",
      "  --seed-for-dispatch TEXT  Input seed to ensure reproducibility of dispatch\n",
      "  --ignore-warnings         Ignore the warnings related to the existence of\n",
      "                            data files in the chosen output directory.\n",
      "\n",
      "  --scenario_name TEXT      subname to add to the generated scenario output\n",
      "                            folder, as Scenario_subname_i\n",
      "\n",
      "  --nb_core INTEGER         number of cores to parallelize the number of\n",
      "                            scenarios\n",
      "\n",
      "  --help                    Show this message and exit.\n"
     ]
    }
   ],
   "source": [
    "!chronix2grid --help"
   ]
  },
  {
   "cell_type": "code",
   "execution_count": 3,
   "metadata": {},
   "outputs": [],
   "source": [
    "### CONSTANT\n",
    "\n",
    "root_dir = %pwd\n",
    "\n",
    "# define your input folder\n",
    "INPUT_FOLDER = os.path.join(root_dir, os.pardir, 'input_data')\n",
    "\n",
    "OUPTUT_FOLDER = os.path.join(root_dir, os.pardir, 'output')\n",
    "\n",
    "# Detailed configuration to be set in <INPUT_FOLDER>/<CASE>/params.json\n",
    "start_date = \"2012-07-01\"\n",
    "weeks = 4\n",
    "n_scenarios = 1\n",
    "by_n_weeks = 4\n",
    "\n",
    "mode = 'RLTK'\n",
    "\n",
    "\n",
    "CASE = 'case118_l2rpn_wcci'"
   ]
  },
  {
   "cell_type": "code",
   "execution_count": 4,
   "metadata": {},
   "outputs": [
    {
     "name": "stdout",
     "output_type": "stream",
     "text": [
      "/home/vrenault/Projects/ChroniX2Grid/venv_test/lib/python3.6/site-packages/grid2op/Plot/EpisodeReplay.py:34: UserWarning:\n",
      "\n",
      "The final video will not be saved as \"imageio\" and \"imageio_ffmpeg\" packages cannot be imported. Please try \"/home/vrenault/Projects/ChroniX2Grid/venv_test/bin/python3 -m pip install imageio imageio-ffmpeg\"\n",
      "\n",
      "Usage: chronix2grid [OPTIONS]\n",
      "Try 'chronix2grid --help' for help.\n",
      "\n",
      "Error: Invalid value for '--n_scenarios': --by-n-weeks is not a valid integer\n"
     ]
    }
   ],
   "source": [
    "!chronix2grid --ignore-warnings --case $CASE --input-folder $INPUT_FOLDER --output-folder $OUTPUT_FOLDER --mode $mode --start-date $start_date --weeks $weeks --n_scenarios $n_scenarios --by-n-weeks $by_n_weeks"
   ]
  },
  {
   "cell_type": "code",
   "execution_count": null,
   "metadata": {},
   "outputs": [],
   "source": []
  }
 ],
 "metadata": {
  "kernelspec": {
   "display_name": "Python 3",
   "language": "python",
   "name": "python3"
  },
  "language_info": {
   "codemirror_mode": {
    "name": "ipython",
    "version": 3
   },
   "file_extension": ".py",
   "mimetype": "text/x-python",
   "name": "python",
   "nbconvert_exporter": "python",
   "pygments_lexer": "ipython3",
   "version": "3.6.9"
  },
  "nbdime-conflicts": {
   "local_diff": [
    {
     "diff": [
      {
       "diff": [
        {
         "key": 0,
         "op": "addrange",
         "valuelist": [
          "env_for_pypsa"
         ]
        },
        {
         "key": 0,
         "length": 1,
         "op": "removerange"
        }
       ],
       "key": "display_name",
       "op": "patch"
      },
      {
       "diff": [
        {
         "key": 0,
         "op": "addrange",
         "valuelist": [
          "env_for_pypsa"
         ]
        },
        {
         "key": 0,
         "length": 1,
         "op": "removerange"
        }
       ],
       "key": "name",
       "op": "patch"
      }
     ],
     "key": "kernelspec",
     "op": "patch"
    }
   ],
   "remote_diff": [
    {
     "diff": [
      {
       "diff": [
        {
         "key": 0,
         "op": "addrange",
         "valuelist": [
          "rte-challenge"
         ]
        },
        {
         "key": 0,
         "length": 1,
         "op": "removerange"
        }
       ],
       "key": "display_name",
       "op": "patch"
      },
      {
       "diff": [
        {
         "key": 0,
         "op": "addrange",
         "valuelist": [
          "rte-challenge"
         ]
        },
        {
         "key": 0,
         "length": 1,
         "op": "removerange"
        }
       ],
       "key": "name",
       "op": "patch"
      }
     ],
     "key": "kernelspec",
     "op": "patch"
    }
   ]
  }
 },
 "nbformat": 4,
 "nbformat_minor": 4
}
