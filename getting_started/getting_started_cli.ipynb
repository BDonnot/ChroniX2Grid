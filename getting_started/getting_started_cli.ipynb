{
 "cells": [
  {
   "cell_type": "markdown",
   "metadata": {},
   "source": [
    "## This notebook will guide you through the use of the chronix2grid command line interface. "
   ]
  },
  {
   "cell_type": "markdown",
   "metadata": {},
   "source": [
    "<div class=\"alert alert-block alert-warning\">\n",
    "    <b>WARNING</b>: If you run <b>chronix2grid in a virtual env</b>, make sure that you either:\n",
    "    \n",
    "    - sourced your virtual env before launching jupyter: source v_env_chronix2grid/bin/activate\n",
    "    \n",
    "    - created an ipython kernel for this virtual env, and that you are actually running this kernerl now\n",
    "</div>\n"
   ]
  },
  {
   "cell_type": "code",
   "execution_count": 1,
   "metadata": {},
   "outputs": [],
   "source": [
    "import os"
   ]
  },
  {
   "cell_type": "code",
   "execution_count": 2,
   "metadata": {
    "scrolled": false
   },
   "outputs": [
    {
     "name": "stdout",
     "output_type": "stream",
     "text": [
      "Usage: chronix2grid [OPTIONS]\r\n",
      "\r\n",
      "Options:\r\n",
      "  --case TEXT               case folder to base generation on\r\n",
      "  --start-date TEXT         Start date to generate chronics\r\n",
      "  --weeks INTEGER           Number of weeks to generate\r\n",
      "  --by-n-weeks INTEGER      Size of the output chunks in weeks\r\n",
      "  --n_scenarios INTEGER     Number of scenarios to generate\r\n",
      "  --mode TEXT               Steps to execute : L for loads only (and KPI);\r\n",
      "                            R(K) for renewables (and KPI) only; LRTK for all\r\n",
      "                            generation\r\n",
      "\r\n",
      "  --input-folder TEXT       Directory to read input files from.\r\n",
      "  --output-folder TEXT      Directory to store output files.\r\n",
      "  --seed-for-loads TEXT     Input seed to ensure reproducibility of loads\r\n",
      "                            generation\r\n",
      "\r\n",
      "  --seed-for-res TEXT       Input seed to ensure reproducibility of renewables\r\n",
      "                            generation\r\n",
      "\r\n",
      "  --seed-for-dispatch TEXT  Input seed to ensure reproducibility of dispatch\r\n",
      "  --ignore-warnings         Ignore the warnings related to the existence of\r\n",
      "                            data files in the chosen output directory.\r\n",
      "\r\n",
      "  --scenario_name TEXT      subname to add to the generated scenario output\r\n",
      "                            folder, as Scenario_subname_i\r\n",
      "\r\n",
      "  --nb_core INTEGER         number of cores to parallelize the number of\r\n",
      "                            scenarios\r\n",
      "\r\n",
      "  --help                    Show this message and exit.\r\n"
     ]
    }
   ],
   "source": [
    "!chronix2grid --help"
   ]
  },
  {
   "cell_type": "code",
   "execution_count": 3,
   "metadata": {},
   "outputs": [],
   "source": [
    "### CONSTANT\n",
    "\n",
    "notebook_folder=%pwd\n",
    "\n",
    "# define your input folder\n",
    "INPUT_FOLDER = os.path.join(notebook_folder, 'example', 'input')\n",
    "\n",
    "OUTPUT_FOLDER = os.path.join(notebook_folder, 'example', 'output')\n",
    "\n",
    "# Detailed configuration to be set in <INPUT_FOLDER>/<CASE>/params.json\n",
    "start_date = \"2012-01-01\"\n",
    "weeks = 8\n",
    "n_scenarios = 1\n",
    "by_n_weeks = 4\n",
    "\n",
    "mode = 'RLTK'\n",
    "\n",
    "\n",
    "CASE = 'case118_l2rpn_wcci'"
   ]
  },
  {
   "cell_type": "code",
   "execution_count": 4,
   "metadata": {},
   "outputs": [
    {
     "data": {
      "text/plain": [
       "'chronix2grid                          --mode RLTK --output-folder /home/vrenault/Projects/ChroniX2Grid/getting_started/example/output --input-folder /home/vrenault/Projects/ChroniX2Grid/getting_started/example/input --ignore-warnings                          --weeks 8 --case case118_l2rpn_wcci --n_scenarios 1 --start-date 2012-01-01 --by-n-weeks 4'"
      ]
     },
     "execution_count": 4,
     "metadata": {},
     "output_type": "execute_result"
    }
   ],
   "source": [
    "cli_chronix2grid=\"chronix2grid \\\n",
    "                         --mode {} --output-folder {} --input-folder {} --ignore-warnings \\\n",
    "                         --weeks {} --case {} --n_scenarios {} --start-date {} --by-n-weeks {}\".format(\n",
    "                         mode, OUTPUT_FOLDER, INPUT_FOLDER, weeks, CASE, n_scenarios, start_date,by_n_weeks)\n",
    "cli_chronix2grid"
   ]
  },
  {
   "cell_type": "code",
   "execution_count": null,
   "metadata": {},
   "outputs": [],
   "source": [
    "!$cli_chronix2grid"
   ]
  }
 ],
 "metadata": {
  "kernelspec": {
   "display_name": "Python 3",
   "language": "python",
   "name": "python3"
  },
  "language_info": {
   "codemirror_mode": {
    "name": "ipython",
    "version": 3
   },
   "file_extension": ".py",
   "mimetype": "text/x-python",
   "name": "python",
   "nbconvert_exporter": "python",
   "pygments_lexer": "ipython3",
   "version": "3.6.9"
  },
  "nbdime-conflicts": {
   "local_diff": [
    {
     "diff": [
      {
       "diff": [
        {
         "key": 0,
         "op": "addrange",
         "valuelist": [
          "env_for_pypsa"
         ]
        },
        {
         "key": 0,
         "length": 1,
         "op": "removerange"
        }
       ],
       "key": "display_name",
       "op": "patch"
      },
      {
       "diff": [
        {
         "key": 0,
         "op": "addrange",
         "valuelist": [
          "env_for_pypsa"
         ]
        },
        {
         "key": 0,
         "length": 1,
         "op": "removerange"
        }
       ],
       "key": "name",
       "op": "patch"
      }
     ],
     "key": "kernelspec",
     "op": "patch"
    }
   ],
   "remote_diff": [
    {
     "diff": [
      {
       "diff": [
        {
         "key": 0,
         "op": "addrange",
         "valuelist": [
          "rte-challenge"
         ]
        },
        {
         "key": 0,
         "length": 1,
         "op": "removerange"
        }
       ],
       "key": "display_name",
       "op": "patch"
      },
      {
       "diff": [
        {
         "key": 0,
         "op": "addrange",
         "valuelist": [
          "rte-challenge"
         ]
        },
        {
         "key": 0,
         "length": 1,
         "op": "removerange"
        }
       ],
       "key": "name",
       "op": "patch"
      }
     ],
     "key": "kernelspec",
     "op": "patch"
    }
   ]
  }
 },
 "nbformat": 4,
 "nbformat_minor": 4
}
