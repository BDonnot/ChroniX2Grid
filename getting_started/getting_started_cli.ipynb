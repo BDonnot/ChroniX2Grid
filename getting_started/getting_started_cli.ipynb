{
 "cells": [
  {
   "cell_type": "markdown",
   "metadata": {},
   "source": [
    "## This notebook will guide you through the use of the chronix2grid command line interface. "
   ]
  },
  {
   "cell_type": "markdown",
   "metadata": {},
   "source": [
    "<div class=\"alert alert-block alert-warning\">\n",
    "    <b>WARNING</b>: If you run <b>chronix2grid in a virtual env</b>, make sure that you either:\n",
    "    \n",
    "    - sourced your virtual env before launching jupyter: source v_env_chronix2grid/bin/activate\n",
    "    \n",
    "    - created an ipython kernel for this virtual env, and that you are actually running this kernerl now\n",
    "</div>\n"
   ]
  },
  {
   "cell_type": "code",
   "execution_count": 1,
   "metadata": {},
   "outputs": [],
   "source": [
    "import os"
   ]
  },
  {
   "cell_type": "code",
   "execution_count": 2,
   "metadata": {
    "scrolled": false
   },
   "outputs": [
    {
     "name": "stdout",
     "output_type": "stream",
     "text": [
      "/Users/antoinemarot/dev/ChroniX2Grid/venv_chronix2grid/lib/python3.6/site-packages/grid2op/Plot/EpisodeReplay.py:34: UserWarning:\n",
      "\n",
      "The final video will not be saved as \"imageio\" and \"imageio_ffmpeg\" packages cannot be imported. Please try \"/Users/antoinemarot/dev/ChroniX2Grid/venv_chronix2grid/bin/python -m pip install imageio imageio-ffmpeg\"\n",
      "\n",
      "Usage: chronix2grid [OPTIONS]\n",
      "\n",
      "Options:\n",
      "  --case TEXT               case folder to base generation on\n",
      "  --start-date TEXT         Start date to generate chronics\n",
      "  --weeks INTEGER           Number of weeks to generate\n",
      "  --by-n-weeks INTEGER      Size of the output chunks in weeks\n",
      "  --n_scenarios INTEGER     Number of scenarios to generate\n",
      "  --mode TEXT               Steps to execute : L for loads only (and KPI);\n",
      "                            R(K) for renewables (and KPI) only; LRTK for all\n",
      "                            generation\n",
      "\n",
      "  --input-folder TEXT       Directory to read input files from.\n",
      "  --output-folder TEXT      Directory to store output files.\n",
      "  --seed-for-loads TEXT     Input seed to ensure reproducibility of loads\n",
      "                            generation\n",
      "\n",
      "  --seed-for-res TEXT       Input seed to ensure reproducibility of renewables\n",
      "                            generation\n",
      "\n",
      "  --seed-for-dispatch TEXT  Input seed to ensure reproducibility of dispatch\n",
      "  --ignore-warnings         Ignore the warnings related to the existence of\n",
      "                            data files in the chosen output directory.\n",
      "\n",
      "  --scenario_name TEXT      subname to add to the generated scenario output\n",
      "                            folder, as Scenario_subname_i\n",
      "\n",
      "  --nb_core INTEGER         number of cores to parallelize the number of\n",
      "                            scenarios\n",
      "\n",
      "  --help                    Show this message and exit.\n"
     ]
    }
   ],
   "source": [
    "!chronix2grid --help"
   ]
  },
  {
   "cell_type": "code",
   "execution_count": 12,
   "metadata": {},
   "outputs": [],
   "source": [
    "### CONSTANT\n",
    "\n",
    "notebook_folder=%pwd\n",
    "root_dir = os.path.abspath(os.path.join( notebook_folder,'..'))\n",
    "\n",
    "# define your input folder\n",
    "INPUT_FOLDER = os.path.join(root_dir, 'input_data')\n",
    "\n",
    "OUTPUT_FOLDER = os.path.join(root_dir, 'output')\n",
    "\n",
    "# Detailed configuration to be set in <INPUT_FOLDER>/<CASE>/params.json\n",
    "start_date = \"2012-01-01\"\n",
    "weeks = 8\n",
    "n_scenarios = 1\n",
    "by_n_weeks = 4\n",
    "\n",
    "mode = 'RLTK'\n",
    "\n",
    "\n",
    "CASE = 'case118_l2rpn_wcci'"
   ]
  },
  {
   "cell_type": "code",
   "execution_count": 16,
   "metadata": {},
   "outputs": [
    {
     "data": {
      "text/plain": [
       "'chronix2grid                          --mode RLTK --output-folder /Users/antoinemarot/dev/ChroniX2Grid/output --input-folder /Users/antoinemarot/dev/ChroniX2Grid/input_data --ignore-warnings                          --weeks 8 --case case118_l2rpn_wcci --n_scenarios 1 --start-date 2012-01-01 --by-n-weeks 4'"
      ]
     },
     "execution_count": 16,
     "metadata": {},
     "output_type": "execute_result"
    }
   ],
   "source": [
    "cli_chronix2grid=\"chronix2grid \\\n",
    "                         --mode {} --output-folder {} --input-folder {} --ignore-warnings \\\n",
    "                         --weeks {} --case {} --n_scenarios {} --start-date {} --by-n-weeks {}\".format(\n",
    "                         mode, OUTPUT_FOLDER, INPUT_FOLDER, weeks, CASE, n_scenarios, start_date,by_n_weeks)\n",
    "cli_chronix2grid"
   ]
  },
  {
   "cell_type": "code",
   "execution_count": 19,
   "metadata": {},
   "outputs": [
    {
     "name": "stdout",
     "output_type": "stream",
     "text": [
      "/Users/antoinemarot/dev/ChroniX2Grid/venv_chronix2grid/lib/python3.6/site-packages/grid2op/Plot/EpisodeReplay.py:34: UserWarning:\n",
      "\n",
      "The final video will not be saved as \"imageio\" and \"imageio_ffmpeg\" packages cannot be imported. Please try \"/Users/antoinemarot/dev/ChroniX2Grid/venv_chronix2grid/bin/python -m pip install imageio imageio-ffmpeg\"\n",
      "\n",
      "case118_l2rpn_wcci\n",
      "initial_seeds\n",
      "{'loads': 434272943, 'renewables': 434272943, 'dispatch': 434272943}\n",
      "seeds for scenario: Scenario_0\n",
      "{'loads': 434272943, 'renewables': 434272943, 'dispatch': 434272943}\n",
      "scenarion_path: /Users/antoinemarot/dev/ChroniX2Grid/output/generation/case118_l2rpn_wcci/2012-01-01/Scenario_0\n",
      "=====================================================================================================================================\n",
      "============================================== CHRONICS GENERATION ==================================================================\n",
      "=====================================================================================================================================\n",
      "================ Generating Scenario_0 ================\n",
      "Computing global auto-correlated spatio-temporal noise for thermosensible demand...\n",
      "Computing loads ...\n",
      "Saving files in zipped csv in \"/Users/antoinemarot/dev/ChroniX2Grid/output/generation/case118_l2rpn_wcci/2012-01-01/Scenario_0\"\n",
      "Computing global auto-correlated spatio-temporal noise for sun and wind...\n",
      "Generating solar and wind production chronics\n",
      "Saving files in zipped csv\n",
      "mode_opf is not None\n",
      "Preprocessing input data..\n",
      "Filter generators ramps up/down\n",
      "Adapting PyPSA grid with parameters..\n",
      "mode_opf is not None\n",
      "\n",
      "--> OPF formulation by => month - Analyzing month # 1\n",
      "^C\n",
      "Process ForkPoolWorker-1:\n",
      "\n",
      "Aborted!\n",
      "Traceback (most recent call last):\n",
      "  File \"/opt/local/Library/Frameworks/Python.framework/Versions/3.6/lib/python3.6/multiprocessing/process.py\", line 258, in _bootstrap\n",
      "    self.run()\n",
      "  File \"/opt/local/Library/Frameworks/Python.framework/Versions/3.6/lib/python3.6/multiprocessing/process.py\", line 93, in run\n",
      "    self._target(*self._args, **self._kwargs)\n",
      "  File \"/opt/local/Library/Frameworks/Python.framework/Versions/3.6/lib/python3.6/multiprocessing/pool.py\", line 119, in worker\n",
      "    result = (True, func(*args, **kwds))\n",
      "  File \"/opt/local/Library/Frameworks/Python.framework/Versions/3.6/lib/python3.6/multiprocessing/pool.py\", line 44, in mapstar\n",
      "    return list(map(*args))\n",
      "  File \"/Users/antoinemarot/dev/ChroniX2Grid/chronix2grid/main.py\", line 140, in generate_per_scenario\n",
      "    scen_names, seed_for_loads, seed_for_res, seed_for_dispatch, scenario_id)\n",
      "  File \"/Users/antoinemarot/dev/ChroniX2Grid/chronix2grid/main.py\", line 165, in generate_inner\n",
      "    mode, scenario_id, seed_for_loads, seed_for_res, seed_for_dispatch)\n",
      "  File \"/Users/antoinemarot/dev/ChroniX2Grid/chronix2grid/generation/generate_chronics.py\", line 125, in main\n",
      "    seed_disp, params, params_opf)\n",
      "  File \"/Users/antoinemarot/dev/ChroniX2Grid/chronix2grid/generation/dispatch/generate_dispatch.py\", line 44, in main\n",
      "    solver_name=params_opf['solver_name']\n",
      "  File \"/Users/antoinemarot/dev/ChroniX2Grid/chronix2grid/generation/dispatch/EconomicDispatch.py\", line 245, in run\n",
      "    load, params, gen_constraints, ramp_mode, **kwargs)\n",
      "  File \"/Users/antoinemarot/dev/ChroniX2Grid/chronix2grid/generation/dispatch/EDispatch_L2RPN2020/run_economic_dispatch.py\", line 76, in main_run_disptach\n",
      "    gen_min_pu_per_mode, params, **kwargs)\n",
      "  File \"/Users/antoinemarot/dev/ChroniX2Grid/chronix2grid/generation/dispatch/EDispatch_L2RPN2020/utils.py\", line 308, in run_opf\n",
      "    net.set_snapshots(demand.index)\n",
      "  File \"/Users/antoinemarot/dev/ChroniX2Grid/venv_chronix2grid/lib/python3.6/site-packages/pypsa/components.py\", line 400, in set_snapshots\n",
      "    pnl[k] = pnl[k].reindex(self.snapshots).fillna(default)\n",
      "  File \"/Users/antoinemarot/dev/ChroniX2Grid/venv_chronix2grid/lib/python3.6/site-packages/pandas/util/_decorators.py\", line 227, in wrapper\n",
      "    return func(*args, **kwargs)\n",
      "  File \"/Users/antoinemarot/dev/ChroniX2Grid/venv_chronix2grid/lib/python3.6/site-packages/pandas/core/frame.py\", line 3856, in reindex\n",
      "    return super().reindex(**kwargs)\n",
      "  File \"/Users/antoinemarot/dev/ChroniX2Grid/venv_chronix2grid/lib/python3.6/site-packages/pandas/core/generic.py\", line 4544, in reindex\n",
      "    axes, level, limit, tolerance, method, fill_value, copy\n",
      "  File \"/Users/antoinemarot/dev/ChroniX2Grid/venv_chronix2grid/lib/python3.6/site-packages/pandas/core/frame.py\", line 3744, in _reindex_axes\n",
      "    index, method, copy, level, fill_value, limit, tolerance\n",
      "  File \"/Users/antoinemarot/dev/ChroniX2Grid/venv_chronix2grid/lib/python3.6/site-packages/pandas/core/frame.py\", line 3760, in _reindex_index\n",
      "    new_index, method=method, level=level, limit=limit, tolerance=tolerance\n",
      "  File \"/Users/antoinemarot/dev/ChroniX2Grid/venv_chronix2grid/lib/python3.6/site-packages/pandas/core/indexes/base.py\", line 3144, in reindex\n",
      "    target, method=method, limit=limit, tolerance=tolerance\n",
      "  File \"/Users/antoinemarot/dev/ChroniX2Grid/venv_chronix2grid/lib/python3.6/site-packages/pandas/core/indexes/base.py\", line 2727, in get_indexer\n",
      "    target = target.astype(object)\n",
      "  File \"/Users/antoinemarot/dev/ChroniX2Grid/venv_chronix2grid/lib/python3.6/site-packages/pandas/core/indexes/extension.py\", line 291, in astype\n",
      "    new_values = self._data.astype(dtype, copy=copy)\n",
      "  File \"/Users/antoinemarot/dev/ChroniX2Grid/venv_chronix2grid/lib/python3.6/site-packages/pandas/core/arrays/datetimes.py\", line 606, in astype\n",
      "    return dtl.DatetimeLikeArrayMixin.astype(self, dtype, copy)\n",
      "  File \"/Users/antoinemarot/dev/ChroniX2Grid/venv_chronix2grid/lib/python3.6/site-packages/pandas/core/arrays/datetimelike.py\", line 626, in astype\n",
      "    return self._box_values(self.asi8)\n",
      "  File \"/Users/antoinemarot/dev/ChroniX2Grid/venv_chronix2grid/lib/python3.6/site-packages/pandas/core/arrays/datetimelike.py\", line 438, in _box_values\n",
      "    return lib.map_infer(values, self._box_func)\n",
      "  File \"pandas/_libs/lib.pyx\", line 2329, in pandas._libs.lib.map_infer\n",
      "  File \"/Users/antoinemarot/dev/ChroniX2Grid/venv_chronix2grid/lib/python3.6/site-packages/pandas/core/arrays/datetimes.py\", line 476, in <lambda>\n",
      "    return lambda x: Timestamp(x, freq=self.freq, tz=self.tz)\n",
      "  File \"/Users/antoinemarot/dev/ChroniX2Grid/venv_chronix2grid/lib/python3.6/site-packages/pandas/core/arrays/datetimes.py\", line 511, in tz\n",
      "    return getattr(self.dtype, \"tz\", None)\n",
      "  File \"/Users/antoinemarot/dev/ChroniX2Grid/venv_chronix2grid/lib/python3.6/site-packages/pandas/core/arrays/datetimes.py\", line 498, in dtype\n",
      "    return self._dtype\n",
      "KeyboardInterrupt\n"
     ]
    }
   ],
   "source": [
    "!$cli_chronix2grid"
   ]
  },
  {
   "cell_type": "code",
   "execution_count": null,
   "metadata": {},
   "outputs": [],
   "source": []
  }
 ],
 "metadata": {
  "kernelspec": {
   "display_name": "venv_chronix2grid",
   "language": "python",
   "name": "venv_chronix2grid"
  },
  "language_info": {
   "codemirror_mode": {
    "name": "ipython",
    "version": 3
   },
   "file_extension": ".py",
   "mimetype": "text/x-python",
   "name": "python",
   "nbconvert_exporter": "python",
   "pygments_lexer": "ipython3",
   "version": "3.6.10"
  },
  "nbdime-conflicts": {
   "local_diff": [
    {
     "diff": [
      {
       "diff": [
        {
         "key": 0,
         "op": "addrange",
         "valuelist": [
          "env_for_pypsa"
         ]
        },
        {
         "key": 0,
         "length": 1,
         "op": "removerange"
        }
       ],
       "key": "display_name",
       "op": "patch"
      },
      {
       "diff": [
        {
         "key": 0,
         "op": "addrange",
         "valuelist": [
          "env_for_pypsa"
         ]
        },
        {
         "key": 0,
         "length": 1,
         "op": "removerange"
        }
       ],
       "key": "name",
       "op": "patch"
      }
     ],
     "key": "kernelspec",
     "op": "patch"
    }
   ],
   "remote_diff": [
    {
     "diff": [
      {
       "diff": [
        {
         "key": 0,
         "op": "addrange",
         "valuelist": [
          "rte-challenge"
         ]
        },
        {
         "key": 0,
         "length": 1,
         "op": "removerange"
        }
       ],
       "key": "display_name",
       "op": "patch"
      },
      {
       "diff": [
        {
         "key": 0,
         "op": "addrange",
         "valuelist": [
          "rte-challenge"
         ]
        },
        {
         "key": 0,
         "length": 1,
         "op": "removerange"
        }
       ],
       "key": "name",
       "op": "patch"
      }
     ],
     "key": "kernelspec",
     "op": "patch"
    }
   ]
  }
 },
 "nbformat": 4,
 "nbformat_minor": 4
}
