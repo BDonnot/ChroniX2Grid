{
 "cells": [
  {
   "cell_type": "markdown",
   "metadata": {},
   "source": [
    "# Renewable.ninja API\n",
    "from https://www.renewables.ninja/documentation/api/python-example\n",
    "\n",
    "Limits in requests:\n",
    "- Chronic max length: 1 year\n",
    "- Max Request per minute: 6\n",
    "- Max Request per hour: 50\n",
    "\n",
    "Since this is generated from Merra weather database at one hour resolution, we will probably not have better resolution than 1 hour.\n",
    "The available histopry goes back to the year 2000 until now\n",
    "\n"
   ]
  },
  {
   "cell_type": "markdown",
   "metadata": {},
   "source": [
    "## Generate 1-year solar chronic at 1 hour resolution given coordinates"
   ]
  },
  {
   "cell_type": "markdown",
   "metadata": {},
   "source": [
    "### Select solar coordinates"
   ]
  },
  {
   "cell_type": "code",
   "execution_count": null,
   "metadata": {},
   "outputs": [],
   "source": [
    "#Path to change\n",
    "#folium Draw API will save the file in your local Download repository and we will need to retrieve it\n",
    "import os\n",
    "import requests\n",
    "import pandas as pd\n",
    "import json\n",
    "\n",
    "import cufflinks as cf\n",
    "import plotly.offline\n",
    "cf.go_offline()\n",
    "cf.set_config_file(offline=False, world_readable=True)\n",
    "\n",
    "YourDownloadPath=os.path.join(os.path.expanduser('~'), 'Downloads')\n",
    "solarCoordinatesFileName='solarCoordinates.json'\n",
    "CASE='case118_l2rpn_new'\n",
    "year='2012'#the year on which to generate chronics\n",
    "filePath=os.path.join(YourDownloadPath, solarCoordinatesFileName)"
   ]
  },
  {
   "cell_type": "code",
   "execution_count": null,
   "metadata": {},
   "outputs": [],
   "source": [
    "token = '57a51353d6f26d8ad333fad459333bdd402cf19f' # Use your token by subscribing to renewable ninja API\n",
    "yourOutputPath = os.path.join(\"/Users/antoinemarot/dev/ChroniX2Grid/chronix2grid/input/kpi/France/renewable_ninja\",CASE)\n",
    "\n",
    "try: \n",
    "    os.makedirs(yourOutputPath, exist_ok = True) \n",
    "    print(\"Directory '%s' created successfully\" %directory) \n",
    "except OSError as error: \n",
    "    print(\"Directory '%s' can not be created\") \n",
    "\n"
   ]
  },
  {
   "cell_type": "code",
   "execution_count": null,
   "metadata": {},
   "outputs": [],
   "source": [
    "# Read prods charac to associate chronics to usecase generators\n",
    "prods_charac = pd.read_csv(os.path.join('../../../../generation/input',CASE,'prods_charac.csv'), sep = ',')\n",
    "prods_charac.head()"
   ]
  },
  {
   "cell_type": "code",
   "execution_count": null,
   "metadata": {},
   "outputs": [],
   "source": [
    "# Select only solar generators\n",
    "solar_gen = prods_charac[prods_charac['type']=='solar'].sort_values(by = 'zone')\n",
    "solar_gen"
   ]
  },
  {
   "cell_type": "markdown",
   "metadata": {},
   "source": [
    "### Chose locations on map\n",
    "You should try to simulate the locations in prods_charac (3 regions). Set points in the same order as they appear in prods_charac above"
   ]
  },
  {
   "cell_type": "code",
   "execution_count": null,
   "metadata": {},
   "outputs": [],
   "source": [
    "import folium\n",
    "from folium.plugins import Draw, MousePosition, MiniMap, LocateControl\n",
    "\n",
    "\n",
    "m = folium.Map()\n",
    "\n",
    "\n",
    "if os.path.exists(filePath):\n",
    "    os.remove(filePath)\n",
    "\n",
    "draw = Draw(export=True, filename=solarCoordinatesFileName)\n",
    "\n",
    "draw.add_to(m)\n",
    "\n",
    "formatter = \"function(num) {return L.Util.formatNum(num, 3) + ' º ';};\"\n",
    "\n",
    "MousePosition(\n",
    "    position='topright',\n",
    "    separator=' | ',\n",
    "    empty_string='NaN',\n",
    "    lng_first=True,\n",
    "    num_digits=20,\n",
    "    prefix='Coordinates:',\n",
    "    lat_formatter=formatter,\n",
    "    lng_formatter=formatter,\n",
    ").add_to(m)\n",
    "\n",
    "minimap = MiniMap()\n",
    "m.add_child(minimap)\n",
    "\n",
    "LocateControl(auto_start=True).add_to(m)\n",
    "\n",
    "m\n"
   ]
  },
  {
   "cell_type": "markdown",
   "metadata": {},
   "source": [
    "#### Export your locations with the export button"
   ]
  },
  {
   "cell_type": "markdown",
   "metadata": {},
   "source": [
    "#### Extract your locations"
   ]
  },
  {
   "cell_type": "code",
   "execution_count": null,
   "metadata": {},
   "outputs": [],
   "source": [
    "#read JSON\n",
    "import geopandas as gpd\n",
    "\n",
    "gdfSolar = gpd.read_file(filePath)\n",
    "gdfSolar['longitude']=gdfSolar.geometry.x\n",
    "gdfSolar['latitude']=gdfSolar.geometry.y\n",
    "\n",
    "\n",
    "# Add usecase generators\n",
    "for col in ['name','zone']:\n",
    "    gdfSolar[col] = solar_gen[col].values\n",
    "\n",
    "gdfSolar.head()"
   ]
  },
  {
   "cell_type": "markdown",
   "metadata": {},
   "source": [
    "### Get your solar chronic from renewable ninja per location and export it per year\n",
    "So that it is directly interpretable by KPIs"
   ]
  },
  {
   "cell_type": "code",
   "execution_count": null,
   "metadata": {},
   "outputs": [],
   "source": [
    "import requests\n",
    "import pandas as pd\n",
    "import json\n",
    "\n",
    "\n",
    "api_base = 'https://www.renewables.ninja/api/'\n",
    "\n",
    "s = requests.session()\n",
    "# Send token header with each request\n",
    "s.headers = {'Authorization': 'Token ' + token}\n",
    "\n",
    "##\n",
    "# PV example\n",
    "##\n",
    "\n",
    "url = api_base + 'data/pv'\n",
    "dfSolarLocation=pd.DataFrame()"
   ]
  },
  {
   "cell_type": "code",
   "execution_count": null,
   "metadata": {},
   "outputs": [],
   "source": [
    "\n",
    "import time\n",
    "\n",
    "\n",
    "sleep_time = 62\n",
    "\n",
    "\n",
    "s = requests.session()\n",
    "# Send token header with each request\n",
    "s.headers = {'Authorization': 'Token ' + token}\n",
    "\n",
    "dfSolarLocation=pd.DataFrame()\n",
    "\n",
    "\n",
    "for i, markerIndex in enumerate(range(len(gdfSolar))):\n",
    "    \n",
    "    if i % 5 == 0:\n",
    "        time.sleep(sleep_time)\n",
    "    \n",
    "    ##\n",
    "    # PV example\n",
    "    ##\n",
    "\n",
    "    #year=SixYears[0]\n",
    "    latitude=gdfSolar['latitude'][markerIndex]\n",
    "    longitude=gdfSolar['longitude'][markerIndex]\n",
    "    name = gdfSolar['name'][markerIndex]\n",
    "    \n",
    "    print(name, latitude, longitude)\n",
    "    \n",
    "    date_from=year+'-01-01'\n",
    "    date_to=year+'-12-31'\n",
    "\n",
    "    args = {\n",
    "        'lat': latitude,\n",
    "        'lon': longitude,\n",
    "        'date_from': date_from,\n",
    "        'date_to': date_to,\n",
    "        'dataset': 'merra2',\n",
    "        'capacity': 1.0,\n",
    "        'system_loss': 0.1,\n",
    "        'tracking': 0,\n",
    "        'tilt': 35,\n",
    "        'azim': 180,\n",
    "        'format': 'json'\n",
    "    }\n",
    "\n",
    "    r = s.get(url, params=args)\n",
    "    print(r)\n",
    "\n",
    "    # Parse JSON to get a pandas.DataFrame of data and dict of metadata\n",
    "    parsed_response = r.json()\n",
    "\n",
    "    dataSolarChronic = pd.read_json(json.dumps(parsed_response['data']), orient='index')\n",
    "    dataSolarChronic.index=pd.to_datetime(dataSolarChronic.index,utc=True) #removing the year to get same index for all years\n",
    "\n",
    "    dfSolarLocation[name]=dataSolarChronic['electricity']\n",
    "    \n",
    "dfSolarLocation.to_csv(os.path.join(yourOutputPath,'solar_'+str(year)+'.csv'), sep = ';', index = False)"
   ]
  },
  {
   "cell_type": "code",
   "execution_count": null,
   "metadata": {},
   "outputs": [],
   "source": [
    "dfSolarLocation.iplot()"
   ]
  },
  {
   "cell_type": "markdown",
   "metadata": {},
   "source": [
    "## Generate 1-year wind chronic at 1 hour resolution given ccordinates"
   ]
  },
  {
   "cell_type": "markdown",
   "metadata": {},
   "source": [
    "### Select wind coordinates"
   ]
  },
  {
   "cell_type": "code",
   "execution_count": null,
   "metadata": {},
   "outputs": [],
   "source": [
    "windCoordinatesFileName='windCoordinates.json'\n",
    "filePath=os.path.join(YourDownloadPath, windCoordinatesFileName)"
   ]
  },
  {
   "cell_type": "code",
   "execution_count": null,
   "metadata": {},
   "outputs": [],
   "source": [
    "# Select only wind generators\n",
    "wind_gen = prods_charac[prods_charac['type']=='wind'].sort_values(by = 'zone')\n",
    "wind_gen"
   ]
  },
  {
   "cell_type": "code",
   "execution_count": null,
   "metadata": {},
   "outputs": [],
   "source": [
    "import folium\n",
    "from folium.plugins import Draw, MousePosition, MiniMap, LocateControl\n",
    "\n",
    "m = folium.Map()\n",
    "\n",
    "\n",
    "if os.path.exists(filePath):\n",
    "    os.remove(filePath)\n",
    "\n",
    "draw = Draw(export=True, filename=windCoordinatesFileName)\n",
    "\n",
    "draw.add_to(m)\n",
    "\n",
    "formatter = \"function(num) {return L.Util.formatNum(num, 3) + ' º ';};\"\n",
    "\n",
    "MousePosition(\n",
    "    position='topright',\n",
    "    separator=' | ',\n",
    "    empty_string='NaN',\n",
    "    lng_first=True,\n",
    "    num_digits=20,\n",
    "    prefix='Coordinates:',\n",
    "    lat_formatter=formatter,\n",
    "    lng_formatter=formatter,\n",
    ").add_to(m)\n",
    "\n",
    "minimap = MiniMap()\n",
    "m.add_child(minimap)\n",
    "\n",
    "LocateControl(auto_start=True).add_to(m)\n",
    "\n",
    "m\n"
   ]
  },
  {
   "cell_type": "markdown",
   "metadata": {},
   "source": [
    "#### Export your locations with the export button"
   ]
  },
  {
   "cell_type": "markdown",
   "metadata": {},
   "source": [
    "#### Extract your locations"
   ]
  },
  {
   "cell_type": "code",
   "execution_count": null,
   "metadata": {},
   "outputs": [],
   "source": [
    "#read JSON\n",
    "import geopandas as gpd\n",
    "import pandas as pd\n",
    "\n",
    "gdfWind = gpd.read_file(filePath)\n",
    "gdfWind['longitude']=gdfWind.geometry.x\n",
    "gdfWind['latitude']=gdfWind.geometry.y\n",
    "\n",
    "#O ajoute les colonnes\n",
    "for col in ['name','zone']:\n",
    "    gdfWind[col] = wind_gen[col].values\n",
    "\n",
    "gdfWind.head(10)"
   ]
  },
  {
   "cell_type": "markdown",
   "metadata": {},
   "source": [
    "### Get wind solar chronic from renewable ninja\n"
   ]
  },
  {
   "cell_type": "markdown",
   "metadata": {},
   "source": [
    "#### Select your location in the gdf dataframe\n"
   ]
  },
  {
   "cell_type": "markdown",
   "metadata": {},
   "source": [
    "#### Get Chronics from api"
   ]
  },
  {
   "cell_type": "code",
   "execution_count": null,
   "metadata": {},
   "outputs": [],
   "source": [
    "##\n",
    "# Wind example\n",
    "##\n",
    "api_base = 'https://www.renewables.ninja/api/'\n",
    "url = api_base + 'data/wind'\n",
    "s = requests.session()\n",
    "# Send token header with each request\n",
    "token = '57a51353d6f26d8ad333fad459333bdd402cf19f'\n",
    "s.headers = {'Authorization': 'Token ' + token}\n",
    "args = {\n",
    "    'lat': latitude,\n",
    "    'lon': longitude,\n",
    "    'date_from': '2015-01-01',\n",
    "    'date_to': '2015-12-31',\n",
    "    'capacity': 1.0,\n",
    "    'height': 100,\n",
    "    'turbine': 'Vestas V80 2000',\n",
    "    'format': 'json'\n",
    "}\n",
    "\n",
    "r = s.get(url, params=args)\n",
    "\n",
    "parsed_response = json.loads(r.text)\n",
    "dataWind = pd.read_json(json.dumps(parsed_response['data']), orient='index')\n",
    "metadataWind = parsed_response['metadata']"
   ]
  },
  {
   "cell_type": "code",
   "execution_count": null,
   "metadata": {},
   "outputs": [],
   "source": [
    "\n",
    "import time\n",
    "\n",
    "api_base = 'https://www.renewables.ninja/api/'\n",
    "url = api_base + 'data/wind'\n",
    "sleep_time = 62\n",
    "\n",
    "\n",
    "s = requests.session()\n",
    "# Send token header with each request\n",
    "s.headers = {'Authorization': 'Token ' + token}\n",
    "\n",
    "dfWindLocation=pd.DataFrame()\n",
    "\n",
    "\n",
    "for i, markerIndex in enumerate(range(len(gdfWind))):\n",
    "    \n",
    "    if i % 5 == 0:\n",
    "        time.sleep(sleep_time)\n",
    "    \n",
    "    ##\n",
    "    # PV example\n",
    "    ##\n",
    "\n",
    "    #year=SixYears[0]\n",
    "    latitude=gdfWind['latitude'][markerIndex]\n",
    "    longitude=gdfWind['longitude'][markerIndex]\n",
    "    name = gdfWind['name'][markerIndex]\n",
    "    \n",
    "    print(name, latitude, longitude)\n",
    "    \n",
    "    date_from=year+'-01-01'\n",
    "    date_to=year+'-12-31'\n",
    "\n",
    "    args = {\n",
    "        'lat': latitude,\n",
    "        'lon': longitude,\n",
    "        'date_from': date_from,\n",
    "        'date_to': date_to,\n",
    "        'capacity': 1.0,\n",
    "        'height': 100,\n",
    "        'turbine': 'Vestas V80 2000',\n",
    "        'format': 'json'\n",
    "    }\n",
    "\n",
    "    r = s.get(url, params=args)\n",
    "    print(r)\n",
    "\n",
    "    # Parse JSON to get a pandas.DataFrame of data and dict of metadata\n",
    "    parsed_response = r.json()\n",
    "\n",
    "    dataWindChronic = pd.read_json(json.dumps(parsed_response['data']), orient='index')\n",
    "    dataWindChronic.index=pd.to_datetime(dataWindChronic.index,utc=True) #removing the year to get same index for all years\n",
    "\n",
    "    dfWindLocation[name]=dataWindChronic['electricity']\n",
    "\n",
    "dfWindLocation.to_csv(os.path.join(yourOutputPath,'wind_'+str(year)+'.csv'), sep = ';', index = False)"
   ]
  },
  {
   "cell_type": "code",
   "execution_count": null,
   "metadata": {},
   "outputs": [],
   "source": [
    "dfWindLocation.iplot()"
   ]
  },
  {
   "cell_type": "code",
   "execution_count": null,
   "metadata": {},
   "outputs": [],
   "source": []
  },
  {
   "cell_type": "code",
   "execution_count": null,
   "metadata": {},
   "outputs": [],
   "source": []
  }
 ],
 "metadata": {
  "kernelspec": {
   "display_name": "Python 3",
   "language": "python",
   "name": "python3"
  },
  "language_info": {
   "codemirror_mode": {
    "name": "ipython",
    "version": 3
   },
   "file_extension": ".py",
   "mimetype": "text/x-python",
   "name": "python",
   "nbconvert_exporter": "python",
   "pygments_lexer": "ipython3",
   "version": "3.7.4"
  }
 },
 "nbformat": 4,
 "nbformat_minor": 4
}
