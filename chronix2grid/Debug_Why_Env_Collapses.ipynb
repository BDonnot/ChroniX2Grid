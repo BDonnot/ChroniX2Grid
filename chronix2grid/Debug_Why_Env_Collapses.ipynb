{
 "cells": [
  {
   "cell_type": "code",
   "execution_count": 1,
   "metadata": {},
   "outputs": [],
   "source": [
    "import os\n",
    "import pandas as pd\n",
    "import numpy as np\n",
    "import plotly.express as px\n",
    "import matplotlib.pyplot as plt\n",
    "import pandapower as pp"
   ]
  },
  {
   "cell_type": "code",
   "execution_count": 2,
   "metadata": {},
   "outputs": [],
   "source": [
    "path_data_saved = os.path.abspath('generation/output/case118_l2rpn/2012/agent_results/Scenario_0')"
   ]
  },
  {
   "cell_type": "code",
   "execution_count": 3,
   "metadata": {},
   "outputs": [],
   "source": [
    "from grid2op.EpisodeData import EpisodeData\n",
    "from tqdm.notebook import tqdm\n",
    "\n",
    "data_this_episode = EpisodeData.from_disk(path_data_saved, 'Scenario_0')"
   ]
  },
  {
   "cell_type": "markdown",
   "metadata": {},
   "source": [
    "### Load partial results of failed agent"
   ]
  },
  {
   "cell_type": "code",
   "execution_count": 4,
   "metadata": {},
   "outputs": [],
   "source": [
    "# Results of running with grid2op\n",
    "# flows_a = np.array([obs.a_or for obs in data_this_episode.observations])\n",
    "loads_p_runner = pd.DataFrame([obs.load_p for obs in data_this_episode.observations])\n",
    "prods_p_runner = pd.DataFrame([obs.prod_p for obs in data_this_episode.observations])"
   ]
  },
  {
   "cell_type": "code",
   "execution_count": 5,
   "metadata": {},
   "outputs": [
    {
     "name": "stdout",
     "output_type": "stream",
     "text": [
      "Agent played only 255 / 8062 time steps\n"
     ]
    }
   ],
   "source": [
    "total_played = data_this_episode.meta['nb_timestep_played']\n",
    "total_tsteps = data_this_episode.meta['chronics_max_timestep']\n",
    "\n",
    "print (f'Agent played only {total_played} / {total_tsteps} time steps')"
   ]
  },
  {
   "cell_type": "code",
   "execution_count": 6,
   "metadata": {},
   "outputs": [
    {
     "name": "stdout",
     "output_type": "stream",
     "text": [
      "Total prods runner lenght 256 - loads runner 256\n"
     ]
    }
   ],
   "source": [
    "# Assuming here ... it keeps same sort of order\n",
    "prods_p_runner.columns = data_this_episode.prod_names\n",
    "loads_p_runner.columns = data_this_episode.load_names\n",
    "\n",
    "print (f'Total prods runner lenght {prods_p_runner.shape[0]} - loads runner {loads_p_runner.shape[0]}')"
   ]
  },
  {
   "cell_type": "code",
   "execution_count": 7,
   "metadata": {},
   "outputs": [
    {
     "data": {
      "text/html": [
       "<div>\n",
       "<style scoped>\n",
       "    .dataframe tbody tr th:only-of-type {\n",
       "        vertical-align: middle;\n",
       "    }\n",
       "\n",
       "    .dataframe tbody tr th {\n",
       "        vertical-align: top;\n",
       "    }\n",
       "\n",
       "    .dataframe thead th {\n",
       "        text-align: right;\n",
       "    }\n",
       "</style>\n",
       "<table border=\"1\" class=\"dataframe\">\n",
       "  <thead>\n",
       "    <tr style=\"text-align: right;\">\n",
       "      <th></th>\n",
       "      <th>gen_3_0</th>\n",
       "      <th>gen_5_1</th>\n",
       "      <th>gen_7_2</th>\n",
       "      <th>gen_9_3</th>\n",
       "      <th>gen_11_4</th>\n",
       "      <th>gen_14_5</th>\n",
       "      <th>gen_17_6</th>\n",
       "      <th>gen_18_7</th>\n",
       "      <th>gen_23_8</th>\n",
       "      <th>gen_25_9</th>\n",
       "      <th>...</th>\n",
       "      <th>gen_58_54</th>\n",
       "      <th>gen_53_55</th>\n",
       "      <th>gen_14_56</th>\n",
       "      <th>gen_48_57</th>\n",
       "      <th>gen_55_58</th>\n",
       "      <th>gen_79_59</th>\n",
       "      <th>gen_89_60</th>\n",
       "      <th>gen_61_61</th>\n",
       "      <th>gen_10_62</th>\n",
       "      <th>gen_59_63</th>\n",
       "    </tr>\n",
       "  </thead>\n",
       "  <tbody>\n",
       "    <tr>\n",
       "      <th>253</th>\n",
       "      <td>8.44</td>\n",
       "      <td>3.709539</td>\n",
       "      <td>343.549539</td>\n",
       "      <td>-268.849652</td>\n",
       "      <td>187.705796</td>\n",
       "      <td>-57.251643</td>\n",
       "      <td>188.348659</td>\n",
       "      <td>65.359539</td>\n",
       "      <td>4.099539</td>\n",
       "      <td>343.959539</td>\n",
       "      <td>...</td>\n",
       "      <td>0.0</td>\n",
       "      <td>0.0</td>\n",
       "      <td>0.0</td>\n",
       "      <td>0.0</td>\n",
       "      <td>0.0</td>\n",
       "      <td>0.0</td>\n",
       "      <td>0.0</td>\n",
       "      <td>0.0</td>\n",
       "      <td>0.0</td>\n",
       "      <td>0.0</td>\n",
       "    </tr>\n",
       "    <tr>\n",
       "      <th>254</th>\n",
       "      <td>8.44</td>\n",
       "      <td>3.699539</td>\n",
       "      <td>343.939539</td>\n",
       "      <td>5.260348</td>\n",
       "      <td>183.845796</td>\n",
       "      <td>-57.191643</td>\n",
       "      <td>185.048659</td>\n",
       "      <td>-0.000461</td>\n",
       "      <td>4.099539</td>\n",
       "      <td>343.619539</td>\n",
       "      <td>...</td>\n",
       "      <td>0.0</td>\n",
       "      <td>0.0</td>\n",
       "      <td>0.0</td>\n",
       "      <td>0.0</td>\n",
       "      <td>0.0</td>\n",
       "      <td>0.0</td>\n",
       "      <td>0.0</td>\n",
       "      <td>0.0</td>\n",
       "      <td>0.0</td>\n",
       "      <td>0.0</td>\n",
       "    </tr>\n",
       "    <tr>\n",
       "      <th>255</th>\n",
       "      <td>8.44</td>\n",
       "      <td>3.699539</td>\n",
       "      <td>343.939539</td>\n",
       "      <td>5.260348</td>\n",
       "      <td>183.845796</td>\n",
       "      <td>-57.191643</td>\n",
       "      <td>185.048659</td>\n",
       "      <td>-0.000461</td>\n",
       "      <td>4.099539</td>\n",
       "      <td>343.619539</td>\n",
       "      <td>...</td>\n",
       "      <td>0.0</td>\n",
       "      <td>0.0</td>\n",
       "      <td>0.0</td>\n",
       "      <td>0.0</td>\n",
       "      <td>0.0</td>\n",
       "      <td>0.0</td>\n",
       "      <td>0.0</td>\n",
       "      <td>0.0</td>\n",
       "      <td>0.0</td>\n",
       "      <td>0.0</td>\n",
       "    </tr>\n",
       "  </tbody>\n",
       "</table>\n",
       "<p>3 rows × 64 columns</p>\n",
       "</div>"
      ],
      "text/plain": [
       "     gen_3_0   gen_5_1     gen_7_2     gen_9_3    gen_11_4   gen_14_5  \\\n",
       "253     8.44  3.709539  343.549539 -268.849652  187.705796 -57.251643   \n",
       "254     8.44  3.699539  343.939539    5.260348  183.845796 -57.191643   \n",
       "255     8.44  3.699539  343.939539    5.260348  183.845796 -57.191643   \n",
       "\n",
       "       gen_17_6   gen_18_7  gen_23_8    gen_25_9  ...  gen_58_54  gen_53_55  \\\n",
       "253  188.348659  65.359539  4.099539  343.959539  ...        0.0        0.0   \n",
       "254  185.048659  -0.000461  4.099539  343.619539  ...        0.0        0.0   \n",
       "255  185.048659  -0.000461  4.099539  343.619539  ...        0.0        0.0   \n",
       "\n",
       "     gen_14_56  gen_48_57  gen_55_58  gen_79_59  gen_89_60  gen_61_61  \\\n",
       "253        0.0        0.0        0.0        0.0        0.0        0.0   \n",
       "254        0.0        0.0        0.0        0.0        0.0        0.0   \n",
       "255        0.0        0.0        0.0        0.0        0.0        0.0   \n",
       "\n",
       "     gen_10_62  gen_59_63  \n",
       "253        0.0        0.0  \n",
       "254        0.0        0.0  \n",
       "255        0.0        0.0  \n",
       "\n",
       "[3 rows x 64 columns]"
      ]
     },
     "execution_count": 7,
     "metadata": {},
     "output_type": "execute_result"
    }
   ],
   "source": [
    "prods_p_runner.tail(3)"
   ]
  },
  {
   "cell_type": "markdown",
   "metadata": {},
   "source": [
    "### Load full dispatch and loads"
   ]
  },
  {
   "cell_type": "code",
   "execution_count": 8,
   "metadata": {},
   "outputs": [
    {
     "name": "stdout",
     "output_type": "stream",
     "text": [
      "Total prods with generator lenght 8063 - loads runner 8063\n"
     ]
    }
   ],
   "source": [
    "loads_p_generator = pd.read_csv('generation/output/case118_l2rpn/2012/Scenario_0/load_p.csv.bz2', sep=';')\n",
    "prods_p_generator = pd.read_csv('generation/output/case118_l2rpn/2012/Scenario_0/prod_p.csv.bz2', sep=';')\n",
    "\n",
    "print (f'Total prods with generator lenght {prods_p_generator.shape[0]} - loads runner {loads_p_generator.shape[0]}')"
   ]
  },
  {
   "cell_type": "code",
   "execution_count": 9,
   "metadata": {},
   "outputs": [
    {
     "data": {
      "text/html": [
       "<div>\n",
       "<style scoped>\n",
       "    .dataframe tbody tr th:only-of-type {\n",
       "        vertical-align: middle;\n",
       "    }\n",
       "\n",
       "    .dataframe tbody tr th {\n",
       "        vertical-align: top;\n",
       "    }\n",
       "\n",
       "    .dataframe thead th {\n",
       "        text-align: right;\n",
       "    }\n",
       "</style>\n",
       "<table border=\"1\" class=\"dataframe\">\n",
       "  <thead>\n",
       "    <tr style=\"text-align: right;\">\n",
       "      <th></th>\n",
       "      <th>gen_3_0</th>\n",
       "      <th>gen_5_1</th>\n",
       "      <th>gen_7_2</th>\n",
       "      <th>gen_9_3</th>\n",
       "      <th>gen_11_4</th>\n",
       "      <th>gen_14_5</th>\n",
       "      <th>gen_17_6</th>\n",
       "      <th>gen_18_7</th>\n",
       "      <th>gen_23_8</th>\n",
       "      <th>gen_25_9</th>\n",
       "      <th>...</th>\n",
       "      <th>gen_58_54</th>\n",
       "      <th>gen_53_55</th>\n",
       "      <th>gen_14_56</th>\n",
       "      <th>gen_48_57</th>\n",
       "      <th>gen_55_58</th>\n",
       "      <th>gen_79_59</th>\n",
       "      <th>gen_89_60</th>\n",
       "      <th>gen_61_61</th>\n",
       "      <th>gen_10_62</th>\n",
       "      <th>gen_59_63</th>\n",
       "    </tr>\n",
       "  </thead>\n",
       "  <tbody>\n",
       "    <tr>\n",
       "      <th>8061</th>\n",
       "      <td>1.25</td>\n",
       "      <td>3.7</td>\n",
       "      <td>343.66</td>\n",
       "      <td>0.00</td>\n",
       "      <td>146.80</td>\n",
       "      <td>59.46</td>\n",
       "      <td>146.95</td>\n",
       "      <td>0.0</td>\n",
       "      <td>4.1</td>\n",
       "      <td>343.83</td>\n",
       "      <td>...</td>\n",
       "      <td>0.0</td>\n",
       "      <td>0.0</td>\n",
       "      <td>0.0</td>\n",
       "      <td>0.0</td>\n",
       "      <td>0.0</td>\n",
       "      <td>0.0</td>\n",
       "      <td>0.0</td>\n",
       "      <td>0.0</td>\n",
       "      <td>0.0</td>\n",
       "      <td>0.0</td>\n",
       "    </tr>\n",
       "    <tr>\n",
       "      <th>8062</th>\n",
       "      <td>1.31</td>\n",
       "      <td>3.7</td>\n",
       "      <td>343.71</td>\n",
       "      <td>274.14</td>\n",
       "      <td>144.02</td>\n",
       "      <td>59.47</td>\n",
       "      <td>144.62</td>\n",
       "      <td>65.4</td>\n",
       "      <td>4.1</td>\n",
       "      <td>344.08</td>\n",
       "      <td>...</td>\n",
       "      <td>0.0</td>\n",
       "      <td>0.0</td>\n",
       "      <td>0.0</td>\n",
       "      <td>0.0</td>\n",
       "      <td>0.0</td>\n",
       "      <td>0.0</td>\n",
       "      <td>0.0</td>\n",
       "      <td>0.0</td>\n",
       "      <td>0.0</td>\n",
       "      <td>0.0</td>\n",
       "    </tr>\n",
       "  </tbody>\n",
       "</table>\n",
       "<p>2 rows × 64 columns</p>\n",
       "</div>"
      ],
      "text/plain": [
       "      gen_3_0  gen_5_1  gen_7_2  gen_9_3  gen_11_4  gen_14_5  gen_17_6  \\\n",
       "8061     1.25      3.7   343.66     0.00    146.80     59.46    146.95   \n",
       "8062     1.31      3.7   343.71   274.14    144.02     59.47    144.62   \n",
       "\n",
       "      gen_18_7  gen_23_8  gen_25_9  ...  gen_58_54  gen_53_55  gen_14_56  \\\n",
       "8061       0.0       4.1    343.83  ...        0.0        0.0        0.0   \n",
       "8062      65.4       4.1    344.08  ...        0.0        0.0        0.0   \n",
       "\n",
       "      gen_48_57  gen_55_58  gen_79_59  gen_89_60  gen_61_61  gen_10_62  \\\n",
       "8061        0.0        0.0        0.0        0.0        0.0        0.0   \n",
       "8062        0.0        0.0        0.0        0.0        0.0        0.0   \n",
       "\n",
       "      gen_59_63  \n",
       "8061        0.0  \n",
       "8062        0.0  \n",
       "\n",
       "[2 rows x 64 columns]"
      ]
     },
     "execution_count": 9,
     "metadata": {},
     "output_type": "execute_result"
    }
   ],
   "source": [
    "prods_p_generator.tail(2)"
   ]
  },
  {
   "cell_type": "markdown",
   "metadata": {},
   "source": [
    "#### Check if loads are the same\n",
    "\n",
    "Here we will check if rows are similar between loads_p_{runner and generators}. Just to make sure we are loading same information"
   ]
  },
  {
   "cell_type": "code",
   "execution_count": 10,
   "metadata": {},
   "outputs": [
    {
     "data": {
      "text/plain": [
       "0       True\n",
       "1       True\n",
       "2       True\n",
       "3       True\n",
       "4       True\n",
       "       ...  \n",
       "251     True\n",
       "252     True\n",
       "253     True\n",
       "254     True\n",
       "255    False\n",
       "Length: 256, dtype: bool"
      ]
     },
     "execution_count": 10,
     "metadata": {},
     "output_type": "execute_result"
    }
   ],
   "source": [
    "last_idx_played = loads_p_runner.index[-1]\n",
    "\n",
    "# Compare by rows two loads_p\n",
    "loads_p_runner.eq(loads_p_generator.loc[:last_idx_played-1], axis=0).all(axis=1)"
   ]
  },
  {
   "cell_type": "markdown",
   "metadata": {},
   "source": [
    "There is a inconsistent in the last row"
   ]
  },
  {
   "cell_type": "markdown",
   "metadata": {},
   "source": [
    "### Load grids\n",
    "\n",
    "We will load two different grids to fill information generated by the runner and the generator (implememented by Artelyst)."
   ]
  },
  {
   "cell_type": "code",
   "execution_count": 11,
   "metadata": {},
   "outputs": [],
   "source": [
    "# data_this_episode.meta['grid_path']"
   ]
  },
  {
   "cell_type": "code",
   "execution_count": 12,
   "metadata": {},
   "outputs": [],
   "source": [
    "grid_path = os.path.abspath('generation/input/case118_l2rpn/L2RPN_2020_case118_redesigned.json')"
   ]
  },
  {
   "cell_type": "code",
   "execution_count": 13,
   "metadata": {},
   "outputs": [
    {
     "data": {
      "text/plain": [
       "This pandapower network includes the following parameter tables:\n",
       "   - bus (118 elements)\n",
       "   - load (99 elements)\n",
       "   - gen (64 elements)\n",
       "   - shunt (14 elements)\n",
       "   - line (173 elements)\n",
       "   - trafo (13 elements)\n",
       "   - bus_geodata (118 elements)\n",
       " and the following results tables:\n",
       "   - res_bus (118 elements)\n",
       "   - res_line (173 elements)\n",
       "   - res_trafo (13 elements)\n",
       "   - res_load (99 elements)\n",
       "   - res_shunt (14 elements)\n",
       "   - res_gen (64 elements)"
      ]
     },
     "execution_count": 13,
     "metadata": {},
     "output_type": "execute_result"
    }
   ],
   "source": [
    "# Load the grid using pandapower\n",
    "net = pp.from_json(grid_path)\n",
    "net"
   ]
  },
  {
   "cell_type": "code",
   "execution_count": 21,
   "metadata": {},
   "outputs": [],
   "source": [
    "def check_loads_to_fill(load_r, load_g):\n",
    "    print (f' - LOADS_P from -runner- and -dispatch- are equal ??? -> {load_r.eq(load_g).all()}')\n",
    "    print (f' - Loads form runner have the same net_runner.load.name order ?? -> {np.all(load_r.index == net.load.name)} \\n')"
   ]
  },
  {
   "cell_type": "code",
   "execution_count": 15,
   "metadata": {},
   "outputs": [],
   "source": [
    "def check_prods_to_fill(prod_r, prod_g):\n",
    "    \n",
    "    slack = net.gen.loc[net.gen.slack==True, 'name'].tolist()[0]\n",
    "    print (f'Slack gen name: {slack}')\n",
    "    print (f'- Prods from runner have the same net_runner.gen.name order ?? -> {np.all(prod_r.index == net.gen.name)}\\n')\n",
    "    \n",
    "    # Compare diference in slack bus\n",
    "    print (f'-Slack theorical val (disptach) {prod_g[slack].round(1)} MW \\\n",
    "           \\n-Slack computed val (power flow) {prod_r[slack].round(1)} MW')"
   ]
  },
  {
   "cell_type": "markdown",
   "metadata": {},
   "source": [
    "### Select a time stet to analyze"
   ]
  },
  {
   "cell_type": "code",
   "execution_count": 16,
   "metadata": {},
   "outputs": [],
   "source": [
    "last_valid_step = prods_p_generator.index[-1]\n",
    "\n",
    "step = 10"
   ]
  },
  {
   "cell_type": "code",
   "execution_count": 17,
   "metadata": {},
   "outputs": [],
   "source": [
    "gen_name_grid_order = net.gen.name\n",
    "load_name_grid_order = net.load.name"
   ]
  },
  {
   "cell_type": "code",
   "execution_count": 18,
   "metadata": {},
   "outputs": [],
   "source": [
    "# Extract MW Gen - Load same order as the net_runner to fill the grid\n",
    "if step < last_idx_played:\n",
    "    gen_pw_runner = prods_p_runner.loc[step, gen_name_grid_order]\n",
    "    load_mw_runner = loads_p_runner.loc[step, load_name_grid_order]\n",
    "\n",
    "# Extract MW Gen - Load same order as the net_gener to fill the grid\n",
    "if step < prods_p_generator.shape[0]:\n",
    "    gen_pw_gener = prods_p_generator.loc[step, gen_name_grid_order]\n",
    "    load_mw_gener = loads_p_generator.loc[step, load_name_grid_order]"
   ]
  },
  {
   "cell_type": "markdown",
   "metadata": {},
   "source": [
    "#### Check values before fill in grids"
   ]
  },
  {
   "cell_type": "code",
   "execution_count": 19,
   "metadata": {},
   "outputs": [
    {
     "name": "stdout",
     "output_type": "stream",
     "text": [
      "Slack gen name: gen_68_28\n",
      "- Prods from runner have the same net_runner.gen.name order ?? -> True\n",
      "\n",
      "-Slack theorical val (disptach) 179.4 MW            \n",
      "-Slack computed val (power flow) 377.6 MW\n"
     ]
    }
   ],
   "source": [
    "# Check if prods are equal\n",
    "check_prods_to_fill(gen_pw_runner, gen_pw_gener)"
   ]
  },
  {
   "cell_type": "code",
   "execution_count": 22,
   "metadata": {},
   "outputs": [
    {
     "name": "stdout",
     "output_type": "stream",
     "text": [
      " - LOADS_P from -runner- and -dispatch- are equal ??? -> True\n",
      " - Loads form runner have the same net_runner.load.name order ?? -> True \n",
      "\n"
     ]
    }
   ],
   "source": [
    "# Check if loads are equal\n",
    "check_loads_to_fill(load_mw_runner, load_mw_gener)"
   ]
  },
  {
   "cell_type": "markdown",
   "metadata": {},
   "source": [
    "#### Analysis for runner data"
   ]
  },
  {
   "cell_type": "code",
   "execution_count": 23,
   "metadata": {},
   "outputs": [],
   "source": [
    "# For the runner data\n",
    "net.gen.p_mw = gen_pw_runner.values\n",
    "net.load.p_mw = load_mw_runner.values"
   ]
  },
  {
   "cell_type": "code",
   "execution_count": 25,
   "metadata": {},
   "outputs": [],
   "source": [
    "# Run power flow\n",
    "pp.runpp(net)"
   ]
  },
  {
   "cell_type": "code",
   "execution_count": 26,
   "metadata": {},
   "outputs": [
    {
     "data": {
      "text/html": [
       "<div>\n",
       "<style scoped>\n",
       "    .dataframe tbody tr th:only-of-type {\n",
       "        vertical-align: middle;\n",
       "    }\n",
       "\n",
       "    .dataframe tbody tr th {\n",
       "        vertical-align: top;\n",
       "    }\n",
       "\n",
       "    .dataframe thead th {\n",
       "        text-align: right;\n",
       "    }\n",
       "</style>\n",
       "<table border=\"1\" class=\"dataframe\">\n",
       "  <thead>\n",
       "    <tr style=\"text-align: right;\">\n",
       "      <th></th>\n",
       "      <th>pl_mw</th>\n",
       "      <th>ql_mvar</th>\n",
       "    </tr>\n",
       "    <tr>\n",
       "      <th>name</th>\n",
       "      <th></th>\n",
       "      <th></th>\n",
       "    </tr>\n",
       "  </thead>\n",
       "  <tbody>\n",
       "    <tr>\n",
       "      <th>0_1_0</th>\n",
       "      <td>0.112592</td>\n",
       "      <td>-2.218325</td>\n",
       "    </tr>\n",
       "    <tr>\n",
       "      <th>0_2_1</th>\n",
       "      <td>0.166447</td>\n",
       "      <td>-0.549616</td>\n",
       "    </tr>\n",
       "    <tr>\n",
       "      <th>10_11_2</th>\n",
       "      <td>0.000289</td>\n",
       "      <td>-0.536803</td>\n",
       "    </tr>\n",
       "    <tr>\n",
       "      <th>69_70_3</th>\n",
       "      <td>0.700485</td>\n",
       "      <td>1.879525</td>\n",
       "    </tr>\n",
       "    <tr>\n",
       "      <th>23_71_4</th>\n",
       "      <td>3.258961</td>\n",
       "      <td>7.861693</td>\n",
       "    </tr>\n",
       "    <tr>\n",
       "      <th>...</th>\n",
       "      <td>...</td>\n",
       "      <td>...</td>\n",
       "    </tr>\n",
       "    <tr>\n",
       "      <th>65_66_168</th>\n",
       "      <td>2.542919</td>\n",
       "      <td>8.672143</td>\n",
       "    </tr>\n",
       "    <tr>\n",
       "      <th>46_68_169</th>\n",
       "      <td>6.029969</td>\n",
       "      <td>12.283934</td>\n",
       "    </tr>\n",
       "    <tr>\n",
       "      <th>48_68_170</th>\n",
       "      <td>8.268717</td>\n",
       "      <td>18.328879</td>\n",
       "    </tr>\n",
       "    <tr>\n",
       "      <th>68_69_171</th>\n",
       "      <td>0.501906</td>\n",
       "      <td>-10.944211</td>\n",
       "    </tr>\n",
       "    <tr>\n",
       "      <th>23_69_172</th>\n",
       "      <td>0.160157</td>\n",
       "      <td>18.896697</td>\n",
       "    </tr>\n",
       "  </tbody>\n",
       "</table>\n",
       "<p>173 rows × 2 columns</p>\n",
       "</div>"
      ],
      "text/plain": [
       "              pl_mw    ql_mvar\n",
       "name                          \n",
       "0_1_0      0.112592  -2.218325\n",
       "0_2_1      0.166447  -0.549616\n",
       "10_11_2    0.000289  -0.536803\n",
       "69_70_3    0.700485   1.879525\n",
       "23_71_4    3.258961   7.861693\n",
       "...             ...        ...\n",
       "65_66_168  2.542919   8.672143\n",
       "46_68_169  6.029969  12.283934\n",
       "48_68_170  8.268717  18.328879\n",
       "68_69_171  0.501906 -10.944211\n",
       "23_69_172  0.160157  18.896697\n",
       "\n",
       "[173 rows x 2 columns]"
      ]
     },
     "execution_count": 26,
     "metadata": {},
     "output_type": "execute_result"
    }
   ],
   "source": [
    "looses = net.res_line[['pl_mw', 'ql_mvar']]\n",
    "looses.index = net.line.name\n",
    "looses"
   ]
  },
  {
   "cell_type": "code",
   "execution_count": 27,
   "metadata": {},
   "outputs": [
    {
     "data": {
      "text/plain": [
       "<matplotlib.axes._subplots.AxesSubplot at 0x1562c6d10>"
      ]
     },
     "execution_count": 27,
     "metadata": {},
     "output_type": "execute_result"
    },
    {
     "data": {
      "image/png": "[encoded data removed]",
      "text/plain": [
       "<Figure size 432x288 with 1 Axes>"
      ]
     },
     "metadata": {
      "needs_background": "light"
     },
     "output_type": "display_data"
    }
   ],
   "source": [
    "looses.pl_mw.plot.hist(bins=20, title='Losses histogram')"
   ]
  },
  {
   "cell_type": "code",
   "execution_count": 28,
   "metadata": {},
   "outputs": [
    {
     "data": {
      "text/html": [
       "<div>\n",
       "<style scoped>\n",
       "    .dataframe tbody tr th:only-of-type {\n",
       "        vertical-align: middle;\n",
       "    }\n",
       "\n",
       "    .dataframe tbody tr th {\n",
       "        vertical-align: top;\n",
       "    }\n",
       "\n",
       "    .dataframe thead th {\n",
       "        text-align: right;\n",
       "    }\n",
       "</style>\n",
       "<table border=\"1\" class=\"dataframe\">\n",
       "  <thead>\n",
       "    <tr style=\"text-align: right;\">\n",
       "      <th></th>\n",
       "      <th>min</th>\n",
       "      <th>max</th>\n",
       "      <th>mean</th>\n",
       "      <th>median</th>\n",
       "    </tr>\n",
       "  </thead>\n",
       "  <tbody>\n",
       "    <tr>\n",
       "      <th>pl_mw</th>\n",
       "      <td>-5.195844e-14</td>\n",
       "      <td>36.690263</td>\n",
       "      <td>1.529101</td>\n",
       "      <td>0.197208</td>\n",
       "    </tr>\n",
       "    <tr>\n",
       "      <th>ql_mvar</th>\n",
       "      <td>-1.330878e+02</td>\n",
       "      <td>108.806785</td>\n",
       "      <td>-0.923414</td>\n",
       "      <td>-1.403237</td>\n",
       "    </tr>\n",
       "  </tbody>\n",
       "</table>\n",
       "</div>"
      ],
      "text/plain": [
       "                  min         max      mean    median\n",
       "pl_mw   -5.195844e-14   36.690263  1.529101  0.197208\n",
       "ql_mvar -1.330878e+02  108.806785 -0.923414 -1.403237"
      ]
     },
     "execution_count": 28,
     "metadata": {},
     "output_type": "execute_result"
    }
   ],
   "source": [
    "looses.agg(['min', 'max', 'mean', 'median']).T"
   ]
  },
  {
   "cell_type": "code",
   "execution_count": 29,
   "metadata": {},
   "outputs": [
    {
     "name": "stdout",
     "output_type": "stream",
     "text": [
      "Losses in % 8.76\n"
     ]
    }
   ],
   "source": [
    "loss_in_percen = 100 * looses.pl_mw.sum() / net.gen.p_mw.sum()\n",
    "loss_in_percen = round(loss_in_percen, 2)\n",
    "\n",
    "print (f'Losses in % {loss_in_percen}')"
   ]
  },
  {
   "cell_type": "code",
   "execution_count": 30,
   "metadata": {},
   "outputs": [
    {
     "data": {
      "text/html": [
       "<div>\n",
       "<style scoped>\n",
       "    .dataframe tbody tr th:only-of-type {\n",
       "        vertical-align: middle;\n",
       "    }\n",
       "\n",
       "    .dataframe tbody tr th {\n",
       "        vertical-align: top;\n",
       "    }\n",
       "\n",
       "    .dataframe thead th {\n",
       "        text-align: right;\n",
       "    }\n",
       "</style>\n",
       "<table border=\"1\" class=\"dataframe\">\n",
       "  <thead>\n",
       "    <tr style=\"text-align: right;\">\n",
       "      <th></th>\n",
       "      <th>pl_mw</th>\n",
       "    </tr>\n",
       "    <tr>\n",
       "      <th>name</th>\n",
       "      <th></th>\n",
       "    </tr>\n",
       "  </thead>\n",
       "  <tbody>\n",
       "    <tr>\n",
       "      <th>68_74_9</th>\n",
       "      <td>7.191049</td>\n",
       "    </tr>\n",
       "    <tr>\n",
       "      <th>68_76_12</th>\n",
       "      <td>36.690263</td>\n",
       "    </tr>\n",
       "    <tr>\n",
       "      <th>74_76_14</th>\n",
       "      <td>5.133170</td>\n",
       "    </tr>\n",
       "    <tr>\n",
       "      <th>76_81_20</th>\n",
       "      <td>30.360644</td>\n",
       "    </tr>\n",
       "    <tr>\n",
       "      <th>79_95_41</th>\n",
       "      <td>8.230669</td>\n",
       "    </tr>\n",
       "    <tr>\n",
       "      <th>93_95_43</th>\n",
       "      <td>5.571486</td>\n",
       "    </tr>\n",
       "    <tr>\n",
       "      <th>79_97_45</th>\n",
       "      <td>6.785038</td>\n",
       "    </tr>\n",
       "    <tr>\n",
       "      <th>79_98_47</th>\n",
       "      <td>11.970386</td>\n",
       "    </tr>\n",
       "    <tr>\n",
       "      <th>97_99_52</th>\n",
       "      <td>9.283997</td>\n",
       "    </tr>\n",
       "    <tr>\n",
       "      <th>48_65_164</th>\n",
       "      <td>5.850414</td>\n",
       "    </tr>\n",
       "    <tr>\n",
       "      <th>48_65_165</th>\n",
       "      <td>5.850414</td>\n",
       "    </tr>\n",
       "    <tr>\n",
       "      <th>46_68_169</th>\n",
       "      <td>6.029969</td>\n",
       "    </tr>\n",
       "    <tr>\n",
       "      <th>48_68_170</th>\n",
       "      <td>8.268717</td>\n",
       "    </tr>\n",
       "  </tbody>\n",
       "</table>\n",
       "</div>"
      ],
      "text/plain": [
       "               pl_mw\n",
       "name                \n",
       "68_74_9     7.191049\n",
       "68_76_12   36.690263\n",
       "74_76_14    5.133170\n",
       "76_81_20   30.360644\n",
       "79_95_41    8.230669\n",
       "93_95_43    5.571486\n",
       "79_97_45    6.785038\n",
       "79_98_47   11.970386\n",
       "97_99_52    9.283997\n",
       "48_65_164   5.850414\n",
       "48_65_165   5.850414\n",
       "46_68_169   6.029969\n",
       "48_68_170   8.268717"
      ]
     },
     "execution_count": 30,
     "metadata": {},
     "output_type": "execute_result"
    }
   ],
   "source": [
    "# Larger lines with losses\n",
    "criteria = 5 # MW\n",
    "\n",
    "larger_line_losses = looses.loc[looses.pl_mw > criteria, ['pl_mw']]\n",
    "larger_line_losses"
   ]
  },
  {
   "cell_type": "code",
   "execution_count": null,
   "metadata": {},
   "outputs": [],
   "source": [
    "from_bus = net_runner.line.set_index('name').loc[larger_line_losses.index, 'from_bus'].values\n",
    "to_bus = net_runner.line.set_index('name').loc[larger_line_losses.index, 'to_bus'].values"
   ]
  },
  {
   "cell_type": "markdown",
   "metadata": {},
   "source": [
    "#### Analysis for full dipatch data"
   ]
  },
  {
   "cell_type": "code",
   "execution_count": null,
   "metadata": {},
   "outputs": [],
   "source": [
    "# # For full dispatch data\n",
    "# net_gener.gen.p_mw = gen_pw_gener.values\n",
    "net_gener.load.p_mw = load_mw_gener.values"
   ]
  },
  {
   "cell_type": "code",
   "execution_count": null,
   "metadata": {},
   "outputs": [],
   "source": [
    "# # Run Power flow\n",
    "# pp.runpp(net_gener)"
   ]
  },
  {
   "cell_type": "code",
   "execution_count": null,
   "metadata": {},
   "outputs": [],
   "source": [
    "# looses = net_runner.res_line[['pl_mw', 'ql_mvar']]\n",
    "# looses.index = net_runner.line.name\n",
    "# looses"
   ]
  },
  {
   "cell_type": "code",
   "execution_count": null,
   "metadata": {},
   "outputs": [],
   "source": [
    "# loss_in_percen = 100 * looses.pl_mw.sum() / net_runner.gen.p_mw.sum()\n",
    "# loss_in_percen = round(loss_in_percen, 2)\n",
    "\n",
    "# print (f'Losses in % {loss_in_percen}')"
   ]
  },
  {
   "cell_type": "code",
   "execution_count": null,
   "metadata": {},
   "outputs": [],
   "source": []
  }
 ],
 "metadata": {
  "kernelspec": {
   "display_name": "Python 3",
   "language": "python",
   "name": "python3"
  },
  "language_info": {
   "codemirror_mode": {
    "name": "ipython",
    "version": 3
   },
   "file_extension": ".py",
   "mimetype": "text/x-python",
   "name": "python",
   "nbconvert_exporter": "python",
   "pygments_lexer": "ipython3",
   "version": "3.7.5"
  }
 },
 "nbformat": 4,
 "nbformat_minor": 4
}
